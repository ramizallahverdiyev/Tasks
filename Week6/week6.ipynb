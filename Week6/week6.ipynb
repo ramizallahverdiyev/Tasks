{
 "cells": [
  {
   "cell_type": "code",
   "execution_count": 2,
   "id": "49c438d0",
   "metadata": {},
   "outputs": [],
   "source": [
    "import pandas as pd\n",
    "import numpy as np\n",
    "import matplotlib.pyplot as plt\n",
    "import seaborn as sns\n",
    "\n",
    "pd.options.display.max_columns = 100\n",
    "pd.options.display.max_rows = 100"
   ]
  },
  {
   "cell_type": "code",
   "execution_count": 3,
   "id": "4700f60f",
   "metadata": {},
   "outputs": [],
   "source": [
    "import warnings\n",
    "warnings.filterwarnings('ignore', category=FutureWarning)"
   ]
  },
  {
   "cell_type": "code",
   "execution_count": 4,
   "id": "b81bf022",
   "metadata": {},
   "outputs": [],
   "source": [
    "import copy"
   ]
  },
  {
   "cell_type": "code",
   "execution_count": 5,
   "id": "4b660441",
   "metadata": {},
   "outputs": [],
   "source": [
    "data = pd.read_csv('loan_prediction.csv')\n",
    "df = copy.deepcopy(data)"
   ]
  },
  {
   "cell_type": "code",
   "execution_count": 6,
   "id": "265fbada",
   "metadata": {},
   "outputs": [
    {
     "data": {
      "application/vnd.microsoft.datawrangler.viewer.v0+json": {
       "columns": [
        {
         "name": "index",
         "rawType": "int64",
         "type": "integer"
        },
        {
         "name": "Loan_ID",
         "rawType": "object",
         "type": "string"
        },
        {
         "name": "Gender",
         "rawType": "object",
         "type": "string"
        },
        {
         "name": "Married",
         "rawType": "object",
         "type": "string"
        },
        {
         "name": "Dependents",
         "rawType": "object",
         "type": "string"
        },
        {
         "name": "Education",
         "rawType": "object",
         "type": "string"
        },
        {
         "name": "Self_Employed",
         "rawType": "object",
         "type": "string"
        },
        {
         "name": "ApplicantIncome",
         "rawType": "int64",
         "type": "integer"
        },
        {
         "name": "CoapplicantIncome",
         "rawType": "float64",
         "type": "float"
        },
        {
         "name": "LoanAmount",
         "rawType": "float64",
         "type": "float"
        },
        {
         "name": "Loan_Amount_Term",
         "rawType": "float64",
         "type": "float"
        },
        {
         "name": "Credit_History",
         "rawType": "float64",
         "type": "float"
        },
        {
         "name": "Property_Area",
         "rawType": "object",
         "type": "string"
        },
        {
         "name": "Loan_Status",
         "rawType": "object",
         "type": "string"
        }
       ],
       "conversionMethod": "pd.DataFrame",
       "ref": "8f60f001-e3cf-4958-a5f9-c48a31ec9783",
       "rows": [
        [
         "0",
         "LP001002",
         "Male",
         "No",
         "0",
         "Graduate",
         "No",
         "5849",
         "0.0",
         null,
         "360.0",
         "1.0",
         "Urban",
         "Y"
        ],
        [
         "1",
         "LP001003",
         "Male",
         "Yes",
         "1",
         "Graduate",
         "No",
         "4583",
         "1508.0",
         "128.0",
         "360.0",
         "1.0",
         "Rural",
         "N"
        ],
        [
         "2",
         "LP001005",
         "Male",
         "Yes",
         "0",
         "Graduate",
         "Yes",
         "3000",
         "0.0",
         "66.0",
         "360.0",
         "1.0",
         "Urban",
         "Y"
        ],
        [
         "3",
         "LP001006",
         "Male",
         "Yes",
         "0",
         "Not Graduate",
         "No",
         "2583",
         "2358.0",
         "120.0",
         "360.0",
         "1.0",
         "Urban",
         "Y"
        ],
        [
         "4",
         "LP001008",
         "Male",
         "No",
         "0",
         "Graduate",
         "No",
         "6000",
         "0.0",
         "141.0",
         "360.0",
         "1.0",
         "Urban",
         "Y"
        ]
       ],
       "shape": {
        "columns": 13,
        "rows": 5
       }
      },
      "text/html": [
       "<div>\n",
       "<style scoped>\n",
       "    .dataframe tbody tr th:only-of-type {\n",
       "        vertical-align: middle;\n",
       "    }\n",
       "\n",
       "    .dataframe tbody tr th {\n",
       "        vertical-align: top;\n",
       "    }\n",
       "\n",
       "    .dataframe thead th {\n",
       "        text-align: right;\n",
       "    }\n",
       "</style>\n",
       "<table border=\"1\" class=\"dataframe\">\n",
       "  <thead>\n",
       "    <tr style=\"text-align: right;\">\n",
       "      <th></th>\n",
       "      <th>Loan_ID</th>\n",
       "      <th>Gender</th>\n",
       "      <th>Married</th>\n",
       "      <th>Dependents</th>\n",
       "      <th>Education</th>\n",
       "      <th>Self_Employed</th>\n",
       "      <th>ApplicantIncome</th>\n",
       "      <th>CoapplicantIncome</th>\n",
       "      <th>LoanAmount</th>\n",
       "      <th>Loan_Amount_Term</th>\n",
       "      <th>Credit_History</th>\n",
       "      <th>Property_Area</th>\n",
       "      <th>Loan_Status</th>\n",
       "    </tr>\n",
       "  </thead>\n",
       "  <tbody>\n",
       "    <tr>\n",
       "      <th>0</th>\n",
       "      <td>LP001002</td>\n",
       "      <td>Male</td>\n",
       "      <td>No</td>\n",
       "      <td>0</td>\n",
       "      <td>Graduate</td>\n",
       "      <td>No</td>\n",
       "      <td>5849</td>\n",
       "      <td>0.0</td>\n",
       "      <td>NaN</td>\n",
       "      <td>360.0</td>\n",
       "      <td>1.0</td>\n",
       "      <td>Urban</td>\n",
       "      <td>Y</td>\n",
       "    </tr>\n",
       "    <tr>\n",
       "      <th>1</th>\n",
       "      <td>LP001003</td>\n",
       "      <td>Male</td>\n",
       "      <td>Yes</td>\n",
       "      <td>1</td>\n",
       "      <td>Graduate</td>\n",
       "      <td>No</td>\n",
       "      <td>4583</td>\n",
       "      <td>1508.0</td>\n",
       "      <td>128.0</td>\n",
       "      <td>360.0</td>\n",
       "      <td>1.0</td>\n",
       "      <td>Rural</td>\n",
       "      <td>N</td>\n",
       "    </tr>\n",
       "    <tr>\n",
       "      <th>2</th>\n",
       "      <td>LP001005</td>\n",
       "      <td>Male</td>\n",
       "      <td>Yes</td>\n",
       "      <td>0</td>\n",
       "      <td>Graduate</td>\n",
       "      <td>Yes</td>\n",
       "      <td>3000</td>\n",
       "      <td>0.0</td>\n",
       "      <td>66.0</td>\n",
       "      <td>360.0</td>\n",
       "      <td>1.0</td>\n",
       "      <td>Urban</td>\n",
       "      <td>Y</td>\n",
       "    </tr>\n",
       "    <tr>\n",
       "      <th>3</th>\n",
       "      <td>LP001006</td>\n",
       "      <td>Male</td>\n",
       "      <td>Yes</td>\n",
       "      <td>0</td>\n",
       "      <td>Not Graduate</td>\n",
       "      <td>No</td>\n",
       "      <td>2583</td>\n",
       "      <td>2358.0</td>\n",
       "      <td>120.0</td>\n",
       "      <td>360.0</td>\n",
       "      <td>1.0</td>\n",
       "      <td>Urban</td>\n",
       "      <td>Y</td>\n",
       "    </tr>\n",
       "    <tr>\n",
       "      <th>4</th>\n",
       "      <td>LP001008</td>\n",
       "      <td>Male</td>\n",
       "      <td>No</td>\n",
       "      <td>0</td>\n",
       "      <td>Graduate</td>\n",
       "      <td>No</td>\n",
       "      <td>6000</td>\n",
       "      <td>0.0</td>\n",
       "      <td>141.0</td>\n",
       "      <td>360.0</td>\n",
       "      <td>1.0</td>\n",
       "      <td>Urban</td>\n",
       "      <td>Y</td>\n",
       "    </tr>\n",
       "  </tbody>\n",
       "</table>\n",
       "</div>"
      ],
      "text/plain": [
       "    Loan_ID Gender Married Dependents     Education Self_Employed  \\\n",
       "0  LP001002   Male      No          0      Graduate            No   \n",
       "1  LP001003   Male     Yes          1      Graduate            No   \n",
       "2  LP001005   Male     Yes          0      Graduate           Yes   \n",
       "3  LP001006   Male     Yes          0  Not Graduate            No   \n",
       "4  LP001008   Male      No          0      Graduate            No   \n",
       "\n",
       "   ApplicantIncome  CoapplicantIncome  LoanAmount  Loan_Amount_Term  \\\n",
       "0             5849                0.0         NaN             360.0   \n",
       "1             4583             1508.0       128.0             360.0   \n",
       "2             3000                0.0        66.0             360.0   \n",
       "3             2583             2358.0       120.0             360.0   \n",
       "4             6000                0.0       141.0             360.0   \n",
       "\n",
       "   Credit_History Property_Area Loan_Status  \n",
       "0             1.0         Urban           Y  \n",
       "1             1.0         Rural           N  \n",
       "2             1.0         Urban           Y  \n",
       "3             1.0         Urban           Y  \n",
       "4             1.0         Urban           Y  "
      ]
     },
     "execution_count": 6,
     "metadata": {},
     "output_type": "execute_result"
    }
   ],
   "source": [
    "df.head()"
   ]
  },
  {
   "cell_type": "code",
   "execution_count": 7,
   "id": "8f8f502b",
   "metadata": {},
   "outputs": [
    {
     "name": "stdout",
     "output_type": "stream",
     "text": [
      "<class 'pandas.core.frame.DataFrame'>\n",
      "RangeIndex: 614 entries, 0 to 613\n",
      "Data columns (total 13 columns):\n",
      " #   Column             Non-Null Count  Dtype  \n",
      "---  ------             --------------  -----  \n",
      " 0   Loan_ID            614 non-null    object \n",
      " 1   Gender             601 non-null    object \n",
      " 2   Married            611 non-null    object \n",
      " 3   Dependents         599 non-null    object \n",
      " 4   Education          614 non-null    object \n",
      " 5   Self_Employed      582 non-null    object \n",
      " 6   ApplicantIncome    614 non-null    int64  \n",
      " 7   CoapplicantIncome  614 non-null    float64\n",
      " 8   LoanAmount         592 non-null    float64\n",
      " 9   Loan_Amount_Term   600 non-null    float64\n",
      " 10  Credit_History     564 non-null    float64\n",
      " 11  Property_Area      614 non-null    object \n",
      " 12  Loan_Status        614 non-null    object \n",
      "dtypes: float64(4), int64(1), object(8)\n",
      "memory usage: 62.5+ KB\n"
     ]
    }
   ],
   "source": [
    "df.info()"
   ]
  },
  {
   "cell_type": "code",
   "execution_count": 8,
   "id": "badf04e1",
   "metadata": {},
   "outputs": [
    {
     "data": {
      "text/plain": [
       "Loan_ID               0\n",
       "Gender               13\n",
       "Married               3\n",
       "Dependents           15\n",
       "Education             0\n",
       "Self_Employed        32\n",
       "ApplicantIncome       0\n",
       "CoapplicantIncome     0\n",
       "LoanAmount           22\n",
       "Loan_Amount_Term     14\n",
       "Credit_History       50\n",
       "Property_Area         0\n",
       "Loan_Status           0\n",
       "dtype: int64"
      ]
     },
     "execution_count": 8,
     "metadata": {},
     "output_type": "execute_result"
    }
   ],
   "source": [
    "df.isnull().sum()"
   ]
  },
  {
   "cell_type": "code",
   "execution_count": 9,
   "id": "c0e4361e",
   "metadata": {},
   "outputs": [
    {
     "data": {
      "text/plain": [
       "Gender\n",
       "Male      489\n",
       "Female    112\n",
       "Name: count, dtype: int64"
      ]
     },
     "execution_count": 9,
     "metadata": {},
     "output_type": "execute_result"
    }
   ],
   "source": [
    "df['Gender'].value_counts()"
   ]
  },
  {
   "cell_type": "code",
   "execution_count": 10,
   "id": "998cf72d",
   "metadata": {},
   "outputs": [],
   "source": [
    "cat_cols_with_na = ['Gender', 'Married', 'Dependents', 'Self_Employed', 'Credit_History']\n",
    "for col in cat_cols_with_na:\n",
    "    df[col].fillna(df[col].mode()[0], inplace=True)\n",
    "\n",
    "num_cols_with_na = ['LoanAmount', 'Loan_Amount_Term']\n",
    "for col in num_cols_with_na:\n",
    "    df[col].fillna(df[col].median(), inplace=True)"
   ]
  },
  {
   "cell_type": "code",
   "execution_count": 11,
   "id": "6dd70353",
   "metadata": {},
   "outputs": [
    {
     "name": "stdout",
     "output_type": "stream",
     "text": [
      "Missing Values After Imputation:\n",
      "Loan_ID              0\n",
      "Gender               0\n",
      "Married              0\n",
      "Dependents           0\n",
      "Education            0\n",
      "Self_Employed        0\n",
      "ApplicantIncome      0\n",
      "CoapplicantIncome    0\n",
      "LoanAmount           0\n",
      "Loan_Amount_Term     0\n",
      "Credit_History       0\n",
      "Property_Area        0\n",
      "Loan_Status          0\n",
      "dtype: int64\n",
      "------------------------------\n"
     ]
    }
   ],
   "source": [
    "print(\"Missing Values After Imputation:\")\n",
    "print(df.isnull().sum())\n",
    "print(\"-\" * 30)\n"
   ]
  },
  {
   "cell_type": "code",
   "execution_count": 12,
   "id": "b07ad0bb",
   "metadata": {},
   "outputs": [
    {
     "data": {
      "text/plain": [
       "Dependents\n",
       "0     360\n",
       "1     102\n",
       "2     101\n",
       "3+     51\n",
       "Name: count, dtype: int64"
      ]
     },
     "execution_count": 12,
     "metadata": {},
     "output_type": "execute_result"
    }
   ],
   "source": [
    "df['Dependents'].value_counts()"
   ]
  },
  {
   "cell_type": "code",
   "execution_count": 13,
   "id": "29d67d83",
   "metadata": {},
   "outputs": [],
   "source": [
    "df = df.drop('Loan_ID', axis=1)"
   ]
  },
  {
   "cell_type": "code",
   "execution_count": 14,
   "id": "f4ff45dd",
   "metadata": {},
   "outputs": [
    {
     "data": {
      "text/plain": [
       "Loan_Status\n",
       "Y    422\n",
       "N    192\n",
       "Name: count, dtype: int64"
      ]
     },
     "execution_count": 14,
     "metadata": {},
     "output_type": "execute_result"
    }
   ],
   "source": [
    "df['Loan_Status'].value_counts()"
   ]
  },
  {
   "cell_type": "code",
   "execution_count": 15,
   "id": "65ba4c5d",
   "metadata": {},
   "outputs": [],
   "source": [
    "df['Loan_Status'] = df['Loan_Status'].map({'Y': 1, 'N': 0})"
   ]
  },
  {
   "cell_type": "code",
   "execution_count": 16,
   "id": "21ea2acb",
   "metadata": {},
   "outputs": [
    {
     "name": "stdout",
     "output_type": "stream",
     "text": [
      "<class 'pandas.core.frame.DataFrame'>\n",
      "RangeIndex: 614 entries, 0 to 613\n",
      "Data columns (total 12 columns):\n",
      " #   Column             Non-Null Count  Dtype  \n",
      "---  ------             --------------  -----  \n",
      " 0   Gender             614 non-null    object \n",
      " 1   Married            614 non-null    object \n",
      " 2   Dependents         614 non-null    object \n",
      " 3   Education          614 non-null    object \n",
      " 4   Self_Employed      614 non-null    object \n",
      " 5   ApplicantIncome    614 non-null    int64  \n",
      " 6   CoapplicantIncome  614 non-null    float64\n",
      " 7   LoanAmount         614 non-null    float64\n",
      " 8   Loan_Amount_Term   614 non-null    float64\n",
      " 9   Credit_History     614 non-null    float64\n",
      " 10  Property_Area      614 non-null    object \n",
      " 11  Loan_Status        614 non-null    int64  \n",
      "dtypes: float64(4), int64(2), object(6)\n",
      "memory usage: 57.7+ KB\n"
     ]
    }
   ],
   "source": [
    "df.info()"
   ]
  },
  {
   "cell_type": "code",
   "execution_count": 17,
   "id": "6d10cda3",
   "metadata": {},
   "outputs": [
    {
     "name": "stdout",
     "output_type": "stream",
     "text": [
      "Categorical columns to encode: ['Gender', 'Married', 'Dependents', 'Education', 'Self_Employed', 'Property_Area']\n"
     ]
    }
   ],
   "source": [
    "categorical_cols = df.select_dtypes(include='object').columns\n",
    "print(f\"Categorical columns to encode: {list(categorical_cols)}\")"
   ]
  },
  {
   "cell_type": "code",
   "execution_count": 18,
   "id": "e0687aa4",
   "metadata": {},
   "outputs": [],
   "source": [
    "df = pd.get_dummies(df, columns=categorical_cols, drop_first=True)"
   ]
  },
  {
   "cell_type": "code",
   "execution_count": 19,
   "id": "f5f8ed45",
   "metadata": {},
   "outputs": [
    {
     "name": "stdout",
     "output_type": "stream",
     "text": [
      "Data Head After Preprocessing and Encoding:\n"
     ]
    },
    {
     "data": {
      "application/vnd.microsoft.datawrangler.viewer.v0+json": {
       "columns": [
        {
         "name": "index",
         "rawType": "int64",
         "type": "integer"
        },
        {
         "name": "ApplicantIncome",
         "rawType": "int64",
         "type": "integer"
        },
        {
         "name": "CoapplicantIncome",
         "rawType": "float64",
         "type": "float"
        },
        {
         "name": "LoanAmount",
         "rawType": "float64",
         "type": "float"
        },
        {
         "name": "Loan_Amount_Term",
         "rawType": "float64",
         "type": "float"
        },
        {
         "name": "Credit_History",
         "rawType": "float64",
         "type": "float"
        },
        {
         "name": "Loan_Status",
         "rawType": "int64",
         "type": "integer"
        },
        {
         "name": "Gender_Male",
         "rawType": "bool",
         "type": "boolean"
        },
        {
         "name": "Married_Yes",
         "rawType": "bool",
         "type": "boolean"
        },
        {
         "name": "Dependents_1",
         "rawType": "bool",
         "type": "boolean"
        },
        {
         "name": "Dependents_2",
         "rawType": "bool",
         "type": "boolean"
        },
        {
         "name": "Dependents_3+",
         "rawType": "bool",
         "type": "boolean"
        },
        {
         "name": "Education_Not Graduate",
         "rawType": "bool",
         "type": "boolean"
        },
        {
         "name": "Self_Employed_Yes",
         "rawType": "bool",
         "type": "boolean"
        },
        {
         "name": "Property_Area_Semiurban",
         "rawType": "bool",
         "type": "boolean"
        },
        {
         "name": "Property_Area_Urban",
         "rawType": "bool",
         "type": "boolean"
        }
       ],
       "conversionMethod": "pd.DataFrame",
       "ref": "8f2d8de7-6b4f-4cbc-bfcd-b18845900191",
       "rows": [
        [
         "0",
         "5849",
         "0.0",
         "128.0",
         "360.0",
         "1.0",
         "1",
         "True",
         "False",
         "False",
         "False",
         "False",
         "False",
         "False",
         "False",
         "True"
        ],
        [
         "1",
         "4583",
         "1508.0",
         "128.0",
         "360.0",
         "1.0",
         "0",
         "True",
         "True",
         "True",
         "False",
         "False",
         "False",
         "False",
         "False",
         "False"
        ],
        [
         "2",
         "3000",
         "0.0",
         "66.0",
         "360.0",
         "1.0",
         "1",
         "True",
         "True",
         "False",
         "False",
         "False",
         "False",
         "True",
         "False",
         "True"
        ],
        [
         "3",
         "2583",
         "2358.0",
         "120.0",
         "360.0",
         "1.0",
         "1",
         "True",
         "True",
         "False",
         "False",
         "False",
         "True",
         "False",
         "False",
         "True"
        ],
        [
         "4",
         "6000",
         "0.0",
         "141.0",
         "360.0",
         "1.0",
         "1",
         "True",
         "False",
         "False",
         "False",
         "False",
         "False",
         "False",
         "False",
         "True"
        ]
       ],
       "shape": {
        "columns": 15,
        "rows": 5
       }
      },
      "text/html": [
       "<div>\n",
       "<style scoped>\n",
       "    .dataframe tbody tr th:only-of-type {\n",
       "        vertical-align: middle;\n",
       "    }\n",
       "\n",
       "    .dataframe tbody tr th {\n",
       "        vertical-align: top;\n",
       "    }\n",
       "\n",
       "    .dataframe thead th {\n",
       "        text-align: right;\n",
       "    }\n",
       "</style>\n",
       "<table border=\"1\" class=\"dataframe\">\n",
       "  <thead>\n",
       "    <tr style=\"text-align: right;\">\n",
       "      <th></th>\n",
       "      <th>ApplicantIncome</th>\n",
       "      <th>CoapplicantIncome</th>\n",
       "      <th>LoanAmount</th>\n",
       "      <th>Loan_Amount_Term</th>\n",
       "      <th>Credit_History</th>\n",
       "      <th>Loan_Status</th>\n",
       "      <th>Gender_Male</th>\n",
       "      <th>Married_Yes</th>\n",
       "      <th>Dependents_1</th>\n",
       "      <th>Dependents_2</th>\n",
       "      <th>Dependents_3+</th>\n",
       "      <th>Education_Not Graduate</th>\n",
       "      <th>Self_Employed_Yes</th>\n",
       "      <th>Property_Area_Semiurban</th>\n",
       "      <th>Property_Area_Urban</th>\n",
       "    </tr>\n",
       "  </thead>\n",
       "  <tbody>\n",
       "    <tr>\n",
       "      <th>0</th>\n",
       "      <td>5849</td>\n",
       "      <td>0.0</td>\n",
       "      <td>128.0</td>\n",
       "      <td>360.0</td>\n",
       "      <td>1.0</td>\n",
       "      <td>1</td>\n",
       "      <td>True</td>\n",
       "      <td>False</td>\n",
       "      <td>False</td>\n",
       "      <td>False</td>\n",
       "      <td>False</td>\n",
       "      <td>False</td>\n",
       "      <td>False</td>\n",
       "      <td>False</td>\n",
       "      <td>True</td>\n",
       "    </tr>\n",
       "    <tr>\n",
       "      <th>1</th>\n",
       "      <td>4583</td>\n",
       "      <td>1508.0</td>\n",
       "      <td>128.0</td>\n",
       "      <td>360.0</td>\n",
       "      <td>1.0</td>\n",
       "      <td>0</td>\n",
       "      <td>True</td>\n",
       "      <td>True</td>\n",
       "      <td>True</td>\n",
       "      <td>False</td>\n",
       "      <td>False</td>\n",
       "      <td>False</td>\n",
       "      <td>False</td>\n",
       "      <td>False</td>\n",
       "      <td>False</td>\n",
       "    </tr>\n",
       "    <tr>\n",
       "      <th>2</th>\n",
       "      <td>3000</td>\n",
       "      <td>0.0</td>\n",
       "      <td>66.0</td>\n",
       "      <td>360.0</td>\n",
       "      <td>1.0</td>\n",
       "      <td>1</td>\n",
       "      <td>True</td>\n",
       "      <td>True</td>\n",
       "      <td>False</td>\n",
       "      <td>False</td>\n",
       "      <td>False</td>\n",
       "      <td>False</td>\n",
       "      <td>True</td>\n",
       "      <td>False</td>\n",
       "      <td>True</td>\n",
       "    </tr>\n",
       "    <tr>\n",
       "      <th>3</th>\n",
       "      <td>2583</td>\n",
       "      <td>2358.0</td>\n",
       "      <td>120.0</td>\n",
       "      <td>360.0</td>\n",
       "      <td>1.0</td>\n",
       "      <td>1</td>\n",
       "      <td>True</td>\n",
       "      <td>True</td>\n",
       "      <td>False</td>\n",
       "      <td>False</td>\n",
       "      <td>False</td>\n",
       "      <td>True</td>\n",
       "      <td>False</td>\n",
       "      <td>False</td>\n",
       "      <td>True</td>\n",
       "    </tr>\n",
       "    <tr>\n",
       "      <th>4</th>\n",
       "      <td>6000</td>\n",
       "      <td>0.0</td>\n",
       "      <td>141.0</td>\n",
       "      <td>360.0</td>\n",
       "      <td>1.0</td>\n",
       "      <td>1</td>\n",
       "      <td>True</td>\n",
       "      <td>False</td>\n",
       "      <td>False</td>\n",
       "      <td>False</td>\n",
       "      <td>False</td>\n",
       "      <td>False</td>\n",
       "      <td>False</td>\n",
       "      <td>False</td>\n",
       "      <td>True</td>\n",
       "    </tr>\n",
       "  </tbody>\n",
       "</table>\n",
       "</div>"
      ],
      "text/plain": [
       "   ApplicantIncome  CoapplicantIncome  LoanAmount  Loan_Amount_Term  \\\n",
       "0             5849                0.0       128.0             360.0   \n",
       "1             4583             1508.0       128.0             360.0   \n",
       "2             3000                0.0        66.0             360.0   \n",
       "3             2583             2358.0       120.0             360.0   \n",
       "4             6000                0.0       141.0             360.0   \n",
       "\n",
       "   Credit_History  Loan_Status  Gender_Male  Married_Yes  Dependents_1  \\\n",
       "0             1.0            1         True        False         False   \n",
       "1             1.0            0         True         True          True   \n",
       "2             1.0            1         True         True         False   \n",
       "3             1.0            1         True         True         False   \n",
       "4             1.0            1         True        False         False   \n",
       "\n",
       "   Dependents_2  Dependents_3+  Education_Not Graduate  Self_Employed_Yes  \\\n",
       "0         False          False                   False              False   \n",
       "1         False          False                   False              False   \n",
       "2         False          False                   False               True   \n",
       "3         False          False                    True              False   \n",
       "4         False          False                   False              False   \n",
       "\n",
       "   Property_Area_Semiurban  Property_Area_Urban  \n",
       "0                    False                 True  \n",
       "1                    False                False  \n",
       "2                    False                 True  \n",
       "3                    False                 True  \n",
       "4                    False                 True  "
      ]
     },
     "execution_count": 19,
     "metadata": {},
     "output_type": "execute_result"
    }
   ],
   "source": [
    "print(\"Data Head After Preprocessing and Encoding:\")\n",
    "df.head()"
   ]
  },
  {
   "cell_type": "code",
   "execution_count": 20,
   "id": "ae21e30a",
   "metadata": {},
   "outputs": [
    {
     "name": "stdout",
     "output_type": "stream",
     "text": [
      "Final Data Info:\n",
      "<class 'pandas.core.frame.DataFrame'>\n",
      "RangeIndex: 614 entries, 0 to 613\n",
      "Data columns (total 15 columns):\n",
      " #   Column                   Non-Null Count  Dtype  \n",
      "---  ------                   --------------  -----  \n",
      " 0   ApplicantIncome          614 non-null    int64  \n",
      " 1   CoapplicantIncome        614 non-null    float64\n",
      " 2   LoanAmount               614 non-null    float64\n",
      " 3   Loan_Amount_Term         614 non-null    float64\n",
      " 4   Credit_History           614 non-null    float64\n",
      " 5   Loan_Status              614 non-null    int64  \n",
      " 6   Gender_Male              614 non-null    bool   \n",
      " 7   Married_Yes              614 non-null    bool   \n",
      " 8   Dependents_1             614 non-null    bool   \n",
      " 9   Dependents_2             614 non-null    bool   \n",
      " 10  Dependents_3+            614 non-null    bool   \n",
      " 11  Education_Not Graduate   614 non-null    bool   \n",
      " 12  Self_Employed_Yes        614 non-null    bool   \n",
      " 13  Property_Area_Semiurban  614 non-null    bool   \n",
      " 14  Property_Area_Urban      614 non-null    bool   \n",
      "dtypes: bool(9), float64(4), int64(2)\n",
      "memory usage: 34.3 KB\n",
      "------------------------------\n"
     ]
    }
   ],
   "source": [
    "print(\"Final Data Info:\")\n",
    "df.info()\n",
    "print(\"-\" * 30)"
   ]
  },
  {
   "cell_type": "code",
   "execution_count": 21,
   "id": "d354fd2f",
   "metadata": {},
   "outputs": [],
   "source": [
    "from sklearn.model_selection import train_test_split\n",
    "from sklearn.preprocessing import StandardScaler\n",
    "from sklearn.metrics import accuracy_score, precision_score, recall_score, f1_score, classification_report, confusion_matrix, roc_auc_score"
   ]
  },
  {
   "cell_type": "code",
   "execution_count": 22,
   "id": "129d1e18",
   "metadata": {},
   "outputs": [],
   "source": [
    "from sklearn.ensemble import VotingClassifier, BaggingClassifier, GradientBoostingClassifier\n",
    "from xgboost import XGBClassifier\n",
    "from lightgbm import LGBMClassifier\n",
    "from catboost import CatBoostClassifier"
   ]
  },
  {
   "cell_type": "code",
   "execution_count": 23,
   "id": "2984bd66",
   "metadata": {},
   "outputs": [],
   "source": [
    "from sklearn.linear_model import LogisticRegression\n",
    "from sklearn.tree import DecisionTreeClassifier\n",
    "from sklearn.svm import SVC"
   ]
  },
  {
   "cell_type": "code",
   "execution_count": 24,
   "id": "ce89f7e5",
   "metadata": {},
   "outputs": [],
   "source": [
    "X = df.drop('Loan_Status', axis=1)\n",
    "y = df['Loan_Status']"
   ]
  },
  {
   "cell_type": "code",
   "execution_count": 25,
   "id": "ed68f026",
   "metadata": {},
   "outputs": [],
   "source": [
    "X_train, X_test, y_train, y_test = train_test_split(X, y, \n",
    "                                                    test_size=0.2, \n",
    "                                                    random_state=42, \n",
    "                                                    stratify=y,\n",
    "                                                    shuffle=True)"
   ]
  },
  {
   "cell_type": "code",
   "execution_count": 26,
   "id": "10d58617",
   "metadata": {},
   "outputs": [],
   "source": [
    "ss = StandardScaler()\n",
    "X_train_scaled = ss.fit_transform(X_train)\n",
    "X_test_scaled = ss.transform(X_test)"
   ]
  },
  {
   "cell_type": "code",
   "execution_count": 27,
   "id": "71ab1251",
   "metadata": {},
   "outputs": [],
   "source": [
    "x_train = copy.deepcopy(X_train_scaled)\n",
    "x_test = copy.deepcopy(X_test_scaled)"
   ]
  },
  {
   "cell_type": "code",
   "execution_count": 28,
   "id": "c173bec5",
   "metadata": {},
   "outputs": [
    {
     "data": {
      "text/plain": [
       "((491, 14), (123, 14), (491,), (123,))"
      ]
     },
     "execution_count": 28,
     "metadata": {},
     "output_type": "execute_result"
    }
   ],
   "source": [
    "x_train.shape, x_test.shape, y_train.shape, y_test.shape"
   ]
  },
  {
   "cell_type": "markdown",
   "id": "30618c94",
   "metadata": {},
   "source": [
    "Voting Classifier"
   ]
  },
  {
   "cell_type": "code",
   "execution_count": 29,
   "id": "ad16c32b",
   "metadata": {},
   "outputs": [
    {
     "name": "stdout",
     "output_type": "stream",
     "text": [
      "\n",
      "--- Training Voting Classifier ---\n"
     ]
    }
   ],
   "source": [
    "print(\"\\n--- Training Voting Classifier ---\")\n",
    "clf1 = LogisticRegression(random_state=42, max_iter=1000)\n",
    "clf2 = DecisionTreeClassifier(random_state=42)\n",
    "clf3 = SVC(probability=True, random_state=42) # SVC with probability=True for soft voting"
   ]
  },
  {
   "cell_type": "code",
   "execution_count": 37,
   "id": "99e21c00",
   "metadata": {},
   "outputs": [],
   "source": [
    "voting_clf = VotingClassifier(\n",
    "    estimators=[('lr', clf1), ('dt', clf2), ('svc', clf3)],\n",
    "    voting='soft',\n",
    "    weights=[0.7, 0.2, 0.1] # 'soft' uses predicted probabilities, often better\n",
    ")"
   ]
  },
  {
   "cell_type": "code",
   "execution_count": 39,
   "id": "ce4079a0",
   "metadata": {},
   "outputs": [
    {
     "name": "stdout",
     "output_type": "stream",
     "text": [
      "--- Voting Classifier Results ---\n",
      "Confusion Matrix:\n",
      "[[23 15]\n",
      " [ 3 82]]\n",
      "Accuracy: 0.8537\n",
      "ROC AUC: 0.8266\n",
      "              precision    recall  f1-score   support\n",
      "\n",
      "           0       0.88      0.61      0.72        38\n",
      "           1       0.85      0.96      0.90        85\n",
      "\n",
      "    accuracy                           0.85       123\n",
      "   macro avg       0.86      0.78      0.81       123\n",
      "weighted avg       0.86      0.85      0.84       123\n",
      "\n"
     ]
    },
    {
     "name": "stderr",
     "output_type": "stream",
     "text": [
      "c:\\Users\\ramiz\\Desktop\\Programming\\QSS\\HW\\.venv\\Lib\\site-packages\\sklearn\\linear_model\\_logistic.py:465: ConvergenceWarning: lbfgs failed to converge (status=1):\n",
      "STOP: TOTAL NO. OF ITERATIONS REACHED LIMIT.\n",
      "\n",
      "Increase the number of iterations (max_iter) or scale the data as shown in:\n",
      "    https://scikit-learn.org/stable/modules/preprocessing.html\n",
      "Please also refer to the documentation for alternative solver options:\n",
      "    https://scikit-learn.org/stable/modules/linear_model.html#logistic-regression\n",
      "  n_iter_i = _check_optimize_result(\n"
     ]
    }
   ],
   "source": [
    "voting_clf.fit(X_train, y_train)\n",
    "y_pred_voting = voting_clf.predict(X_test)\n",
    "print(\"--- Voting Classifier Results ---\")\n",
    "print(f\"Confusion Matrix:\\n{confusion_matrix(y_test, y_pred_voting)}\")\n",
    "print(f\"Accuracy: {accuracy_score(y_test, y_pred_voting):.4f}\")\n",
    "print(f\"ROC AUC: {roc_auc_score(y_test, voting_clf.predict_proba(X_test)[:, 1]):.4f}\")\n",
    "print(classification_report(y_test, y_pred_voting))"
   ]
  },
  {
   "cell_type": "markdown",
   "id": "ec4d3742",
   "metadata": {},
   "source": [
    "Bagging Classifier"
   ]
  },
  {
   "cell_type": "code",
   "execution_count": 40,
   "id": "3507df06",
   "metadata": {},
   "outputs": [
    {
     "name": "stdout",
     "output_type": "stream",
     "text": [
      "\n",
      "--- Training Bagging Classifier ---\n"
     ]
    }
   ],
   "source": [
    "print(\"\\n--- Training Bagging Classifier ---\")\n",
    "bagging_clf = BaggingClassifier(DecisionTreeClassifier(random_state=42), \n",
    "                                n_estimators=100,\n",
    "                                max_samples=0.8, \n",
    "                                bootstrap=True, \n",
    "                                random_state=42, \n",
    "                                n_jobs=-1)"
   ]
  },
  {
   "cell_type": "code",
   "execution_count": 41,
   "id": "aee099a2",
   "metadata": {},
   "outputs": [
    {
     "name": "stdout",
     "output_type": "stream",
     "text": [
      "--- Bagging Classifier Results ---\n",
      "Confusion Matrix:\n",
      "[[23 15]\n",
      " [ 4 81]]\n",
      "Accuracy: 0.8455\n",
      "ROC AUC: 0.8159\n",
      "              precision    recall  f1-score   support\n",
      "\n",
      "           0       0.85      0.61      0.71        38\n",
      "           1       0.84      0.95      0.90        85\n",
      "\n",
      "    accuracy                           0.85       123\n",
      "   macro avg       0.85      0.78      0.80       123\n",
      "weighted avg       0.85      0.85      0.84       123\n",
      "\n"
     ]
    }
   ],
   "source": [
    "bagging_clf.fit(X_train, y_train)\n",
    "y_pred_bagging = bagging_clf.predict(X_test)\n",
    "print(\"--- Bagging Classifier Results ---\")\n",
    "print(f\"Confusion Matrix:\\n{confusion_matrix(y_test, y_pred_bagging)}\")\n",
    "print(f\"Accuracy: {accuracy_score(y_test, y_pred_bagging):.4f}\")\n",
    "print(f\"ROC AUC: {roc_auc_score(y_test, bagging_clf.predict_proba(X_test)[:, 1]):.4f}\")\n",
    "print(classification_report(y_test, y_pred_bagging))"
   ]
  },
  {
   "cell_type": "markdown",
   "id": "18bf6b14",
   "metadata": {},
   "source": [
    "Gradien Boosting Classifier"
   ]
  },
  {
   "cell_type": "code",
   "execution_count": 43,
   "id": "b58b3b3a",
   "metadata": {},
   "outputs": [
    {
     "name": "stdout",
     "output_type": "stream",
     "text": [
      "\n",
      "--- Training Gradient Boosting Classifier ---\n",
      "--- Gradient Boosting Classifier Results ---\n",
      "Confusion Matrix:\n",
      "[[21 17]\n",
      " [ 4 81]]\n",
      "Accuracy: 0.8293\n",
      "ROC AUC: 0.7700\n",
      "              precision    recall  f1-score   support\n",
      "\n",
      "           0       0.84      0.55      0.67        38\n",
      "           1       0.83      0.95      0.89        85\n",
      "\n",
      "    accuracy                           0.83       123\n",
      "   macro avg       0.83      0.75      0.78       123\n",
      "weighted avg       0.83      0.83      0.82       123\n",
      "\n"
     ]
    }
   ],
   "source": [
    "print(\"\\n--- Training Gradient Boosting Classifier ---\")\n",
    "gb_clf = GradientBoostingClassifier(n_estimators=100, learning_rate=0.1, max_depth=3, random_state=42)\n",
    "gb_clf.fit(X_train, y_train)\n",
    "y_pred_gb = gb_clf.predict(X_test)\n",
    "print(\"--- Gradient Boosting Classifier Results ---\")\n",
    "print(f\"Confusion Matrix:\\n{confusion_matrix(y_test, y_pred_gb)}\")\n",
    "print(f\"Accuracy: {accuracy_score(y_test, y_pred_gb):.4f}\")\n",
    "print(f\"ROC AUC: {roc_auc_score(y_test, gb_clf.predict_proba(X_test)[:, 1]):.4f}\")\n",
    "print(classification_report(y_test, y_pred_gb))\n"
   ]
  },
  {
   "cell_type": "markdown",
   "id": "af38aa99",
   "metadata": {},
   "source": [
    "XG Boost"
   ]
  },
  {
   "cell_type": "code",
   "execution_count": 47,
   "id": "7bc4aff9",
   "metadata": {},
   "outputs": [
    {
     "name": "stdout",
     "output_type": "stream",
     "text": [
      "\n",
      "--- Training XGBoost Classifier ---\n",
      "--- XGBoost Classifier Results ---\n",
      "Confusion Matrix:\n",
      "[[24 14]\n",
      " [14 71]]\n",
      "Accuracy: 0.7724\n",
      "ROC AUC: 0.8022\n",
      "              precision    recall  f1-score   support\n",
      "\n",
      "           0       0.63      0.63      0.63        38\n",
      "           1       0.84      0.84      0.84        85\n",
      "\n",
      "    accuracy                           0.77       123\n",
      "   macro avg       0.73      0.73      0.73       123\n",
      "weighted avg       0.77      0.77      0.77       123\n",
      "\n"
     ]
    }
   ],
   "source": [
    "print(\"\\n--- Training XGBoost Classifier ---\")\n",
    "xgb_clf = XGBClassifier(eval_metric='logloss', random_state=42)\n",
    "xgb_clf.fit(X_train, y_train)\n",
    "y_pred_xgb = xgb_clf.predict(X_test)\n",
    "print(\"--- XGBoost Classifier Results ---\")\n",
    "print(f\"Confusion Matrix:\\n{confusion_matrix(y_test, y_pred_xgb)}\")\n",
    "print(f\"Accuracy: {accuracy_score(y_test, y_pred_xgb):.4f}\")\n",
    "print(f\"ROC AUC: {roc_auc_score(y_test, xgb_clf.predict_proba(X_test)[:, 1]):.4f}\")\n",
    "print(classification_report(y_test, y_pred_xgb))"
   ]
  },
  {
   "cell_type": "markdown",
   "id": "a47af074",
   "metadata": {},
   "source": [
    "LightGBM"
   ]
  },
  {
   "cell_type": "code",
   "execution_count": 49,
   "id": "8011aace",
   "metadata": {},
   "outputs": [
    {
     "name": "stdout",
     "output_type": "stream",
     "text": [
      "--- LightGBM Classifier Results ---\n",
      "Confusion Matrix:\n",
      "[[24 14]\n",
      " [11 74]]\n",
      "Accuracy: 0.7967\n",
      "ROC AUC: 0.7904\n",
      "              precision    recall  f1-score   support\n",
      "\n",
      "           0       0.69      0.63      0.66        38\n",
      "           1       0.84      0.87      0.86        85\n",
      "\n",
      "    accuracy                           0.80       123\n",
      "   macro avg       0.76      0.75      0.76       123\n",
      "weighted avg       0.79      0.80      0.79       123\n",
      "\n"
     ]
    }
   ],
   "source": [
    "lgbm_clf = LGBMClassifier(random_state=42, verbose=-1)\n",
    "lgbm_clf.fit(X_train, y_train)\n",
    "y_pred_lgbm = lgbm_clf.predict(X_test)\n",
    "print(\"--- LightGBM Classifier Results ---\")\n",
    "print(f\"Confusion Matrix:\\n{confusion_matrix(y_test, y_pred_lgbm)}\")\n",
    "print(f\"Accuracy: {accuracy_score(y_test, y_pred_lgbm):.4f}\")\n",
    "print(f\"ROC AUC: {roc_auc_score(y_test, lgbm_clf.predict_proba(X_test)[:, 1]):.4f}\")\n",
    "print(classification_report(y_test, y_pred_lgbm))"
   ]
  }
 ],
 "metadata": {
  "kernelspec": {
   "display_name": ".venv",
   "language": "python",
   "name": "python3"
  },
  "language_info": {
   "codemirror_mode": {
    "name": "ipython",
    "version": 3
   },
   "file_extension": ".py",
   "mimetype": "text/x-python",
   "name": "python",
   "nbconvert_exporter": "python",
   "pygments_lexer": "ipython3",
   "version": "3.12.9"
  }
 },
 "nbformat": 4,
 "nbformat_minor": 5
}
