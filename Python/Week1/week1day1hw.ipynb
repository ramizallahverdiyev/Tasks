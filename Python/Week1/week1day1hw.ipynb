{
 "cells": [
  {
   "cell_type": "markdown",
   "id": "771fe644",
   "metadata": {},
   "source": [
    "Question 1"
   ]
  },
  {
   "cell_type": "code",
   "execution_count": 1,
   "id": "e9a13895",
   "metadata": {},
   "outputs": [
    {
     "data": {
      "text/plain": [
       "int"
      ]
     },
     "execution_count": 1,
     "metadata": {},
     "output_type": "execute_result"
    }
   ],
   "source": [
    "age = 32\n",
    "type(age) "
   ]
  },
  {
   "cell_type": "markdown",
   "id": "add89ede",
   "metadata": {},
   "source": [
    "Question 2"
   ]
  },
  {
   "cell_type": "code",
   "execution_count": 2,
   "id": "d618c8f2",
   "metadata": {},
   "outputs": [
    {
     "data": {
      "text/plain": [
       "float"
      ]
     },
     "execution_count": 2,
     "metadata": {},
     "output_type": "execute_result"
    }
   ],
   "source": [
    "height = 1.85\n",
    "type(height)"
   ]
  },
  {
   "cell_type": "markdown",
   "id": "45b9e516",
   "metadata": {},
   "source": [
    "Question 3"
   ]
  },
  {
   "cell_type": "code",
   "execution_count": 3,
   "id": "22163dde",
   "metadata": {},
   "outputs": [],
   "source": [
    "name = 'your_name'\n",
    "surname = 'your_surname'\n"
   ]
  },
  {
   "cell_type": "markdown",
   "id": "ae83bef7",
   "metadata": {},
   "source": [
    "Question 4"
   ]
  },
  {
   "cell_type": "code",
   "execution_count": 4,
   "id": "a57ad2e6",
   "metadata": {},
   "outputs": [],
   "source": [
    "id = name + surname\n"
   ]
  },
  {
   "cell_type": "markdown",
   "id": "12e83ad8",
   "metadata": {},
   "source": [
    "Question 5"
   ]
  },
  {
   "cell_type": "code",
   "execution_count": 5,
   "id": "348df4c3",
   "metadata": {},
   "outputs": [
    {
     "name": "stdout",
     "output_type": "stream",
     "text": [
      "e\n"
     ]
    }
   ],
   "source": [
    "last_letter = name[-1]\n",
    "print(last_letter)"
   ]
  },
  {
   "cell_type": "markdown",
   "id": "5f7f2519",
   "metadata": {},
   "source": [
    "Question 6"
   ]
  },
  {
   "cell_type": "code",
   "execution_count": 6,
   "id": "bdc3670a",
   "metadata": {},
   "outputs": [
    {
     "data": {
      "text/plain": [
       "'ou'"
      ]
     },
     "execution_count": 6,
     "metadata": {},
     "output_type": "execute_result"
    }
   ],
   "source": [
    "second_third = surname[1:3]\n",
    "second_third"
   ]
  },
  {
   "cell_type": "markdown",
   "id": "2c1d0a8b",
   "metadata": {},
   "source": [
    "Question 7"
   ]
  },
  {
   "cell_type": "code",
   "execution_count": 7,
   "id": "16f1b92c",
   "metadata": {},
   "outputs": [],
   "source": [
    "new_list = [3, 4, 5, 6, 7]"
   ]
  },
  {
   "cell_type": "markdown",
   "id": "d7d6980c",
   "metadata": {},
   "source": [
    "Question 8"
   ]
  },
  {
   "cell_type": "code",
   "execution_count": 8,
   "id": "fc920966",
   "metadata": {},
   "outputs": [
    {
     "data": {
      "text/plain": [
       "[3, 4, 6, 7]"
      ]
     },
     "execution_count": 8,
     "metadata": {},
     "output_type": "execute_result"
    }
   ],
   "source": [
    "new_list.remove(5)\n",
    "new_list"
   ]
  },
  {
   "cell_type": "markdown",
   "id": "d602b0d6",
   "metadata": {},
   "source": [
    "Question 9"
   ]
  },
  {
   "cell_type": "code",
   "execution_count": 9,
   "id": "9d9f43bf",
   "metadata": {},
   "outputs": [
    {
     "data": {
      "text/plain": [
       "[3, 6, 7]"
      ]
     },
     "execution_count": 9,
     "metadata": {},
     "output_type": "execute_result"
    }
   ],
   "source": [
    "new_list.pop(1)\n",
    "new_list"
   ]
  },
  {
   "cell_type": "markdown",
   "id": "52cd57c7",
   "metadata": {},
   "source": [
    "Question 10"
   ]
  },
  {
   "cell_type": "code",
   "execution_count": 10,
   "id": "37f43a06",
   "metadata": {},
   "outputs": [
    {
     "data": {
      "text/plain": [
       "(3, 8, 5, 6, 7)"
      ]
     },
     "execution_count": 10,
     "metadata": {},
     "output_type": "execute_result"
    }
   ],
   "source": [
    "new_tuple = (3, 4, 5, 6, 7)\n",
    "\n",
    "index = new_tuple.index(4)\n",
    "\n",
    "temp_list = list(new_tuple)\n",
    "\n",
    "temp_list[index] = 8\n",
    "\n",
    "new_tuple = tuple(temp_list)\n",
    "new_tuple"
   ]
  },
  {
   "cell_type": "markdown",
   "id": "6b5fd81c",
   "metadata": {},
   "source": [
    "Optional"
   ]
  },
  {
   "cell_type": "markdown",
   "id": "03363144",
   "metadata": {},
   "source": [
    "Question 1"
   ]
  },
  {
   "cell_type": "code",
   "execution_count": null,
   "id": "2973e6dc",
   "metadata": {},
   "outputs": [
    {
     "name": "stdout",
     "output_type": "stream",
     "text": [
      "Difference is not greater than 17\n"
     ]
    }
   ],
   "source": [
    "difference = age - 25\n",
    "\n",
    "if difference > 17:\n",
    "    result = difference ** 2\n",
    "    print(result)\n",
    "else:\n",
    "    print(\"Difference is not greater than 17\")"
   ]
  },
  {
   "cell_type": "markdown",
   "id": "ab53dae3",
   "metadata": {},
   "source": [
    "Question 2"
   ]
  },
  {
   "cell_type": "code",
   "execution_count": 12,
   "id": "fe3b7cb6",
   "metadata": {},
   "outputs": [
    {
     "name": "stdout",
     "output_type": "stream",
     "text": [
      "Positive\n"
     ]
    }
   ],
   "source": [
    "def check_number(num):\n",
    "    if num > 0:\n",
    "        return \"Positive\"\n",
    "    elif num < 0:\n",
    "        return \"Negative\"\n",
    "    else:\n",
    "        return \"Zero\"\n",
    "\n",
    "# Example usage\n",
    "result = check_number(5)\n",
    "print(result)"
   ]
  }
 ],
 "metadata": {
  "kernelspec": {
   "display_name": "base",
   "language": "python",
   "name": "python3"
  },
  "language_info": {
   "codemirror_mode": {
    "name": "ipython",
    "version": 3
   },
   "file_extension": ".py",
   "mimetype": "text/x-python",
   "name": "python",
   "nbconvert_exporter": "python",
   "pygments_lexer": "ipython3",
   "version": "3.12.7"
  }
 },
 "nbformat": 4,
 "nbformat_minor": 5
}
