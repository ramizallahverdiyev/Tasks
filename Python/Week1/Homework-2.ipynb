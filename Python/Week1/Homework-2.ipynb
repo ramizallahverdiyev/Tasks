{
 "cells": [
  {
   "cell_type": "markdown",
   "id": "3c5e6c52",
   "metadata": {},
   "source": [
    "Question 1"
   ]
  },
  {
   "cell_type": "code",
   "execution_count": 1,
   "id": "b401c608",
   "metadata": {},
   "outputs": [
    {
     "name": "stdout",
     "output_type": "stream",
     "text": [
      "1\n",
      "2\n",
      "3\n",
      "4\n",
      "5\n",
      "6\n",
      "7\n",
      "8\n",
      "9\n",
      "10\n"
     ]
    }
   ],
   "source": [
    "i = 1\n",
    "while i <= 10:\n",
    "    print(i)\n",
    "    i += 1"
   ]
  },
  {
   "cell_type": "markdown",
   "id": "4008168f",
   "metadata": {},
   "source": [
    "Question 2"
   ]
  },
  {
   "cell_type": "code",
   "execution_count": 2,
   "id": "794c8882",
   "metadata": {},
   "outputs": [
    {
     "name": "stdout",
     "output_type": "stream",
     "text": [
      "-10\n",
      "-9\n",
      "-8\n",
      "-7\n",
      "-6\n",
      "-5\n",
      "-4\n",
      "-3\n",
      "-2\n",
      "-1\n"
     ]
    }
   ],
   "source": [
    "for i in range(-10, 0):\n",
    "    print(i)"
   ]
  },
  {
   "cell_type": "markdown",
   "id": "e2f18010",
   "metadata": {},
   "source": [
    "Question 3"
   ]
  },
  {
   "cell_type": "code",
   "execution_count": 3,
   "id": "d59d8176",
   "metadata": {},
   "outputs": [
    {
     "name": "stdout",
     "output_type": "stream",
     "text": [
      "0\n",
      "1\n",
      "2\n",
      "4\n",
      "5\n"
     ]
    }
   ],
   "source": [
    "for i in range(7):\n",
    "    if i == 3 or i == 6:\n",
    "        continue\n",
    "    print(i)"
   ]
  },
  {
   "cell_type": "markdown",
   "id": "8db303f2",
   "metadata": {},
   "source": [
    "Question 4"
   ]
  },
  {
   "cell_type": "code",
   "execution_count": 4,
   "id": "121f294e",
   "metadata": {},
   "outputs": [
    {
     "name": "stdout",
     "output_type": "stream",
     "text": [
      "6216\n"
     ]
    }
   ],
   "source": [
    "total_sum = sum(range(1, 112))\n",
    "print(total_sum)"
   ]
  },
  {
   "cell_type": "markdown",
   "id": "5ed9f71b",
   "metadata": {},
   "source": [
    "Question 5"
   ]
  },
  {
   "cell_type": "code",
   "execution_count": 5,
   "id": "8931c390",
   "metadata": {},
   "outputs": [
    {
     "name": "stdout",
     "output_type": "stream",
     "text": [
      "[50, 40, 30, 20, 10]\n"
     ]
    }
   ],
   "source": [
    "list_ = [10, 20, 30, 40, 50]\n",
    "reversed_list = []\n",
    "\n",
    "for i in range(len(list_) - 1, -1, -1):\n",
    "    reversed_list.append(list_[i])\n",
    "\n",
    "print(reversed_list)"
   ]
  },
  {
   "cell_type": "markdown",
   "id": "dfd8c9ed",
   "metadata": {},
   "source": [
    "Question 6"
   ]
  },
  {
   "cell_type": "code",
   "execution_count": 6,
   "id": "6b6646d8",
   "metadata": {},
   "outputs": [
    {
     "name": "stdout",
     "output_type": "stream",
     "text": [
      "1505\n",
      "1540\n",
      "1575\n",
      "1610\n",
      "1645\n",
      "1680\n",
      "1715\n",
      "1750\n",
      "1785\n",
      "1820\n",
      "1855\n",
      "1890\n",
      "1925\n",
      "1960\n",
      "1995\n",
      "2030\n",
      "2065\n",
      "2100\n",
      "2135\n",
      "2170\n",
      "2205\n",
      "2240\n",
      "2275\n",
      "2310\n",
      "2345\n",
      "2380\n",
      "2415\n",
      "2450\n",
      "2485\n",
      "2520\n",
      "2555\n",
      "2590\n",
      "2625\n",
      "2660\n",
      "2695\n"
     ]
    }
   ],
   "source": [
    "for num in range(1500, 2701):\n",
    "    if num % 7 == 0 and num % 5 == 0:\n",
    "        print(num)"
   ]
  },
  {
   "cell_type": "markdown",
   "id": "722ecf95",
   "metadata": {},
   "source": [
    "Question 7"
   ]
  },
  {
   "cell_type": "code",
   "execution_count": 7,
   "id": "3ef75722",
   "metadata": {},
   "outputs": [
    {
     "name": "stdout",
     "output_type": "stream",
     "text": [
      "1\n",
      "2\n",
      "3\n",
      "4\n",
      "Done\n"
     ]
    }
   ],
   "source": [
    "for i in range(1,5):\n",
    "    print(i)\n",
    "print(\"Done\")"
   ]
  },
  {
   "cell_type": "markdown",
   "id": "024191a0",
   "metadata": {},
   "source": [
    "Question 8"
   ]
  },
  {
   "cell_type": "code",
   "execution_count": 8,
   "id": "1887cf33",
   "metadata": {},
   "outputs": [
    {
     "name": "stdout",
     "output_type": "stream",
     "text": [
      "25\n",
      "15\n"
     ]
    }
   ],
   "source": [
    "add_15 = lambda x: x + 15\n",
    "\n",
    "multiply = lambda x, y: x * y\n",
    "\n",
    "print(add_15(10))\n",
    "print(multiply(5, 3))"
   ]
  },
  {
   "cell_type": "markdown",
   "id": "f74fc379",
   "metadata": {},
   "source": [
    "Question 9"
   ]
  },
  {
   "cell_type": "code",
   "execution_count": 9,
   "id": "055301ed",
   "metadata": {},
   "outputs": [
    {
     "name": "stdout",
     "output_type": "stream",
     "text": [
      "[1, 2, 3, 4, 5]\n",
      "[1, 4, 9, 16, 25]\n",
      "[1, 8, 27, 64, 125]\n"
     ]
    }
   ],
   "source": [
    "list_ = [1, 2, 3, 4, 5]\n",
    "\n",
    "\n",
    "print(list_)\n",
    "squared_list = list(map(lambda x: x ** 2, list_))\n",
    "print(squared_list)\n",
    "cubed_list = list(map(lambda x: x ** 3, list_))\n",
    "print(cubed_list)"
   ]
  },
  {
   "cell_type": "markdown",
   "id": "12070eaf",
   "metadata": {},
   "source": [
    "Question 10"
   ]
  },
  {
   "cell_type": "code",
   "execution_count": 10,
   "id": "0f483aa8",
   "metadata": {},
   "outputs": [
    {
     "name": "stdout",
     "output_type": "stream",
     "text": [
      "7\n"
     ]
    }
   ],
   "source": [
    "L = lambda x: x + 2\n",
    "print(L(5))"
   ]
  },
  {
   "cell_type": "markdown",
   "id": "1ca56a7b",
   "metadata": {},
   "source": [
    "Question 11"
   ]
  },
  {
   "cell_type": "code",
   "execution_count": 11,
   "id": "b8f4eb35",
   "metadata": {},
   "outputs": [
    {
     "name": "stdout",
     "output_type": "stream",
     "text": [
      "6\n"
     ]
    }
   ],
   "source": [
    "def multiply(a, b):\n",
    "    return a * b\n",
    "\n",
    "f = multiply(2,3)\n",
    "print(f)"
   ]
  },
  {
   "cell_type": "markdown",
   "id": "7d3b93b2",
   "metadata": {},
   "source": [
    "Question 12"
   ]
  },
  {
   "cell_type": "code",
   "execution_count": 12,
   "id": "c5affd5b",
   "metadata": {},
   "outputs": [
    {
     "name": "stdout",
     "output_type": "stream",
     "text": [
      "[1, 2, 3, 4, 5]\n",
      "[10, 20, 30, 40, 50]\n",
      "[11, 22, 33, 44, 55]\n"
     ]
    }
   ],
   "source": [
    "list1 = [1, 2, 3, 4, 5]\n",
    "list2 = [10, 20, 30, 40, 50]\n",
    "\n",
    "result = list(map(lambda x, y: x + y, list1, list2))\n",
    "\n",
    "print(list1)\n",
    "print(list2)\n",
    "print(result)"
   ]
  },
  {
   "cell_type": "markdown",
   "id": "4d1bed1d",
   "metadata": {},
   "source": [
    "Question 13"
   ]
  },
  {
   "cell_type": "code",
   "execution_count": 13,
   "id": "b7dd6e52",
   "metadata": {},
   "outputs": [
    {
     "name": "stdout",
     "output_type": "stream",
     "text": [
      "[1, 2, 3, 4, 5]\n",
      "[6, 7, 8, 9, 10]\n"
     ]
    }
   ],
   "source": [
    "numbers = [1, 2, 3, 4, 5]\n",
    "\n",
    "result = list(map(lambda x: x + 5, numbers))\n",
    "\n",
    "print(numbers)\n",
    "print(result)"
   ]
  },
  {
   "cell_type": "markdown",
   "id": "07865c9e",
   "metadata": {},
   "source": [
    "Question 14"
   ]
  },
  {
   "cell_type": "code",
   "execution_count": null,
   "id": "e4c5a2c2",
   "metadata": {},
   "outputs": [
    {
     "name": "stdout",
     "output_type": "stream",
     "text": [
      "['item1', 'item2', 'item3']\n",
      "['Hello, item1', 'Hello, item2', 'Hello, item3']\n"
     ]
    }
   ],
   "source": [
    "items = [\"item1\", \"item2\", \"item3\"]\n",
    "\n",
    "hello = list(map(lambda say_hello: \"Hello, \" + say_hello, items))\n",
    "\n",
    "print(items)\n",
    "print(hello)"
   ]
  },
  {
   "cell_type": "markdown",
   "id": "a7744a91",
   "metadata": {},
   "source": [
    "Question 15"
   ]
  },
  {
   "cell_type": "code",
   "execution_count": 15,
   "id": "d54f29d8",
   "metadata": {},
   "outputs": [
    {
     "name": "stdout",
     "output_type": "stream",
     "text": [
      "['text', 'long_text', 'Username', 'Password']\n",
      "[4, 9, 8, 8]\n"
     ]
    }
   ],
   "source": [
    "words = [\"text\", \"long_text\", \"Username\", \"Password\"]\n",
    "\n",
    "lengths = list(map(len, words))\n",
    "\n",
    "print(words)\n",
    "print(lengths)"
   ]
  },
  {
   "cell_type": "markdown",
   "id": "f8e5b2e1",
   "metadata": {},
   "source": [
    "Question 16"
   ]
  },
  {
   "cell_type": "code",
   "execution_count": 16,
   "id": "9bc38907",
   "metadata": {},
   "outputs": [
    {
     "name": "stdout",
     "output_type": "stream",
     "text": [
      "[1, 2, 3, 4, 5]\n",
      "[10, 20, 30, 40, 50]\n",
      "[11, 22, 33, 44, 55]\n"
     ]
    }
   ],
   "source": [
    "list1 = [1, 2, 3, 4, 5]\n",
    "list2 = [10, 20, 30, 40, 50]\n",
    "\n",
    "result = list(map(lambda x, y: x + y, list1, list2))\n",
    "\n",
    "print(list1)\n",
    "print(list2)\n",
    "print(result)"
   ]
  },
  {
   "cell_type": "markdown",
   "id": "8ceaa296",
   "metadata": {},
   "source": [
    "Question 17"
   ]
  },
  {
   "cell_type": "code",
   "execution_count": 17,
   "id": "ab0ac7dd",
   "metadata": {},
   "outputs": [
    {
     "name": "stdout",
     "output_type": "stream",
     "text": [
      "['apple', 'banana', 'grape', 'avocado']\n",
      "[1, 3, 1, 2]\n"
     ]
    }
   ],
   "source": [
    "words = [\"apple\", \"banana\", \"grape\", \"avocado\"]\n",
    "\n",
    "a_counts = list(map(lambda word: word.count('a'), words))\n",
    "\n",
    "print(words)\n",
    "print(a_counts)"
   ]
  },
  {
   "cell_type": "markdown",
   "id": "d5e57c55",
   "metadata": {},
   "source": [
    "Question 18"
   ]
  },
  {
   "cell_type": "code",
   "execution_count": 18,
   "id": "5b1653f2",
   "metadata": {},
   "outputs": [
    {
     "name": "stdout",
     "output_type": "stream",
     "text": [
      "['Apple', 'Banana', 'Avocado', 'Grape']\n",
      "{'A': [1, 0, 1, 0], 'a': [0, 3, 1, 1]}\n"
     ]
    }
   ],
   "source": [
    "words = [\"Apple\", \"Banana\", \"Avocado\", \"Grape\"]\n",
    "\n",
    "a_counts = list(map(lambda word: word.count('a'), words))\n",
    "A_counts = list(map(lambda word: word.count('A'), words))\n",
    "\n",
    "result = {\"A\": A_counts, \"a\": a_counts}\n",
    "\n",
    "print(words)\n",
    "print(result)"
   ]
  },
  {
   "cell_type": "markdown",
   "id": "bbaa2ba3",
   "metadata": {},
   "source": [
    "Question 19"
   ]
  },
  {
   "cell_type": "code",
   "execution_count": 19,
   "id": "224b59ee",
   "metadata": {},
   "outputs": [
    {
     "name": "stdout",
     "output_type": "stream",
     "text": [
      "[-10, -5, 0, 5, 10]\n",
      "[-10, -5]\n"
     ]
    }
   ],
   "source": [
    "numbers = [-10, -5, 0, 5, 10]\n",
    "\n",
    "negative_numbers = list(filter(lambda x: x < 0, numbers))\n",
    "\n",
    "print(numbers)\n",
    "print(negative_numbers)"
   ]
  },
  {
   "cell_type": "markdown",
   "id": "7192b9e7",
   "metadata": {},
   "source": [
    "Question 20"
   ]
  },
  {
   "cell_type": "code",
   "execution_count": 20,
   "id": "329eb6a7",
   "metadata": {},
   "outputs": [
    {
     "name": "stdout",
     "output_type": "stream",
     "text": [
      "[1, 2, 3, 4, 5, 6, 7, 8, 9, 10]\n",
      "[1, 3, 5, 7, 9]\n"
     ]
    }
   ],
   "source": [
    "numbers = [1, 2, 3, 4, 5, 6, 7, 8, 9, 10]\n",
    "\n",
    "odd_numbers = list(filter(lambda x: x % 2 != 0, numbers))\n",
    "\n",
    "print(numbers)\n",
    "print(odd_numbers)"
   ]
  },
  {
   "cell_type": "markdown",
   "id": "06f6393e",
   "metadata": {},
   "source": [
    "Question 21"
   ]
  },
  {
   "cell_type": "code",
   "execution_count": 21,
   "id": "78bef0f1",
   "metadata": {},
   "outputs": [
    {
     "name": "stdout",
     "output_type": "stream",
     "text": [
      "Hello World, Python\n",
      "['e', 'o', 'o', 'o']\n"
     ]
    }
   ],
   "source": [
    "text = \"Hello World, Python\"\n",
    "\n",
    "vowels = \"aeiou\"\n",
    "\n",
    "filtered_vowels = list(filter(lambda char: char.lower() in vowels, text))\n",
    "\n",
    "print(text)\n",
    "print(filtered_vowels)"
   ]
  },
  {
   "cell_type": "markdown",
   "id": "d9defb47",
   "metadata": {},
   "source": [
    "Question 22"
   ]
  },
  {
   "cell_type": "code",
   "execution_count": 22,
   "id": "ca78ae26",
   "metadata": {},
   "outputs": [
    {
     "name": "stdout",
     "output_type": "stream",
     "text": [
      "-10 -8 0 23 20 49\n",
      "['23', '20', '49']\n"
     ]
    }
   ],
   "source": [
    "string = \"-10 -8 0 23 20 49\"\n",
    "\n",
    "splitted_list = string.split()\n",
    "positive_integers = list(filter(lambda x: x.isdigit() and int(x) > 0, splitted_list))\n",
    "\n",
    "print(string)\n",
    "print(positive_integers)"
   ]
  },
  {
   "cell_type": "markdown",
   "id": "1719d92c",
   "metadata": {},
   "source": [
    "Question 23"
   ]
  },
  {
   "cell_type": "code",
   "execution_count": 23,
   "id": "04224bdb",
   "metadata": {},
   "outputs": [
    {
     "name": "stdout",
     "output_type": "stream",
     "text": [
      "[5500, 6000, 7000, 8000, 9000, 10000]\n",
      "[7500, 8000, 9000]\n"
     ]
    }
   ],
   "source": [
    "numbers = [5500, 6000, 7000, 8000, 9000, 10000]\n",
    "\n",
    "below_8000 = list(filter(lambda x: x < 8000, numbers))\n",
    "\n",
    "add_below_8000 = list(map(lambda x: x + 2000, below_8000))\n",
    "\n",
    "print(numbers)\n",
    "print(add_below_8000)"
   ]
  },
  {
   "cell_type": "markdown",
   "id": "a58a61a1",
   "metadata": {},
   "source": [
    "Question 24"
   ]
  },
  {
   "cell_type": "code",
   "execution_count": 24,
   "id": "70cd698a",
   "metadata": {},
   "outputs": [
    {
     "name": "stdout",
     "output_type": "stream",
     "text": [
      "[1, 2, 3, 4, 5, 6, 7, 8, 9, 10, 13, 17, 23, 24]\n",
      "6\n",
      "8\n"
     ]
    }
   ],
   "source": [
    "numbers = [1, 2, 3, 4, 5, 6, 7, 8, 9, 10, 13, 17, 23, 24]\n",
    "\n",
    "even_count = len(list(filter(lambda x: x % 2 == 0, numbers)))\n",
    "odd_count = len(list(filter(lambda x: x % 2 != 0, numbers)))\n",
    "\n",
    "print(numbers)\n",
    "print(even_count)\n",
    "print(odd_count)"
   ]
  },
  {
   "cell_type": "markdown",
   "id": "8867b289",
   "metadata": {},
   "source": [
    "Question 25"
   ]
  },
  {
   "cell_type": "code",
   "execution_count": 25,
   "id": "a79dbbdf",
   "metadata": {},
   "outputs": [
    {
     "name": "stdout",
     "output_type": "stream",
     "text": [
      "['Hello', 'World', 'Python', 'MyName', 'Length', 'Six']\n",
      "['Python', 'MyName', 'Length']\n"
     ]
    }
   ],
   "source": [
    "words = [\"Hello\", \"World\", \"Python\", \"MyName\", \"Length\", \"Six\"]\n",
    "\n",
    "length_six_words = list(filter(lambda x: len(x) == 6, words))\n",
    "\n",
    "print(words)\n",
    "print(length_six_words)"
   ]
  },
  {
   "cell_type": "markdown",
   "id": "0f686b6a",
   "metadata": {},
   "source": [
    "Question 26"
   ]
  },
  {
   "cell_type": "code",
   "execution_count": 26,
   "id": "288c2973",
   "metadata": {},
   "outputs": [
    {
     "name": "stdout",
     "output_type": "stream",
     "text": [
      "[19, 26, 40, 45, 57, 60, 70, 76, 95]\n",
      "[19, 26, 57, 76, 95]\n"
     ]
    }
   ],
   "source": [
    "numbers = [19, 26, 40, 45, 57, 60, 70, 76, 95]\n",
    "\n",
    "divisible_by_19_or_13 = list(filter(lambda x: x % 19 == 0 or x % 13 == 0, numbers))\n",
    "\n",
    "print(numbers)\n",
    "print(divisible_by_19_or_13)"
   ]
  },
  {
   "cell_type": "markdown",
   "id": "e26d2221",
   "metadata": {},
   "source": [
    "Question 27"
   ]
  },
  {
   "cell_type": "code",
   "execution_count": 27,
   "id": "8aec4ce8",
   "metadata": {},
   "outputs": [
    {
     "name": "stdout",
     "output_type": "stream",
     "text": [
      "[1, 2, 3, 4, 5]\n",
      "['a', 'b', 'c', 'd', 'e']\n",
      "[(1, 'a'), (2, 'b'), (3, 'c'), (4, 'd'), (5, 'e')]\n"
     ]
    }
   ],
   "source": [
    "list1 = [1, 2, 3, 4, 5]\n",
    "list2 = ['a', 'b', 'c', 'd', 'e']\n",
    "\n",
    "merged_list = list(zip(list1, list2))\n",
    "\n",
    "print(list1)\n",
    "print(list2)\n",
    "print(merged_list)"
   ]
  },
  {
   "cell_type": "markdown",
   "id": "cd69c543",
   "metadata": {},
   "source": [
    "Question 28"
   ]
  },
  {
   "cell_type": "code",
   "execution_count": 28,
   "id": "477d023f",
   "metadata": {},
   "outputs": [
    {
     "name": "stdout",
     "output_type": "stream",
     "text": [
      "['a', 'b', 'c', 'd', 'e', 'f', 'g', 'h']\n",
      "[(1, 'a'), (2, 'b'), (3, 'c'), (4, 'd'), (5, 'e'), (6, 'f'), (7, 'g'), (8, 'h')]\n"
     ]
    }
   ],
   "source": [
    "range_ = range(1, 9)\n",
    "list_ = ['a','b','c','d','e','f','g','h']\n",
    "\n",
    "merged_list = list(zip(range_, list_))\n",
    "\n",
    "print(list_)\n",
    "print(merged_list)\n"
   ]
  },
  {
   "cell_type": "markdown",
   "id": "9eeff2e8",
   "metadata": {},
   "source": [
    "Question 29"
   ]
  },
  {
   "cell_type": "code",
   "execution_count": 29,
   "id": "a64de61d",
   "metadata": {},
   "outputs": [
    {
     "name": "stdout",
     "output_type": "stream",
     "text": [
      "[1, 2, 3, 4]\n",
      "['a', 'b', 'c', 'd']\n",
      "{1: 'a', 2: 'b', 3: 'c', 4: 'd'}\n"
     ]
    }
   ],
   "source": [
    "lst1 = [1, 2, 3, 4]\n",
    "lst2 = ['a', 'b', 'c', 'd']\n",
    "\n",
    "result_dict = dict(zip(lst1, lst2))\n",
    "\n",
    "print(lst1)\n",
    "print(lst2)\n",
    "print(result_dict)"
   ]
  },
  {
   "cell_type": "markdown",
   "id": "4fb1c437",
   "metadata": {},
   "source": [
    "Question 30"
   ]
  },
  {
   "cell_type": "code",
   "execution_count": 30,
   "id": "255d017c",
   "metadata": {},
   "outputs": [
    {
     "name": "stdout",
     "output_type": "stream",
     "text": [
      "[3, 1, 4, 2]\n",
      "['c', 'a', 'd', 'b']\n",
      "[(1, 'a'), (2, 'b'), (3, 'c'), (4, 'd')]\n"
     ]
    }
   ],
   "source": [
    "lst1 = [3, 1, 4, 2]\n",
    "lst2 = ['c', 'a', 'd', 'b']\n",
    "\n",
    "sorted_list = sorted(zip(lst1, lst2))\n",
    "\n",
    "print(lst1)\n",
    "print(lst2)\n",
    "print(sorted_list)"
   ]
  }
 ],
 "metadata": {
  "kernelspec": {
   "display_name": "base",
   "language": "python",
   "name": "python3"
  },
  "language_info": {
   "codemirror_mode": {
    "name": "ipython",
    "version": 3
   },
   "file_extension": ".py",
   "mimetype": "text/x-python",
   "name": "python",
   "nbconvert_exporter": "python",
   "pygments_lexer": "ipython3",
   "version": "3.12.7"
  }
 },
 "nbformat": 4,
 "nbformat_minor": 5
}
