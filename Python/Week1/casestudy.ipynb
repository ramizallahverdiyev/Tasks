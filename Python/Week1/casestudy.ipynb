{
 "cells": [
  {
   "cell_type": "code",
   "execution_count": null,
   "id": "b89f6f66",
   "metadata": {},
   "outputs": [],
   "source": [
    "# 1. Addition of 2 numbers\n",
    "def addition_2number():\n",
    "    a = float(input(\"Enter first number: \"))\n",
    "    b = float(input(\"Enter second number: \"))\n",
    "    result = a + b\n",
    "    return result, 2"
   ]
  },
  {
   "cell_type": "code",
   "execution_count": null,
   "id": "a62df43f",
   "metadata": {},
   "outputs": [],
   "source": [
    "# 2. Addition of multiple numbers\n",
    "def addition():\n",
    "    numbers = []\n",
    "    while True:\n",
    "        n = float(input(\"Enter a number (0 to stop): \"))\n",
    "        if n == 0:\n",
    "            break\n",
    "        numbers.append(n)\n",
    "    return sum(numbers), len(numbers)"
   ]
  },
  {
   "cell_type": "code",
   "execution_count": null,
   "id": "7ee6db9b",
   "metadata": {},
   "outputs": [],
   "source": [
    "# 3. Subtraction of multiple numbers\n",
    "def subtraction():\n",
    "    numbers = []\n",
    "    while True:\n",
    "        n = float(input(\"Enter a number (0 to stop): \"))\n",
    "        if n == 0:\n",
    "            break\n",
    "        numbers.append(n)\n",
    "    if not numbers:\n",
    "        return 0, 0\n",
    "    result = numbers[0]\n",
    "    for num in numbers[1:]:\n",
    "        result -= num\n",
    "    return result, len(numbers)"
   ]
  },
  {
   "cell_type": "code",
   "execution_count": null,
   "id": "2b79a713",
   "metadata": {},
   "outputs": [],
   "source": [
    "# 4. Multiplication of multiple numbers\n",
    "def multiplication():\n",
    "    numbers = []\n",
    "    while True:\n",
    "        n = float(input(\"Enter a number (0 to stop): \"))\n",
    "        if n == 0:\n",
    "            break\n",
    "        numbers.append(n)\n",
    "    if not numbers:\n",
    "        return 0, 0\n",
    "    result = 1\n",
    "    for num in numbers:\n",
    "        result *= num\n",
    "    return result, len(numbers)"
   ]
  },
  {
   "cell_type": "code",
   "execution_count": null,
   "id": "9112de0c",
   "metadata": {},
   "outputs": [],
   "source": [
    "# 5. Average using addition function\n",
    "def average():\n",
    "    total, count = addition()\n",
    "    if count == 0:\n",
    "        return 0\n",
    "    return total / count"
   ]
  },
  {
   "cell_type": "code",
   "execution_count": null,
   "id": "8ddd155e",
   "metadata": {},
   "outputs": [],
   "source": [
    "# 6. Simple calculator\n",
    "def calculator():\n",
    "    while True:\n",
    "        print(\"\\nChoose operation:\")\n",
    "        print(\"1. Addition of 2 numbers\")\n",
    "        print(\"2. Addition (multiple numbers)\")\n",
    "        print(\"3. Subtraction (multiple numbers)\")\n",
    "        print(\"4. Multiplication (multiple numbers)\")\n",
    "        print(\"5. Average\")\n",
    "        print(\"0. Exit\")\n",
    "        choice = input(\"Enter choice: \")\n",
    "        if choice == '1':\n",
    "            print(\"Result, Count:\", addition_2number())\n",
    "        elif choice == '2':\n",
    "            print(\"Result, Count:\", addition())\n",
    "        elif choice == '3':\n",
    "            print(\"Result, Count:\", subtraction())\n",
    "        elif choice == '4':\n",
    "            print(\"Result, Count:\", multiplication())\n",
    "        elif choice == '5':\n",
    "            print(\"Average:\", average())\n",
    "        elif choice == '0':\n",
    "            break\n",
    "        else:\n",
    "            print(\"Invalid choice.\")"
   ]
  },
  {
   "cell_type": "code",
   "execution_count": null,
   "id": "a15aaf3b",
   "metadata": {},
   "outputs": [],
   "source": [
    "# 7. Intersection of two arrays using lambda\n",
    "def intersection(arr1, arr2):\n",
    "    return list(filter(lambda x: x in arr2, arr1))"
   ]
  },
  {
   "cell_type": "code",
   "execution_count": null,
   "id": "2066d112",
   "metadata": {},
   "outputs": [],
   "source": [
    "# 8. Add two lists using map and lambda\n",
    "def add_lists(list1, list2):\n",
    "    return list(map(lambda x, y: x + y, list1, list2))"
   ]
  },
  {
   "cell_type": "code",
   "execution_count": null,
   "id": "32a69b97",
   "metadata": {},
   "outputs": [],
   "source": [
    "# 9. Numbers divisible by 19 or 13 from a list\n",
    "def divisible_by_19_or_13(lst):\n",
    "    return [x for x in lst if x % 19 == 0 or x % 13 == 0]"
   ]
  }
 ],
 "metadata": {
  "kernelspec": {
   "display_name": "base",
   "language": "python",
   "name": "python3"
  },
  "language_info": {
   "codemirror_mode": {
    "name": "ipython",
    "version": 3
   },
   "file_extension": ".py",
   "mimetype": "text/x-python",
   "name": "python",
   "nbconvert_exporter": "python",
   "pygments_lexer": "ipython3",
   "version": "3.12.7"
  }
 },
 "nbformat": 4,
 "nbformat_minor": 5
}
