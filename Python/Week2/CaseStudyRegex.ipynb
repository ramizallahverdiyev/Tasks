{
 "cells": [
  {
   "cell_type": "code",
   "execution_count": 1,
   "id": "ff03222c",
   "metadata": {},
   "outputs": [],
   "source": [
    "import re"
   ]
  },
  {
   "cell_type": "markdown",
   "id": "952fab70",
   "metadata": {},
   "source": [
    "Question 1"
   ]
  },
  {
   "cell_type": "code",
   "execution_count": 2,
   "id": "1e93a511",
   "metadata": {},
   "outputs": [
    {
     "name": "stdout",
     "output_type": "stream",
     "text": [
      "{'Janice': 22, 'Theon': 33, 'Gabriel': 44, 'Joey': 21}\n"
     ]
    }
   ],
   "source": [
    "nameage = \"Janice is 22 and Theon is 33 Gabriel is 44 and Joey is 21\"\n",
    "\n",
    "pattern = r'(\\b[A-Z][a-z]+\\b)\\s+is\\s+(\\d{1,2})'\n",
    "\n",
    "matches = re.findall(pattern, nameage)\n",
    "\n",
    "name_age_dict = {name: int(age) for name, age in matches}\n",
    "\n",
    "print(name_age_dict)"
   ]
  },
  {
   "cell_type": "markdown",
   "id": "c7ee326b",
   "metadata": {},
   "source": [
    "Question 2"
   ]
  },
  {
   "cell_type": "code",
   "execution_count": 3,
   "id": "8e8b9a79",
   "metadata": {},
   "outputs": [
    {
     "name": "stdout",
     "output_type": "stream",
     "text": [
      "'meow@gmail.com' is a valid email.\n",
      "'Hello.com' is not a valid email.\n",
      "'MrMu@.com' is not a valid email.\n",
      "'test123@domain.org' is a valid email.\n",
      "'short@d.co' is not a valid email.\n"
     ]
    }
   ],
   "source": [
    "pattern = r'^[a-zA-Z0-9]{3,10}@[a-zA-Z0-9]{2,10}\\.[a-zA-Z]{2,4}$'\n",
    "\n",
    "emails = [\n",
    "    \"meow@gmail.com\",\n",
    "    \"Hello.com\",\n",
    "    \"MrMu@.com\",\n",
    "    \"test123@domain.org\",\n",
    "    \"short@d.co\"\n",
    "]\n",
    "\n",
    "for email in emails:\n",
    "    if re.match(pattern, email):\n",
    "        print(f\"'{email}' is a valid email.\")\n",
    "    else:\n",
    "        print(f\"'{email}' is not a valid email.\")"
   ]
  },
  {
   "cell_type": "markdown",
   "id": "d23959eb",
   "metadata": {},
   "source": [
    "Question 3"
   ]
  },
  {
   "cell_type": "code",
   "execution_count": 4,
   "id": "e66fd3b3",
   "metadata": {},
   "outputs": [
    {
     "name": "stdout",
     "output_type": "stream",
     "text": [
      "'(257) 563-7401' is a valid number.\n",
      "'(111) 222-3333' is a valid number.\n",
      "'(1) 19-39' is not a valid number.\n",
      "'+994 012-13-32' is not a valid number.\n"
     ]
    }
   ],
   "source": [
    "pattern = r'^\\(\\d{3}\\) \\d{3}-\\d{4}$'\n",
    "\n",
    "numbers = [\n",
    "    \"(257) 563-7401\",\n",
    "    \"(111) 222-3333\",\n",
    "    \"(1) 19-39\",\n",
    "    \"+994 012-13-32\"\n",
    "]\n",
    "\n",
    "for number in numbers:\n",
    "    if re.match(pattern, number):\n",
    "        print(f\"'{number}' is a valid number.\")\n",
    "    else:\n",
    "        print(f\"'{number}' is not a valid number.\")"
   ]
  }
 ],
 "metadata": {
  "kernelspec": {
   "display_name": "base",
   "language": "python",
   "name": "python3"
  },
  "language_info": {
   "codemirror_mode": {
    "name": "ipython",
    "version": 3
   },
   "file_extension": ".py",
   "mimetype": "text/x-python",
   "name": "python",
   "nbconvert_exporter": "python",
   "pygments_lexer": "ipython3",
   "version": "3.12.7"
  }
 },
 "nbformat": 4,
 "nbformat_minor": 5
}
