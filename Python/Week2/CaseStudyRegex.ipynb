{
 "cells": [
  {
   "cell_type": "code",
   "execution_count": null,
   "id": "86ba4045",
   "metadata": {},
   "outputs": [],
   "source": [
    "# 1. Regex to select names and ages and create a dictionary\n",
    "import re\n",
    "Nameage = \"\\\n",
    "Janice is 22 and Theon is 33 \\\n",
    "Gabriel is 44 and Joey is 21\\\n",
    "\"\n",
    "# Regex explanation:\n",
    "# (\\w+) matches a name (word characters)\n",
    "# \\s+is\\s+ matches ' is ' with spaces\n",
    "# (\\d+) matches an age (digits)\n",
    "pairs = re.findall(r'(\\w+)\\s+is\\s+(\\d+)', Nameage)\n",
    "name_age_dict = {name: int(age) for name, age in pairs}\n",
    "print(name_age_dict)"
   ]
  },
  {
   "cell_type": "code",
   "execution_count": null,
   "id": "ac36ae2e",
   "metadata": {},
   "outputs": [],
   "source": [
    "# 2. Regex for email verification\n",
    "import re\n",
    "# Regex explanation:\n",
    "# ^[a-zA-Z0-9]{3,10}   : 3-10 letters or numbers at the start\n",
    "# @                    : @ symbol\n",
    "# [a-zA-Z0-9]{2,10}    : 2-10 letters or numbers (domain)\n",
    "# \\.                   : dot\n",
    "# [a-zA-Z]{2,4}$       : 2-4 letters (TLD)\n",
    "email_pattern = r'^[a-zA-Z0-9]{3,10}@[a-zA-Z0-9]{2,10}\\.[a-zA-Z]{2,4}$'\n",
    "\n",
    "test_emails = [\n",
    "    'meow@gmail.com',\n",
    "    'Hello.com',\n",
    "    'MrMu@.com',\n",
    "    'abc123@domain99.org',\n",
    "    'a@b.com',\n",
    "    'user123456789@domain.com',\n",
    "    'good_email@site.co'\n",
    "]\n",
    "for email in test_emails:\n",
    "    print(f\"{email}:\", bool(re.match(email_pattern, email)))"
   ]
  },
  {
   "cell_type": "code",
   "execution_count": null,
   "id": "fbcf4bc4",
   "metadata": {},
   "outputs": [],
   "source": [
    "# 3. Regex for number verification\n",
    "import re\n",
    "# Regex explanation:\n",
    "# ^\\(           : starts with (\n",
    "# \\d{3}         : exactly 3 digits\n",
    "# \\)            : closing )\n",
    "#  \\s           : a space\n",
    "# \\d+           : one or more digits (first part)\n",
    "# -             : dash\n",
    "# \\d+$          : one or more digits (second part), end of string\n",
    "number_pattern = r'^\\(\\d{3}\\) \\d+-\\d+$'\n",
    "\n",
    "test_numbers = [\n",
    "    '(257) 563-7401',\n",
    "    '(111) 222-3333',\n",
    "    '(1) 19-39',\n",
    "    '+994 012-13-32',\n",
    "    '(123) 456-7890',\n",
    "    '(999) 12-34',\n",
    "    '(555) 123-4567'\n",
    "]\n",
    "for number in test_numbers:\n",
    "    print(f\"{number}:\", bool(re.match(number_pattern, number)))"
   ]
  }
 ],
 "metadata": {
  "kernelspec": {
   "display_name": "base",
   "language": "python",
   "name": "python3"
  },
  "language_info": {
   "codemirror_mode": {
    "name": "ipython",
    "version": 3
   },
   "file_extension": ".py",
   "mimetype": "text/x-python",
   "name": "python",
   "nbconvert_exporter": "python",
   "pygments_lexer": "ipython3",
   "version": "3.12.7"
  }
 },
 "nbformat": 4,
 "nbformat_minor": 5
}
