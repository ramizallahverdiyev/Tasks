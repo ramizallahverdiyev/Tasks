{
 "cells": [
  {
   "cell_type": "code",
   "execution_count": null,
   "id": "54756160",
   "metadata": {},
   "outputs": [],
   "source": [
    "# 1) Create an array of 20 linearly spaced points between 0 and 1\n",
    "import numpy as np\n",
    "arr1 = np.linspace(0, 1, 20)\n",
    "print(arr1)"
   ]
  },
  {
   "cell_type": "code",
   "execution_count": null,
   "id": "329c2118",
   "metadata": {},
   "outputs": [],
   "source": [
    "# 2) Create a 5x5 matrix from 1 to 25 and sum the columns' numbers\n",
    "matrix_5x5 = np.arange(1, 26).reshape(5, 5)\n",
    "print(matrix_5x5)\n",
    "print(\"Sum of columns:\", matrix_5x5.sum(axis=0))"
   ]
  },
  {
   "cell_type": "code",
   "execution_count": null,
   "id": "7c62e562",
   "metadata": {},
   "outputs": [],
   "source": [
    "# 3) Create the specified 10x10 matrix with values from 0.01 to 1.0\n",
    "matrix_10x10 = np.linspace(0.01, 1.0, 100).reshape(10, 10)\n",
    "np.set_printoptions(precision=2, suppress=True)\n",
    "print(matrix_10x10)"
   ]
  },
  {
   "cell_type": "code",
   "execution_count": null,
   "id": "430328e1",
   "metadata": {},
   "outputs": [],
   "source": [
    "# 4) Structured data type and array with given information\n",
    "dtype = [('name', 'S20'), ('surname', 'S20'), ('age', 'i1'), ('mark', 'f4')]\n",
    "data = [\n",
    "    (b'Behram', b'Abbasov', 26, 85),\n",
    "    (b'Yusif', b'Abdullayev', 22, 92),\n",
    "    (b'Maryam', b'Mecidova', 19, 88),\n",
    "    (b'Vagif', b'Hesenzade', 24, 79)\n",
    "]\n",
    "arr_struct = np.array(data, dtype=dtype)\n",
    "print(arr_struct)"
   ]
  },
  {
   "cell_type": "code",
   "execution_count": null,
   "id": "f194fe8c",
   "metadata": {},
   "outputs": [],
   "source": [
    "# 5) Create the specified 10x10 array using slicing\n",
    "arr = np.zeros((10, 10), dtype=int)\n",
    "arr[:, 0] = 99\n",
    "arr[:, -1] = 99\n",
    "arr[0, :] = 99\n",
    "arr[-1, :] = 99\n",
    "arr[1, 1:-1] = [1, 0, 0, 0, 0, 0, 0, 0]\n",
    "arr[2, 1:-1] = [0, 1, 1, 1, 1, 1, 1, 0]\n",
    "arr[3, 1:-1] = [0, 1, 0, 0, 0, 0, 1, 0]\n",
    "arr[4, 1:-1] = [0, 1, 0, 1, 1, 0, 1, 0]\n",
    "arr[5, 1:-1] = [0, 1, 0, 1, 1, 0, 1, 0]\n",
    "arr[6, 1:-1] = [0, 1, 0, 0, 0, 0, 1, 0]\n",
    "arr[7, 1:-1] = [0, 1, 1, 1, 1, 1, 1, 0]\n",
    "arr[8, 1:-1] = [0, 0, 0, 0, 0, 0, 0, 1]\n",
    "print(arr)"
   ]
  }
 ],
 "metadata": {
  "kernelspec": {
   "display_name": "base",
   "language": "python",
   "name": "python3"
  },
  "language_info": {
   "codemirror_mode": {
    "name": "ipython",
    "version": 3
   },
   "file_extension": ".py",
   "mimetype": "text/x-python",
   "name": "python",
   "nbconvert_exporter": "python",
   "pygments_lexer": "ipython3",
   "version": "3.12.7"
  }
 },
 "nbformat": 4,
 "nbformat_minor": 5
}
