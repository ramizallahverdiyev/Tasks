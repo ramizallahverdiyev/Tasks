{
 "cells": [
  {
   "cell_type": "code",
   "execution_count": 2,
   "id": "54756160",
   "metadata": {},
   "outputs": [
    {
     "name": "stdout",
     "output_type": "stream",
     "text": [
      "[0.         0.05263158 0.10526316 0.15789474 0.21052632 0.26315789\n",
      " 0.31578947 0.36842105 0.42105263 0.47368421 0.52631579 0.57894737\n",
      " 0.63157895 0.68421053 0.73684211 0.78947368 0.84210526 0.89473684\n",
      " 0.94736842 1.        ]\n"
     ]
    }
   ],
   "source": [
    "# 1) Create an array of 20 linearly spaced points between 0 and 1\n",
    "import numpy as np\n",
    "arr1 = np.linspace(0, 1, 20)\n",
    "print(arr1)"
   ]
  },
  {
   "cell_type": "code",
   "execution_count": 3,
   "id": "329c2118",
   "metadata": {},
   "outputs": [
    {
     "name": "stdout",
     "output_type": "stream",
     "text": [
      "[[ 1  2  3  4  5]\n",
      " [ 6  7  8  9 10]\n",
      " [11 12 13 14 15]\n",
      " [16 17 18 19 20]\n",
      " [21 22 23 24 25]]\n",
      "Sum of columns: [55 60 65 70 75]\n"
     ]
    }
   ],
   "source": [
    "# 2) Create a 5x5 matrix from 1 to 25 and sum the columns' numbers\n",
    "matrix_5x5 = np.arange(1, 26).reshape(5, 5)\n",
    "print(matrix_5x5)\n",
    "print(\"Sum of columns:\", matrix_5x5.sum(axis=0))"
   ]
  },
  {
   "cell_type": "code",
   "execution_count": 4,
   "id": "7c62e562",
   "metadata": {},
   "outputs": [
    {
     "name": "stdout",
     "output_type": "stream",
     "text": [
      "[[0.01 0.02 0.03 0.04 0.05 0.06 0.07 0.08 0.09 0.1 ]\n",
      " [0.11 0.12 0.13 0.14 0.15 0.16 0.17 0.18 0.19 0.2 ]\n",
      " [0.21 0.22 0.23 0.24 0.25 0.26 0.27 0.28 0.29 0.3 ]\n",
      " [0.31 0.32 0.33 0.34 0.35 0.36 0.37 0.38 0.39 0.4 ]\n",
      " [0.41 0.42 0.43 0.44 0.45 0.46 0.47 0.48 0.49 0.5 ]\n",
      " [0.51 0.52 0.53 0.54 0.55 0.56 0.57 0.58 0.59 0.6 ]\n",
      " [0.61 0.62 0.63 0.64 0.65 0.66 0.67 0.68 0.69 0.7 ]\n",
      " [0.71 0.72 0.73 0.74 0.75 0.76 0.77 0.78 0.79 0.8 ]\n",
      " [0.81 0.82 0.83 0.84 0.85 0.86 0.87 0.88 0.89 0.9 ]\n",
      " [0.91 0.92 0.93 0.94 0.95 0.96 0.97 0.98 0.99 1.  ]]\n"
     ]
    }
   ],
   "source": [
    "# 3) Create the specified 10x10 matrix with values from 0.01 to 1.0\n",
    "matrix_10x10 = np.linspace(0.01, 1.0, 100).reshape(10, 10)\n",
    "np.set_printoptions(precision=2, suppress=True)\n",
    "print(matrix_10x10)"
   ]
  },
  {
   "cell_type": "code",
   "execution_count": 7,
   "id": "430328e1",
   "metadata": {},
   "outputs": [
    {
     "name": "stdout",
     "output_type": "stream",
     "text": [
      "[(b'Behram', b'Abbasov', 26, 85.) (b'Yusif', b'Abdullayev', 22, 92.)\n",
      " (b'Maryam', b'Mecidova', 19, 88.) (b'Vagif', b'Hesenzade', 24, 79.)]\n"
     ]
    }
   ],
   "source": [
    "# 4) Structured data type and array with given information\n",
    "dtype = [('name', 'S20'), ('surname', 'S20'), ('age', 'i1'), ('mark', 'f4')]\n",
    "data = [\n",
    "    (b'Behram', b'Abbasov', 26, 85),\n",
    "    (b'Yusif', b'Abdullayev', 22, 92),\n",
    "    (b'Maryam', b'Mecidova', 19, 88),\n",
    "    (b'Vagif', b'Hesenzade', 24, 79)\n",
    "]\n",
    "arr_struct = np.array(data, dtype=dtype)\n",
    "print(arr_struct)"
   ]
  },
  {
   "cell_type": "code",
   "execution_count": 6,
   "id": "f194fe8c",
   "metadata": {},
   "outputs": [
    {
     "name": "stdout",
     "output_type": "stream",
     "text": [
      "[[99 99 99 99 99 99 99 99 99 99]\n",
      " [99  1  0  0  0  0  0  0  0 99]\n",
      " [99  0  1  1  1  1  1  1  0 99]\n",
      " [99  0  1  0  0  0  0  1  0 99]\n",
      " [99  0  1  0  1  1  0  1  0 99]\n",
      " [99  0  1  0  1  1  0  1  0 99]\n",
      " [99  0  1  0  0  0  0  1  0 99]\n",
      " [99  0  1  1  1  1  1  1  0 99]\n",
      " [99  0  0  0  0  0  0  0  1 99]\n",
      " [99 99 99 99 99 99 99 99 99 99]]\n"
     ]
    }
   ],
   "source": [
    "# 5) Create the specified 10x10 array using slicing\n",
    "arr = np.zeros((10, 10), dtype=int)\n",
    "arr[:, 0] = 99\n",
    "arr[:, -1] = 99\n",
    "arr[0, :] = 99\n",
    "arr[-1, :] = 99\n",
    "arr[1, 1:-1] = [1, 0, 0, 0, 0, 0, 0, 0]\n",
    "arr[2, 1:-1] = [0, 1, 1, 1, 1, 1, 1, 0]\n",
    "arr[3, 1:-1] = [0, 1, 0, 0, 0, 0, 1, 0]\n",
    "arr[4, 1:-1] = [0, 1, 0, 1, 1, 0, 1, 0]\n",
    "arr[5, 1:-1] = [0, 1, 0, 1, 1, 0, 1, 0]\n",
    "arr[6, 1:-1] = [0, 1, 0, 0, 0, 0, 1, 0]\n",
    "arr[7, 1:-1] = [0, 1, 1, 1, 1, 1, 1, 0]\n",
    "arr[8, 1:-1] = [0, 0, 0, 0, 0, 0, 0, 1]\n",
    "print(arr)"
   ]
  }
 ],
 "metadata": {
  "kernelspec": {
   "display_name": ".venv",
   "language": "python",
   "name": "python3"
  },
  "language_info": {
   "codemirror_mode": {
    "name": "ipython",
    "version": 3
   },
   "file_extension": ".py",
   "mimetype": "text/x-python",
   "name": "python",
   "nbconvert_exporter": "python",
   "pygments_lexer": "ipython3",
   "version": "3.12.9"
  }
 },
 "nbformat": 4,
 "nbformat_minor": 5
}
