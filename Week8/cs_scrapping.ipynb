{
 "cells": [
  {
   "cell_type": "code",
   "execution_count": 1,
   "id": "b4c43bde",
   "metadata": {},
   "outputs": [],
   "source": [
    "import requests\n",
    "from bs4 import BeautifulSoup\n",
    "import pandas as pd"
   ]
  },
  {
   "cell_type": "code",
   "execution_count": 2,
   "id": "7f56d64d",
   "metadata": {},
   "outputs": [],
   "source": [
    "def scrape_subreddit(subreddit_name, limit=25):\n",
    "    headers = {'User-Agent': 'Mozilla/5.0'}\n",
    "    url = f\"https://old.reddit.com/r/{subreddit_name}/\"\n",
    "\n",
    "    response = requests.get(url, headers=headers)\n",
    "    if response.status_code != 200:\n",
    "        print(f\"Failed to fetch data from r/{subreddit_name}, status code: {response.status_code}\")\n",
    "        return pd.DataFrame()\n",
    "\n",
    "    soup = BeautifulSoup(response.text, 'html.parser')\n",
    "    posts_data = []\n",
    "\n",
    "    for post in soup.find_all('div', class_='thing')[:limit]:\n",
    "        try:\n",
    "            title = post.find('a', class_='title').text.strip()\n",
    "            \n",
    "            upvotes_tag = post.find('div', class_='score unvoted')\n",
    "            if upvotes_tag:\n",
    "                upvote_text = upvotes_tag.get('title')\n",
    "                upvotes = int(upvote_text.replace('k', '000')) if upvote_text and upvote_text.isdigit() else 0\n",
    "            else:\n",
    "                upvotes = 0\n",
    "\n",
    "            time_posted = post.find('time')['title'] if post.find('time') else \"Unknown\"\n",
    "            link = \"https://www.reddit.com\" + post.get('data-permalink')\n",
    "\n",
    "            posts_data.append({\n",
    "                'Title': title,\n",
    "                'Upvotes': upvotes,\n",
    "                'Posted On': time_posted,\n",
    "                'Post URL': link\n",
    "            })\n",
    "        except Exception as e:\n",
    "            print(\"Skipping a post due to error:\", e)\n",
    "\n",
    "    df = pd.DataFrame(posts_data)\n",
    "    return df\n"
   ]
  },
  {
   "cell_type": "code",
   "execution_count": 3,
   "id": "c49ebe1f",
   "metadata": {},
   "outputs": [],
   "source": [
    "df = scrape_subreddit(\"Python\")"
   ]
  },
  {
   "cell_type": "code",
   "execution_count": 4,
   "id": "a9a590c3",
   "metadata": {},
   "outputs": [
    {
     "data": {
      "application/vnd.microsoft.datawrangler.viewer.v0+json": {
       "columns": [
        {
         "name": "index",
         "rawType": "int64",
         "type": "integer"
        },
        {
         "name": "Title",
         "rawType": "object",
         "type": "string"
        },
        {
         "name": "Upvotes",
         "rawType": "int64",
         "type": "integer"
        },
        {
         "name": "Posted On",
         "rawType": "object",
         "type": "string"
        },
        {
         "name": "Post URL",
         "rawType": "object",
         "type": "string"
        }
       ],
       "conversionMethod": "pd.DataFrame",
       "ref": "8f6f8cb8-d999-4f50-88f4-c437b170023a",
       "rows": [
        [
         "0",
         "PyCon US 2025 is next week!",
         "11",
         "Tue May 6 14:30:48 2025 UTC",
         "https://www.reddit.com/r/Python/comments/1kg5xvh/pycon_us_2025_is_next_week/"
        ],
        [
         "1",
         "Thursday Daily Thread: Python Careers, Courses, and Furthering Education!",
         "3",
         "Thu May 15 00:00:31 2025 UTC",
         "https://www.reddit.com/r/Python/comments/1kmufcq/thursday_daily_thread_python_careers_courses_and/"
        ],
        [
         "2",
         "Microsoft layoffs hit Faster CPython team - including the Technical Lead, Mark Shannon",
         "435",
         "Thu May 15 01:39:39 2025 UTC",
         "https://www.reddit.com/r/Python/comments/1kmwdbu/microsoft_layoffs_hit_faster_cpython_team/"
        ],
        [
         "3",
         "Look for people who can promote my products for me. If your karma has over 1000 Please contact me.",
         "1",
         "Unknown",
         "https://www.reddit.com/user/Great_Advice_574/comments/1kn0tmm/look_for_people_who_can_promote_my_products_for/"
        ],
        [
         "4",
         "Blame as a Service: Open-source for Blaming Others",
         "37",
         "Thu May 15 02:27:28 2025 UTC",
         "https://www.reddit.com/r/Python/comments/1kmxawf/blame_as_a_service_opensource_for_blaming_others/"
        ]
       ],
       "shape": {
        "columns": 4,
        "rows": 5
       }
      },
      "text/html": [
       "<div>\n",
       "<style scoped>\n",
       "    .dataframe tbody tr th:only-of-type {\n",
       "        vertical-align: middle;\n",
       "    }\n",
       "\n",
       "    .dataframe tbody tr th {\n",
       "        vertical-align: top;\n",
       "    }\n",
       "\n",
       "    .dataframe thead th {\n",
       "        text-align: right;\n",
       "    }\n",
       "</style>\n",
       "<table border=\"1\" class=\"dataframe\">\n",
       "  <thead>\n",
       "    <tr style=\"text-align: right;\">\n",
       "      <th></th>\n",
       "      <th>Title</th>\n",
       "      <th>Upvotes</th>\n",
       "      <th>Posted On</th>\n",
       "      <th>Post URL</th>\n",
       "    </tr>\n",
       "  </thead>\n",
       "  <tbody>\n",
       "    <tr>\n",
       "      <th>0</th>\n",
       "      <td>PyCon US 2025 is next week!</td>\n",
       "      <td>11</td>\n",
       "      <td>Tue May 6 14:30:48 2025 UTC</td>\n",
       "      <td>https://www.reddit.com/r/Python/comments/1kg5x...</td>\n",
       "    </tr>\n",
       "    <tr>\n",
       "      <th>1</th>\n",
       "      <td>Thursday Daily Thread: Python Careers, Courses...</td>\n",
       "      <td>3</td>\n",
       "      <td>Thu May 15 00:00:31 2025 UTC</td>\n",
       "      <td>https://www.reddit.com/r/Python/comments/1kmuf...</td>\n",
       "    </tr>\n",
       "    <tr>\n",
       "      <th>2</th>\n",
       "      <td>Microsoft layoffs hit Faster CPython team - in...</td>\n",
       "      <td>435</td>\n",
       "      <td>Thu May 15 01:39:39 2025 UTC</td>\n",
       "      <td>https://www.reddit.com/r/Python/comments/1kmwd...</td>\n",
       "    </tr>\n",
       "    <tr>\n",
       "      <th>3</th>\n",
       "      <td>Look for people who can promote my products fo...</td>\n",
       "      <td>1</td>\n",
       "      <td>Unknown</td>\n",
       "      <td>https://www.reddit.com/user/Great_Advice_574/c...</td>\n",
       "    </tr>\n",
       "    <tr>\n",
       "      <th>4</th>\n",
       "      <td>Blame as a Service: Open-source for Blaming Ot...</td>\n",
       "      <td>37</td>\n",
       "      <td>Thu May 15 02:27:28 2025 UTC</td>\n",
       "      <td>https://www.reddit.com/r/Python/comments/1kmxa...</td>\n",
       "    </tr>\n",
       "  </tbody>\n",
       "</table>\n",
       "</div>"
      ],
      "text/plain": [
       "                                               Title  Upvotes  \\\n",
       "0                        PyCon US 2025 is next week!       11   \n",
       "1  Thursday Daily Thread: Python Careers, Courses...        3   \n",
       "2  Microsoft layoffs hit Faster CPython team - in...      435   \n",
       "3  Look for people who can promote my products fo...        1   \n",
       "4  Blame as a Service: Open-source for Blaming Ot...       37   \n",
       "\n",
       "                      Posted On  \\\n",
       "0   Tue May 6 14:30:48 2025 UTC   \n",
       "1  Thu May 15 00:00:31 2025 UTC   \n",
       "2  Thu May 15 01:39:39 2025 UTC   \n",
       "3                       Unknown   \n",
       "4  Thu May 15 02:27:28 2025 UTC   \n",
       "\n",
       "                                            Post URL  \n",
       "0  https://www.reddit.com/r/Python/comments/1kg5x...  \n",
       "1  https://www.reddit.com/r/Python/comments/1kmuf...  \n",
       "2  https://www.reddit.com/r/Python/comments/1kmwd...  \n",
       "3  https://www.reddit.com/user/Great_Advice_574/c...  \n",
       "4  https://www.reddit.com/r/Python/comments/1kmxa...  "
      ]
     },
     "execution_count": 4,
     "metadata": {},
     "output_type": "execute_result"
    }
   ],
   "source": [
    "df.head()"
   ]
  }
 ],
 "metadata": {
  "kernelspec": {
   "display_name": ".venv",
   "language": "python",
   "name": "python3"
  },
  "language_info": {
   "codemirror_mode": {
    "name": "ipython",
    "version": 3
   },
   "file_extension": ".py",
   "mimetype": "text/x-python",
   "name": "python",
   "nbconvert_exporter": "python",
   "pygments_lexer": "ipython3",
   "version": "3.12.9"
  }
 },
 "nbformat": 4,
 "nbformat_minor": 5
}
