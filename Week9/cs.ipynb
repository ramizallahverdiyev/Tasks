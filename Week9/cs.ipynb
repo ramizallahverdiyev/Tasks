{
 "cells": [
  {
   "cell_type": "code",
   "execution_count": 6,
   "id": "2ea5985c",
   "metadata": {},
   "outputs": [],
   "source": [
    "import pandas as pd\n",
    "from sklearn.model_selection import train_test_split\n",
    "pd.set_option('display.max_columns', None)"
   ]
  },
  {
   "cell_type": "code",
   "execution_count": 7,
   "id": "e3fe7938",
   "metadata": {},
   "outputs": [
    {
     "data": {
      "application/vnd.microsoft.datawrangler.viewer.v0+json": {
       "columns": [
        {
         "name": "index",
         "rawType": "int64",
         "type": "integer"
        },
        {
         "name": "Date",
         "rawType": "object",
         "type": "string"
        },
        {
         "name": "Location",
         "rawType": "object",
         "type": "string"
        },
        {
         "name": "MinTemp",
         "rawType": "float64",
         "type": "float"
        },
        {
         "name": "MaxTemp",
         "rawType": "float64",
         "type": "float"
        },
        {
         "name": "Rainfall",
         "rawType": "float64",
         "type": "float"
        },
        {
         "name": "Evaporation",
         "rawType": "float64",
         "type": "float"
        },
        {
         "name": "Sunshine",
         "rawType": "float64",
         "type": "float"
        },
        {
         "name": "WindGustDir",
         "rawType": "object",
         "type": "string"
        },
        {
         "name": "WindGustSpeed",
         "rawType": "float64",
         "type": "float"
        },
        {
         "name": "WindDir9am",
         "rawType": "object",
         "type": "string"
        },
        {
         "name": "WindDir3pm",
         "rawType": "object",
         "type": "string"
        },
        {
         "name": "WindSpeed9am",
         "rawType": "float64",
         "type": "float"
        },
        {
         "name": "WindSpeed3pm",
         "rawType": "float64",
         "type": "float"
        },
        {
         "name": "Humidity9am",
         "rawType": "float64",
         "type": "float"
        },
        {
         "name": "Humidity3pm",
         "rawType": "float64",
         "type": "float"
        },
        {
         "name": "Pressure9am",
         "rawType": "float64",
         "type": "float"
        },
        {
         "name": "Pressure3pm",
         "rawType": "float64",
         "type": "float"
        },
        {
         "name": "Cloud9am",
         "rawType": "float64",
         "type": "float"
        },
        {
         "name": "Cloud3pm",
         "rawType": "float64",
         "type": "float"
        },
        {
         "name": "Temp9am",
         "rawType": "float64",
         "type": "float"
        },
        {
         "name": "Temp3pm",
         "rawType": "float64",
         "type": "float"
        },
        {
         "name": "RainToday",
         "rawType": "object",
         "type": "string"
        },
        {
         "name": "RainTomorrow",
         "rawType": "object",
         "type": "string"
        }
       ],
       "ref": "2ecf3bfe-df5b-4152-9f2e-911211425545",
       "rows": [
        [
         "0",
         "2008-12-01",
         "Albury",
         "13.4",
         "22.9",
         "0.6",
         null,
         null,
         "W",
         "44.0",
         "W",
         "WNW",
         "20.0",
         "24.0",
         "71.0",
         "22.0",
         "1007.7",
         "1007.1",
         "8.0",
         null,
         "16.9",
         "21.8",
         "No",
         "No"
        ],
        [
         "1",
         "2008-12-02",
         "Albury",
         "7.4",
         "25.1",
         "0.0",
         null,
         null,
         "WNW",
         "44.0",
         "NNW",
         "WSW",
         "4.0",
         "22.0",
         "44.0",
         "25.0",
         "1010.6",
         "1007.8",
         null,
         null,
         "17.2",
         "24.3",
         "No",
         "No"
        ],
        [
         "2",
         "2008-12-03",
         "Albury",
         "12.9",
         "25.7",
         "0.0",
         null,
         null,
         "WSW",
         "46.0",
         "W",
         "WSW",
         "19.0",
         "26.0",
         "38.0",
         "30.0",
         "1007.6",
         "1008.7",
         null,
         "2.0",
         "21.0",
         "23.2",
         "No",
         "No"
        ],
        [
         "3",
         "2008-12-04",
         "Albury",
         "9.2",
         "28.0",
         "0.0",
         null,
         null,
         "NE",
         "24.0",
         "SE",
         "E",
         "11.0",
         "9.0",
         "45.0",
         "16.0",
         "1017.6",
         "1012.8",
         null,
         null,
         "18.1",
         "26.5",
         "No",
         "No"
        ],
        [
         "4",
         "2008-12-05",
         "Albury",
         "17.5",
         "32.3",
         "1.0",
         null,
         null,
         "W",
         "41.0",
         "ENE",
         "NW",
         "7.0",
         "20.0",
         "82.0",
         "33.0",
         "1010.8",
         "1006.0",
         "7.0",
         "8.0",
         "17.8",
         "29.7",
         "No",
         "No"
        ]
       ],
       "shape": {
        "columns": 23,
        "rows": 5
       }
      },
      "text/html": [
       "<div>\n",
       "<style scoped>\n",
       "    .dataframe tbody tr th:only-of-type {\n",
       "        vertical-align: middle;\n",
       "    }\n",
       "\n",
       "    .dataframe tbody tr th {\n",
       "        vertical-align: top;\n",
       "    }\n",
       "\n",
       "    .dataframe thead th {\n",
       "        text-align: right;\n",
       "    }\n",
       "</style>\n",
       "<table border=\"1\" class=\"dataframe\">\n",
       "  <thead>\n",
       "    <tr style=\"text-align: right;\">\n",
       "      <th></th>\n",
       "      <th>Date</th>\n",
       "      <th>Location</th>\n",
       "      <th>MinTemp</th>\n",
       "      <th>MaxTemp</th>\n",
       "      <th>Rainfall</th>\n",
       "      <th>Evaporation</th>\n",
       "      <th>Sunshine</th>\n",
       "      <th>WindGustDir</th>\n",
       "      <th>WindGustSpeed</th>\n",
       "      <th>WindDir9am</th>\n",
       "      <th>WindDir3pm</th>\n",
       "      <th>WindSpeed9am</th>\n",
       "      <th>WindSpeed3pm</th>\n",
       "      <th>Humidity9am</th>\n",
       "      <th>Humidity3pm</th>\n",
       "      <th>Pressure9am</th>\n",
       "      <th>Pressure3pm</th>\n",
       "      <th>Cloud9am</th>\n",
       "      <th>Cloud3pm</th>\n",
       "      <th>Temp9am</th>\n",
       "      <th>Temp3pm</th>\n",
       "      <th>RainToday</th>\n",
       "      <th>RainTomorrow</th>\n",
       "    </tr>\n",
       "  </thead>\n",
       "  <tbody>\n",
       "    <tr>\n",
       "      <th>0</th>\n",
       "      <td>2008-12-01</td>\n",
       "      <td>Albury</td>\n",
       "      <td>13.4</td>\n",
       "      <td>22.9</td>\n",
       "      <td>0.6</td>\n",
       "      <td>NaN</td>\n",
       "      <td>NaN</td>\n",
       "      <td>W</td>\n",
       "      <td>44.0</td>\n",
       "      <td>W</td>\n",
       "      <td>WNW</td>\n",
       "      <td>20.0</td>\n",
       "      <td>24.0</td>\n",
       "      <td>71.0</td>\n",
       "      <td>22.0</td>\n",
       "      <td>1007.7</td>\n",
       "      <td>1007.1</td>\n",
       "      <td>8.0</td>\n",
       "      <td>NaN</td>\n",
       "      <td>16.9</td>\n",
       "      <td>21.8</td>\n",
       "      <td>No</td>\n",
       "      <td>No</td>\n",
       "    </tr>\n",
       "    <tr>\n",
       "      <th>1</th>\n",
       "      <td>2008-12-02</td>\n",
       "      <td>Albury</td>\n",
       "      <td>7.4</td>\n",
       "      <td>25.1</td>\n",
       "      <td>0.0</td>\n",
       "      <td>NaN</td>\n",
       "      <td>NaN</td>\n",
       "      <td>WNW</td>\n",
       "      <td>44.0</td>\n",
       "      <td>NNW</td>\n",
       "      <td>WSW</td>\n",
       "      <td>4.0</td>\n",
       "      <td>22.0</td>\n",
       "      <td>44.0</td>\n",
       "      <td>25.0</td>\n",
       "      <td>1010.6</td>\n",
       "      <td>1007.8</td>\n",
       "      <td>NaN</td>\n",
       "      <td>NaN</td>\n",
       "      <td>17.2</td>\n",
       "      <td>24.3</td>\n",
       "      <td>No</td>\n",
       "      <td>No</td>\n",
       "    </tr>\n",
       "    <tr>\n",
       "      <th>2</th>\n",
       "      <td>2008-12-03</td>\n",
       "      <td>Albury</td>\n",
       "      <td>12.9</td>\n",
       "      <td>25.7</td>\n",
       "      <td>0.0</td>\n",
       "      <td>NaN</td>\n",
       "      <td>NaN</td>\n",
       "      <td>WSW</td>\n",
       "      <td>46.0</td>\n",
       "      <td>W</td>\n",
       "      <td>WSW</td>\n",
       "      <td>19.0</td>\n",
       "      <td>26.0</td>\n",
       "      <td>38.0</td>\n",
       "      <td>30.0</td>\n",
       "      <td>1007.6</td>\n",
       "      <td>1008.7</td>\n",
       "      <td>NaN</td>\n",
       "      <td>2.0</td>\n",
       "      <td>21.0</td>\n",
       "      <td>23.2</td>\n",
       "      <td>No</td>\n",
       "      <td>No</td>\n",
       "    </tr>\n",
       "    <tr>\n",
       "      <th>3</th>\n",
       "      <td>2008-12-04</td>\n",
       "      <td>Albury</td>\n",
       "      <td>9.2</td>\n",
       "      <td>28.0</td>\n",
       "      <td>0.0</td>\n",
       "      <td>NaN</td>\n",
       "      <td>NaN</td>\n",
       "      <td>NE</td>\n",
       "      <td>24.0</td>\n",
       "      <td>SE</td>\n",
       "      <td>E</td>\n",
       "      <td>11.0</td>\n",
       "      <td>9.0</td>\n",
       "      <td>45.0</td>\n",
       "      <td>16.0</td>\n",
       "      <td>1017.6</td>\n",
       "      <td>1012.8</td>\n",
       "      <td>NaN</td>\n",
       "      <td>NaN</td>\n",
       "      <td>18.1</td>\n",
       "      <td>26.5</td>\n",
       "      <td>No</td>\n",
       "      <td>No</td>\n",
       "    </tr>\n",
       "    <tr>\n",
       "      <th>4</th>\n",
       "      <td>2008-12-05</td>\n",
       "      <td>Albury</td>\n",
       "      <td>17.5</td>\n",
       "      <td>32.3</td>\n",
       "      <td>1.0</td>\n",
       "      <td>NaN</td>\n",
       "      <td>NaN</td>\n",
       "      <td>W</td>\n",
       "      <td>41.0</td>\n",
       "      <td>ENE</td>\n",
       "      <td>NW</td>\n",
       "      <td>7.0</td>\n",
       "      <td>20.0</td>\n",
       "      <td>82.0</td>\n",
       "      <td>33.0</td>\n",
       "      <td>1010.8</td>\n",
       "      <td>1006.0</td>\n",
       "      <td>7.0</td>\n",
       "      <td>8.0</td>\n",
       "      <td>17.8</td>\n",
       "      <td>29.7</td>\n",
       "      <td>No</td>\n",
       "      <td>No</td>\n",
       "    </tr>\n",
       "  </tbody>\n",
       "</table>\n",
       "</div>"
      ],
      "text/plain": [
       "         Date Location  MinTemp  MaxTemp  Rainfall  Evaporation  Sunshine  \\\n",
       "0  2008-12-01   Albury     13.4     22.9       0.6          NaN       NaN   \n",
       "1  2008-12-02   Albury      7.4     25.1       0.0          NaN       NaN   \n",
       "2  2008-12-03   Albury     12.9     25.7       0.0          NaN       NaN   \n",
       "3  2008-12-04   Albury      9.2     28.0       0.0          NaN       NaN   \n",
       "4  2008-12-05   Albury     17.5     32.3       1.0          NaN       NaN   \n",
       "\n",
       "  WindGustDir  WindGustSpeed WindDir9am WindDir3pm  WindSpeed9am  \\\n",
       "0           W           44.0          W        WNW          20.0   \n",
       "1         WNW           44.0        NNW        WSW           4.0   \n",
       "2         WSW           46.0          W        WSW          19.0   \n",
       "3          NE           24.0         SE          E          11.0   \n",
       "4           W           41.0        ENE         NW           7.0   \n",
       "\n",
       "   WindSpeed3pm  Humidity9am  Humidity3pm  Pressure9am  Pressure3pm  Cloud9am  \\\n",
       "0          24.0         71.0         22.0       1007.7       1007.1       8.0   \n",
       "1          22.0         44.0         25.0       1010.6       1007.8       NaN   \n",
       "2          26.0         38.0         30.0       1007.6       1008.7       NaN   \n",
       "3           9.0         45.0         16.0       1017.6       1012.8       NaN   \n",
       "4          20.0         82.0         33.0       1010.8       1006.0       7.0   \n",
       "\n",
       "   Cloud3pm  Temp9am  Temp3pm RainToday RainTomorrow  \n",
       "0       NaN     16.9     21.8        No           No  \n",
       "1       NaN     17.2     24.3        No           No  \n",
       "2       2.0     21.0     23.2        No           No  \n",
       "3       NaN     18.1     26.5        No           No  \n",
       "4       8.0     17.8     29.7        No           No  "
      ]
     },
     "execution_count": 7,
     "metadata": {},
     "output_type": "execute_result"
    }
   ],
   "source": [
    "df = pd.read_csv('weatherAUS.csv')\n",
    "df.head()"
   ]
  },
  {
   "cell_type": "code",
   "execution_count": 8,
   "id": "b1e2cc56",
   "metadata": {},
   "outputs": [
    {
     "name": "stdout",
     "output_type": "stream",
     "text": [
      "<class 'pandas.core.frame.DataFrame'>\n",
      "RangeIndex: 145460 entries, 0 to 145459\n",
      "Data columns (total 23 columns):\n",
      " #   Column         Non-Null Count   Dtype  \n",
      "---  ------         --------------   -----  \n",
      " 0   Date           145460 non-null  object \n",
      " 1   Location       145460 non-null  object \n",
      " 2   MinTemp        143975 non-null  float64\n",
      " 3   MaxTemp        144199 non-null  float64\n",
      " 4   Rainfall       142199 non-null  float64\n",
      " 5   Evaporation    82670 non-null   float64\n",
      " 6   Sunshine       75625 non-null   float64\n",
      " 7   WindGustDir    135134 non-null  object \n",
      " 8   WindGustSpeed  135197 non-null  float64\n",
      " 9   WindDir9am     134894 non-null  object \n",
      " 10  WindDir3pm     141232 non-null  object \n",
      " 11  WindSpeed9am   143693 non-null  float64\n",
      " 12  WindSpeed3pm   142398 non-null  float64\n",
      " 13  Humidity9am    142806 non-null  float64\n",
      " 14  Humidity3pm    140953 non-null  float64\n",
      " 15  Pressure9am    130395 non-null  float64\n",
      " 16  Pressure3pm    130432 non-null  float64\n",
      " 17  Cloud9am       89572 non-null   float64\n",
      " 18  Cloud3pm       86102 non-null   float64\n",
      " 19  Temp9am        143693 non-null  float64\n",
      " 20  Temp3pm        141851 non-null  float64\n",
      " 21  RainToday      142199 non-null  object \n",
      " 22  RainTomorrow   142193 non-null  object \n",
      "dtypes: float64(16), object(7)\n",
      "memory usage: 25.5+ MB\n"
     ]
    }
   ],
   "source": [
    "df.info()"
   ]
  },
  {
   "cell_type": "code",
   "execution_count": 9,
   "id": "ad1faade",
   "metadata": {},
   "outputs": [
    {
     "data": {
      "application/vnd.microsoft.datawrangler.viewer.v0+json": {
       "columns": [
        {
         "name": "index",
         "rawType": "object",
         "type": "string"
        },
        {
         "name": "0",
         "rawType": "int64",
         "type": "integer"
        }
       ],
       "ref": "9ca695c2-0412-4140-8280-d65d693528df",
       "rows": [
        [
         "Date",
         "0"
        ],
        [
         "Location",
         "0"
        ],
        [
         "MinTemp",
         "1485"
        ],
        [
         "MaxTemp",
         "1261"
        ],
        [
         "Rainfall",
         "3261"
        ],
        [
         "Evaporation",
         "62790"
        ],
        [
         "Sunshine",
         "69835"
        ],
        [
         "WindGustDir",
         "10326"
        ],
        [
         "WindGustSpeed",
         "10263"
        ],
        [
         "WindDir9am",
         "10566"
        ],
        [
         "WindDir3pm",
         "4228"
        ],
        [
         "WindSpeed9am",
         "1767"
        ],
        [
         "WindSpeed3pm",
         "3062"
        ],
        [
         "Humidity9am",
         "2654"
        ],
        [
         "Humidity3pm",
         "4507"
        ],
        [
         "Pressure9am",
         "15065"
        ],
        [
         "Pressure3pm",
         "15028"
        ],
        [
         "Cloud9am",
         "55888"
        ],
        [
         "Cloud3pm",
         "59358"
        ],
        [
         "Temp9am",
         "1767"
        ],
        [
         "Temp3pm",
         "3609"
        ],
        [
         "RainToday",
         "3261"
        ],
        [
         "RainTomorrow",
         "3267"
        ]
       ],
       "shape": {
        "columns": 1,
        "rows": 23
       }
      },
      "text/plain": [
       "Date                 0\n",
       "Location             0\n",
       "MinTemp           1485\n",
       "MaxTemp           1261\n",
       "Rainfall          3261\n",
       "Evaporation      62790\n",
       "Sunshine         69835\n",
       "WindGustDir      10326\n",
       "WindGustSpeed    10263\n",
       "WindDir9am       10566\n",
       "WindDir3pm        4228\n",
       "WindSpeed9am      1767\n",
       "WindSpeed3pm      3062\n",
       "Humidity9am       2654\n",
       "Humidity3pm       4507\n",
       "Pressure9am      15065\n",
       "Pressure3pm      15028\n",
       "Cloud9am         55888\n",
       "Cloud3pm         59358\n",
       "Temp9am           1767\n",
       "Temp3pm           3609\n",
       "RainToday         3261\n",
       "RainTomorrow      3267\n",
       "dtype: int64"
      ]
     },
     "execution_count": 9,
     "metadata": {},
     "output_type": "execute_result"
    }
   ],
   "source": [
    "df.isnull().sum()"
   ]
  },
  {
   "cell_type": "code",
   "execution_count": 10,
   "id": "7cc2f7ac",
   "metadata": {},
   "outputs": [
    {
     "data": {
      "application/vnd.microsoft.datawrangler.viewer.v0+json": {
       "columns": [
        {
         "name": "index",
         "rawType": "object",
         "type": "string"
        },
        {
         "name": "0",
         "rawType": "int64",
         "type": "integer"
        }
       ],
       "ref": "16f89d1d-797f-4ae3-a8c9-028db34908c9",
       "rows": [
        [
         "Date",
         "0"
        ],
        [
         "Location",
         "0"
        ],
        [
         "MinTemp",
         "637"
        ],
        [
         "MaxTemp",
         "322"
        ],
        [
         "Rainfall",
         "1406"
        ],
        [
         "Evaporation",
         "60843"
        ],
        [
         "Sunshine",
         "67816"
        ],
        [
         "WindGustDir",
         "9330"
        ],
        [
         "WindGustSpeed",
         "9270"
        ],
        [
         "WindDir9am",
         "10013"
        ],
        [
         "WindDir3pm",
         "3778"
        ],
        [
         "WindSpeed9am",
         "1348"
        ],
        [
         "WindSpeed3pm",
         "2630"
        ],
        [
         "Humidity9am",
         "1774"
        ],
        [
         "Humidity3pm",
         "3610"
        ],
        [
         "Pressure9am",
         "14014"
        ],
        [
         "Pressure3pm",
         "13981"
        ],
        [
         "Cloud9am",
         "53657"
        ],
        [
         "Cloud3pm",
         "57094"
        ],
        [
         "Temp9am",
         "904"
        ],
        [
         "Temp3pm",
         "2726"
        ],
        [
         "RainToday",
         "1406"
        ],
        [
         "RainTomorrow",
         "0"
        ]
       ],
       "shape": {
        "columns": 1,
        "rows": 23
       }
      },
      "text/plain": [
       "Date                 0\n",
       "Location             0\n",
       "MinTemp            637\n",
       "MaxTemp            322\n",
       "Rainfall          1406\n",
       "Evaporation      60843\n",
       "Sunshine         67816\n",
       "WindGustDir       9330\n",
       "WindGustSpeed     9270\n",
       "WindDir9am       10013\n",
       "WindDir3pm        3778\n",
       "WindSpeed9am      1348\n",
       "WindSpeed3pm      2630\n",
       "Humidity9am       1774\n",
       "Humidity3pm       3610\n",
       "Pressure9am      14014\n",
       "Pressure3pm      13981\n",
       "Cloud9am         53657\n",
       "Cloud3pm         57094\n",
       "Temp9am            904\n",
       "Temp3pm           2726\n",
       "RainToday         1406\n",
       "RainTomorrow         0\n",
       "dtype: int64"
      ]
     },
     "execution_count": 10,
     "metadata": {},
     "output_type": "execute_result"
    }
   ],
   "source": [
    "df.dropna(subset=['RainTomorrow'], inplace=True)\n",
    "df.isnull().sum()"
   ]
  },
  {
   "cell_type": "code",
   "execution_count": 11,
   "id": "39ad130a",
   "metadata": {},
   "outputs": [
    {
     "name": "stdout",
     "output_type": "stream",
     "text": [
      "Date: 3436\n",
      "Location: 49\n",
      "MinTemp: 389\n",
      "MaxTemp: 505\n",
      "Rainfall: 679\n",
      "Evaporation: 356\n",
      "Sunshine: 145\n",
      "WindGustDir: 16\n",
      "WindGustSpeed: 67\n",
      "WindDir9am: 16\n",
      "WindDir3pm: 16\n",
      "WindSpeed9am: 43\n",
      "WindSpeed3pm: 44\n",
      "Humidity9am: 101\n",
      "Humidity3pm: 101\n",
      "Pressure9am: 546\n",
      "Pressure3pm: 549\n",
      "Cloud9am: 10\n",
      "Cloud3pm: 10\n",
      "Temp9am: 440\n",
      "Temp3pm: 500\n",
      "RainToday: 2\n",
      "RainTomorrow: 2\n"
     ]
    }
   ],
   "source": [
    "for col in df.columns:\n",
    "    print(f\"{col}: {df[col].nunique()}\")"
   ]
  },
  {
   "cell_type": "code",
   "execution_count": 12,
   "id": "2825d32e",
   "metadata": {},
   "outputs": [],
   "source": [
    "from sklearn.preprocessing import LabelEncoder\n",
    "\n",
    "lee = LabelEncoder()\n",
    "for col in ['RainToday', 'RainTomorrow']:\n",
    "    df[col] = lee.fit_transform(df[col])"
   ]
  },
  {
   "cell_type": "code",
   "execution_count": 13,
   "id": "c414d54c",
   "metadata": {},
   "outputs": [
    {
     "data": {
      "application/vnd.microsoft.datawrangler.viewer.v0+json": {
       "columns": [
        {
         "name": "index",
         "rawType": "int64",
         "type": "integer"
        },
        {
         "name": "Date",
         "rawType": "object",
         "type": "string"
        },
        {
         "name": "Location",
         "rawType": "object",
         "type": "string"
        },
        {
         "name": "MinTemp",
         "rawType": "float64",
         "type": "float"
        },
        {
         "name": "MaxTemp",
         "rawType": "float64",
         "type": "float"
        },
        {
         "name": "Rainfall",
         "rawType": "float64",
         "type": "float"
        },
        {
         "name": "Evaporation",
         "rawType": "float64",
         "type": "float"
        },
        {
         "name": "Sunshine",
         "rawType": "float64",
         "type": "float"
        },
        {
         "name": "WindGustDir",
         "rawType": "object",
         "type": "string"
        },
        {
         "name": "WindGustSpeed",
         "rawType": "float64",
         "type": "float"
        },
        {
         "name": "WindDir9am",
         "rawType": "object",
         "type": "string"
        },
        {
         "name": "WindDir3pm",
         "rawType": "object",
         "type": "string"
        },
        {
         "name": "WindSpeed9am",
         "rawType": "float64",
         "type": "float"
        },
        {
         "name": "WindSpeed3pm",
         "rawType": "float64",
         "type": "float"
        },
        {
         "name": "Humidity9am",
         "rawType": "float64",
         "type": "float"
        },
        {
         "name": "Humidity3pm",
         "rawType": "float64",
         "type": "float"
        },
        {
         "name": "Pressure9am",
         "rawType": "float64",
         "type": "float"
        },
        {
         "name": "Pressure3pm",
         "rawType": "float64",
         "type": "float"
        },
        {
         "name": "Cloud9am",
         "rawType": "float64",
         "type": "float"
        },
        {
         "name": "Cloud3pm",
         "rawType": "float64",
         "type": "float"
        },
        {
         "name": "Temp9am",
         "rawType": "float64",
         "type": "float"
        },
        {
         "name": "Temp3pm",
         "rawType": "float64",
         "type": "float"
        },
        {
         "name": "RainToday",
         "rawType": "int64",
         "type": "integer"
        },
        {
         "name": "RainTomorrow",
         "rawType": "int64",
         "type": "integer"
        }
       ],
       "ref": "3247c75c-c611-4928-8099-a277f6a09fb0",
       "rows": [
        [
         "0",
         "2008-12-01",
         "Albury",
         "13.4",
         "22.9",
         "0.6",
         null,
         null,
         "W",
         "44.0",
         "W",
         "WNW",
         "20.0",
         "24.0",
         "71.0",
         "22.0",
         "1007.7",
         "1007.1",
         "8.0",
         null,
         "16.9",
         "21.8",
         "0",
         "0"
        ],
        [
         "1",
         "2008-12-02",
         "Albury",
         "7.4",
         "25.1",
         "0.0",
         null,
         null,
         "WNW",
         "44.0",
         "NNW",
         "WSW",
         "4.0",
         "22.0",
         "44.0",
         "25.0",
         "1010.6",
         "1007.8",
         null,
         null,
         "17.2",
         "24.3",
         "0",
         "0"
        ],
        [
         "2",
         "2008-12-03",
         "Albury",
         "12.9",
         "25.7",
         "0.0",
         null,
         null,
         "WSW",
         "46.0",
         "W",
         "WSW",
         "19.0",
         "26.0",
         "38.0",
         "30.0",
         "1007.6",
         "1008.7",
         null,
         "2.0",
         "21.0",
         "23.2",
         "0",
         "0"
        ],
        [
         "3",
         "2008-12-04",
         "Albury",
         "9.2",
         "28.0",
         "0.0",
         null,
         null,
         "NE",
         "24.0",
         "SE",
         "E",
         "11.0",
         "9.0",
         "45.0",
         "16.0",
         "1017.6",
         "1012.8",
         null,
         null,
         "18.1",
         "26.5",
         "0",
         "0"
        ],
        [
         "4",
         "2008-12-05",
         "Albury",
         "17.5",
         "32.3",
         "1.0",
         null,
         null,
         "W",
         "41.0",
         "ENE",
         "NW",
         "7.0",
         "20.0",
         "82.0",
         "33.0",
         "1010.8",
         "1006.0",
         "7.0",
         "8.0",
         "17.8",
         "29.7",
         "0",
         "0"
        ]
       ],
       "shape": {
        "columns": 23,
        "rows": 5
       }
      },
      "text/html": [
       "<div>\n",
       "<style scoped>\n",
       "    .dataframe tbody tr th:only-of-type {\n",
       "        vertical-align: middle;\n",
       "    }\n",
       "\n",
       "    .dataframe tbody tr th {\n",
       "        vertical-align: top;\n",
       "    }\n",
       "\n",
       "    .dataframe thead th {\n",
       "        text-align: right;\n",
       "    }\n",
       "</style>\n",
       "<table border=\"1\" class=\"dataframe\">\n",
       "  <thead>\n",
       "    <tr style=\"text-align: right;\">\n",
       "      <th></th>\n",
       "      <th>Date</th>\n",
       "      <th>Location</th>\n",
       "      <th>MinTemp</th>\n",
       "      <th>MaxTemp</th>\n",
       "      <th>Rainfall</th>\n",
       "      <th>Evaporation</th>\n",
       "      <th>Sunshine</th>\n",
       "      <th>WindGustDir</th>\n",
       "      <th>WindGustSpeed</th>\n",
       "      <th>WindDir9am</th>\n",
       "      <th>WindDir3pm</th>\n",
       "      <th>WindSpeed9am</th>\n",
       "      <th>WindSpeed3pm</th>\n",
       "      <th>Humidity9am</th>\n",
       "      <th>Humidity3pm</th>\n",
       "      <th>Pressure9am</th>\n",
       "      <th>Pressure3pm</th>\n",
       "      <th>Cloud9am</th>\n",
       "      <th>Cloud3pm</th>\n",
       "      <th>Temp9am</th>\n",
       "      <th>Temp3pm</th>\n",
       "      <th>RainToday</th>\n",
       "      <th>RainTomorrow</th>\n",
       "    </tr>\n",
       "  </thead>\n",
       "  <tbody>\n",
       "    <tr>\n",
       "      <th>0</th>\n",
       "      <td>2008-12-01</td>\n",
       "      <td>Albury</td>\n",
       "      <td>13.4</td>\n",
       "      <td>22.9</td>\n",
       "      <td>0.6</td>\n",
       "      <td>NaN</td>\n",
       "      <td>NaN</td>\n",
       "      <td>W</td>\n",
       "      <td>44.0</td>\n",
       "      <td>W</td>\n",
       "      <td>WNW</td>\n",
       "      <td>20.0</td>\n",
       "      <td>24.0</td>\n",
       "      <td>71.0</td>\n",
       "      <td>22.0</td>\n",
       "      <td>1007.7</td>\n",
       "      <td>1007.1</td>\n",
       "      <td>8.0</td>\n",
       "      <td>NaN</td>\n",
       "      <td>16.9</td>\n",
       "      <td>21.8</td>\n",
       "      <td>0</td>\n",
       "      <td>0</td>\n",
       "    </tr>\n",
       "    <tr>\n",
       "      <th>1</th>\n",
       "      <td>2008-12-02</td>\n",
       "      <td>Albury</td>\n",
       "      <td>7.4</td>\n",
       "      <td>25.1</td>\n",
       "      <td>0.0</td>\n",
       "      <td>NaN</td>\n",
       "      <td>NaN</td>\n",
       "      <td>WNW</td>\n",
       "      <td>44.0</td>\n",
       "      <td>NNW</td>\n",
       "      <td>WSW</td>\n",
       "      <td>4.0</td>\n",
       "      <td>22.0</td>\n",
       "      <td>44.0</td>\n",
       "      <td>25.0</td>\n",
       "      <td>1010.6</td>\n",
       "      <td>1007.8</td>\n",
       "      <td>NaN</td>\n",
       "      <td>NaN</td>\n",
       "      <td>17.2</td>\n",
       "      <td>24.3</td>\n",
       "      <td>0</td>\n",
       "      <td>0</td>\n",
       "    </tr>\n",
       "    <tr>\n",
       "      <th>2</th>\n",
       "      <td>2008-12-03</td>\n",
       "      <td>Albury</td>\n",
       "      <td>12.9</td>\n",
       "      <td>25.7</td>\n",
       "      <td>0.0</td>\n",
       "      <td>NaN</td>\n",
       "      <td>NaN</td>\n",
       "      <td>WSW</td>\n",
       "      <td>46.0</td>\n",
       "      <td>W</td>\n",
       "      <td>WSW</td>\n",
       "      <td>19.0</td>\n",
       "      <td>26.0</td>\n",
       "      <td>38.0</td>\n",
       "      <td>30.0</td>\n",
       "      <td>1007.6</td>\n",
       "      <td>1008.7</td>\n",
       "      <td>NaN</td>\n",
       "      <td>2.0</td>\n",
       "      <td>21.0</td>\n",
       "      <td>23.2</td>\n",
       "      <td>0</td>\n",
       "      <td>0</td>\n",
       "    </tr>\n",
       "    <tr>\n",
       "      <th>3</th>\n",
       "      <td>2008-12-04</td>\n",
       "      <td>Albury</td>\n",
       "      <td>9.2</td>\n",
       "      <td>28.0</td>\n",
       "      <td>0.0</td>\n",
       "      <td>NaN</td>\n",
       "      <td>NaN</td>\n",
       "      <td>NE</td>\n",
       "      <td>24.0</td>\n",
       "      <td>SE</td>\n",
       "      <td>E</td>\n",
       "      <td>11.0</td>\n",
       "      <td>9.0</td>\n",
       "      <td>45.0</td>\n",
       "      <td>16.0</td>\n",
       "      <td>1017.6</td>\n",
       "      <td>1012.8</td>\n",
       "      <td>NaN</td>\n",
       "      <td>NaN</td>\n",
       "      <td>18.1</td>\n",
       "      <td>26.5</td>\n",
       "      <td>0</td>\n",
       "      <td>0</td>\n",
       "    </tr>\n",
       "    <tr>\n",
       "      <th>4</th>\n",
       "      <td>2008-12-05</td>\n",
       "      <td>Albury</td>\n",
       "      <td>17.5</td>\n",
       "      <td>32.3</td>\n",
       "      <td>1.0</td>\n",
       "      <td>NaN</td>\n",
       "      <td>NaN</td>\n",
       "      <td>W</td>\n",
       "      <td>41.0</td>\n",
       "      <td>ENE</td>\n",
       "      <td>NW</td>\n",
       "      <td>7.0</td>\n",
       "      <td>20.0</td>\n",
       "      <td>82.0</td>\n",
       "      <td>33.0</td>\n",
       "      <td>1010.8</td>\n",
       "      <td>1006.0</td>\n",
       "      <td>7.0</td>\n",
       "      <td>8.0</td>\n",
       "      <td>17.8</td>\n",
       "      <td>29.7</td>\n",
       "      <td>0</td>\n",
       "      <td>0</td>\n",
       "    </tr>\n",
       "  </tbody>\n",
       "</table>\n",
       "</div>"
      ],
      "text/plain": [
       "         Date Location  MinTemp  MaxTemp  Rainfall  Evaporation  Sunshine  \\\n",
       "0  2008-12-01   Albury     13.4     22.9       0.6          NaN       NaN   \n",
       "1  2008-12-02   Albury      7.4     25.1       0.0          NaN       NaN   \n",
       "2  2008-12-03   Albury     12.9     25.7       0.0          NaN       NaN   \n",
       "3  2008-12-04   Albury      9.2     28.0       0.0          NaN       NaN   \n",
       "4  2008-12-05   Albury     17.5     32.3       1.0          NaN       NaN   \n",
       "\n",
       "  WindGustDir  WindGustSpeed WindDir9am WindDir3pm  WindSpeed9am  \\\n",
       "0           W           44.0          W        WNW          20.0   \n",
       "1         WNW           44.0        NNW        WSW           4.0   \n",
       "2         WSW           46.0          W        WSW          19.0   \n",
       "3          NE           24.0         SE          E          11.0   \n",
       "4           W           41.0        ENE         NW           7.0   \n",
       "\n",
       "   WindSpeed3pm  Humidity9am  Humidity3pm  Pressure9am  Pressure3pm  Cloud9am  \\\n",
       "0          24.0         71.0         22.0       1007.7       1007.1       8.0   \n",
       "1          22.0         44.0         25.0       1010.6       1007.8       NaN   \n",
       "2          26.0         38.0         30.0       1007.6       1008.7       NaN   \n",
       "3           9.0         45.0         16.0       1017.6       1012.8       NaN   \n",
       "4          20.0         82.0         33.0       1010.8       1006.0       7.0   \n",
       "\n",
       "   Cloud3pm  Temp9am  Temp3pm  RainToday  RainTomorrow  \n",
       "0       NaN     16.9     21.8          0             0  \n",
       "1       NaN     17.2     24.3          0             0  \n",
       "2       2.0     21.0     23.2          0             0  \n",
       "3       NaN     18.1     26.5          0             0  \n",
       "4       8.0     17.8     29.7          0             0  "
      ]
     },
     "execution_count": 13,
     "metadata": {},
     "output_type": "execute_result"
    }
   ],
   "source": [
    "df.head()"
   ]
  },
  {
   "cell_type": "code",
   "execution_count": 15,
   "id": "72fc4a16",
   "metadata": {},
   "outputs": [
    {
     "data": {
      "text/plain": [
       "array([0, 1, 2])"
      ]
     },
     "execution_count": 15,
     "metadata": {},
     "output_type": "execute_result"
    }
   ],
   "source": [
    "df['RainToday'].unique()"
   ]
  },
  {
   "cell_type": "code",
   "execution_count": 16,
   "id": "8033cdf1",
   "metadata": {},
   "outputs": [
    {
     "data": {
      "text/plain": [
       "array([0, 1])"
      ]
     },
     "execution_count": 16,
     "metadata": {},
     "output_type": "execute_result"
    }
   ],
   "source": [
    "df['RainTomorrow'].unique()"
   ]
  },
  {
   "cell_type": "code",
   "execution_count": 18,
   "id": "db521432",
   "metadata": {},
   "outputs": [],
   "source": [
    "for col in ['MinTemp', 'MaxTemp', 'Rainfall', 'Evaporation', 'Sunshine','WindGustSpeed', 'WindSpeed9am', 'WindSpeed3pm', 'Humidity9am', 'Humidity3pm', 'Pressure9am', 'Pressure3pm', 'Cloud9am', 'Cloud3pm', 'Temp9am','Temp3pm']:\n",
    "    df[col] = df[col].fillna(df[col].mean())"
   ]
  },
  {
   "cell_type": "code",
   "execution_count": 19,
   "id": "e37a6ce4",
   "metadata": {},
   "outputs": [
    {
     "data": {
      "application/vnd.microsoft.datawrangler.viewer.v0+json": {
       "columns": [
        {
         "name": "index",
         "rawType": "int64",
         "type": "integer"
        },
        {
         "name": "Date",
         "rawType": "object",
         "type": "string"
        },
        {
         "name": "Location",
         "rawType": "object",
         "type": "string"
        },
        {
         "name": "MinTemp",
         "rawType": "float64",
         "type": "float"
        },
        {
         "name": "MaxTemp",
         "rawType": "float64",
         "type": "float"
        },
        {
         "name": "Rainfall",
         "rawType": "float64",
         "type": "float"
        },
        {
         "name": "Evaporation",
         "rawType": "float64",
         "type": "float"
        },
        {
         "name": "Sunshine",
         "rawType": "float64",
         "type": "float"
        },
        {
         "name": "WindGustDir",
         "rawType": "object",
         "type": "string"
        },
        {
         "name": "WindGustSpeed",
         "rawType": "float64",
         "type": "float"
        },
        {
         "name": "WindDir9am",
         "rawType": "object",
         "type": "string"
        },
        {
         "name": "WindDir3pm",
         "rawType": "object",
         "type": "string"
        },
        {
         "name": "WindSpeed9am",
         "rawType": "float64",
         "type": "float"
        },
        {
         "name": "WindSpeed3pm",
         "rawType": "float64",
         "type": "float"
        },
        {
         "name": "Humidity9am",
         "rawType": "float64",
         "type": "float"
        },
        {
         "name": "Humidity3pm",
         "rawType": "float64",
         "type": "float"
        },
        {
         "name": "Pressure9am",
         "rawType": "float64",
         "type": "float"
        },
        {
         "name": "Pressure3pm",
         "rawType": "float64",
         "type": "float"
        },
        {
         "name": "Cloud9am",
         "rawType": "float64",
         "type": "float"
        },
        {
         "name": "Cloud3pm",
         "rawType": "float64",
         "type": "float"
        },
        {
         "name": "Temp9am",
         "rawType": "float64",
         "type": "float"
        },
        {
         "name": "Temp3pm",
         "rawType": "float64",
         "type": "float"
        },
        {
         "name": "RainToday",
         "rawType": "int64",
         "type": "integer"
        },
        {
         "name": "RainTomorrow",
         "rawType": "int64",
         "type": "integer"
        }
       ],
       "ref": "09e32512-52dd-49cd-b4c6-774981be01cb",
       "rows": [
        [
         "0",
         "2008-12-01",
         "Albury",
         "13.4",
         "22.9",
         "0.6",
         "5.469824216349109",
         "7.624853113193594",
         "W",
         "44.0",
         "W",
         "WNW",
         "20.0",
         "24.0",
         "71.0",
         "22.0",
         "1007.7",
         "1007.1",
         "8.0",
         "4.503166899728551",
         "16.9",
         "21.8",
         "0",
         "0"
        ],
        [
         "1",
         "2008-12-02",
         "Albury",
         "7.4",
         "25.1",
         "0.0",
         "5.469824216349109",
         "7.624853113193594",
         "WNW",
         "44.0",
         "NNW",
         "WSW",
         "4.0",
         "22.0",
         "44.0",
         "25.0",
         "1010.6",
         "1007.8",
         "4.437189391885787",
         "4.503166899728551",
         "17.2",
         "24.3",
         "0",
         "0"
        ],
        [
         "2",
         "2008-12-03",
         "Albury",
         "12.9",
         "25.7",
         "0.0",
         "5.469824216349109",
         "7.624853113193594",
         "WSW",
         "46.0",
         "W",
         "WSW",
         "19.0",
         "26.0",
         "38.0",
         "30.0",
         "1007.6",
         "1008.7",
         "4.437189391885787",
         "2.0",
         "21.0",
         "23.2",
         "0",
         "0"
        ],
        [
         "3",
         "2008-12-04",
         "Albury",
         "9.2",
         "28.0",
         "0.0",
         "5.469824216349109",
         "7.624853113193594",
         "NE",
         "24.0",
         "SE",
         "E",
         "11.0",
         "9.0",
         "45.0",
         "16.0",
         "1017.6",
         "1012.8",
         "4.437189391885787",
         "4.503166899728551",
         "18.1",
         "26.5",
         "0",
         "0"
        ],
        [
         "4",
         "2008-12-05",
         "Albury",
         "17.5",
         "32.3",
         "1.0",
         "5.469824216349109",
         "7.624853113193594",
         "W",
         "41.0",
         "ENE",
         "NW",
         "7.0",
         "20.0",
         "82.0",
         "33.0",
         "1010.8",
         "1006.0",
         "7.0",
         "8.0",
         "17.8",
         "29.7",
         "0",
         "0"
        ]
       ],
       "shape": {
        "columns": 23,
        "rows": 5
       }
      },
      "text/html": [
       "<div>\n",
       "<style scoped>\n",
       "    .dataframe tbody tr th:only-of-type {\n",
       "        vertical-align: middle;\n",
       "    }\n",
       "\n",
       "    .dataframe tbody tr th {\n",
       "        vertical-align: top;\n",
       "    }\n",
       "\n",
       "    .dataframe thead th {\n",
       "        text-align: right;\n",
       "    }\n",
       "</style>\n",
       "<table border=\"1\" class=\"dataframe\">\n",
       "  <thead>\n",
       "    <tr style=\"text-align: right;\">\n",
       "      <th></th>\n",
       "      <th>Date</th>\n",
       "      <th>Location</th>\n",
       "      <th>MinTemp</th>\n",
       "      <th>MaxTemp</th>\n",
       "      <th>Rainfall</th>\n",
       "      <th>Evaporation</th>\n",
       "      <th>Sunshine</th>\n",
       "      <th>WindGustDir</th>\n",
       "      <th>WindGustSpeed</th>\n",
       "      <th>WindDir9am</th>\n",
       "      <th>WindDir3pm</th>\n",
       "      <th>WindSpeed9am</th>\n",
       "      <th>WindSpeed3pm</th>\n",
       "      <th>Humidity9am</th>\n",
       "      <th>Humidity3pm</th>\n",
       "      <th>Pressure9am</th>\n",
       "      <th>Pressure3pm</th>\n",
       "      <th>Cloud9am</th>\n",
       "      <th>Cloud3pm</th>\n",
       "      <th>Temp9am</th>\n",
       "      <th>Temp3pm</th>\n",
       "      <th>RainToday</th>\n",
       "      <th>RainTomorrow</th>\n",
       "    </tr>\n",
       "  </thead>\n",
       "  <tbody>\n",
       "    <tr>\n",
       "      <th>0</th>\n",
       "      <td>2008-12-01</td>\n",
       "      <td>Albury</td>\n",
       "      <td>13.4</td>\n",
       "      <td>22.9</td>\n",
       "      <td>0.6</td>\n",
       "      <td>5.469824</td>\n",
       "      <td>7.624853</td>\n",
       "      <td>W</td>\n",
       "      <td>44.0</td>\n",
       "      <td>W</td>\n",
       "      <td>WNW</td>\n",
       "      <td>20.0</td>\n",
       "      <td>24.0</td>\n",
       "      <td>71.0</td>\n",
       "      <td>22.0</td>\n",
       "      <td>1007.7</td>\n",
       "      <td>1007.1</td>\n",
       "      <td>8.000000</td>\n",
       "      <td>4.503167</td>\n",
       "      <td>16.9</td>\n",
       "      <td>21.8</td>\n",
       "      <td>0</td>\n",
       "      <td>0</td>\n",
       "    </tr>\n",
       "    <tr>\n",
       "      <th>1</th>\n",
       "      <td>2008-12-02</td>\n",
       "      <td>Albury</td>\n",
       "      <td>7.4</td>\n",
       "      <td>25.1</td>\n",
       "      <td>0.0</td>\n",
       "      <td>5.469824</td>\n",
       "      <td>7.624853</td>\n",
       "      <td>WNW</td>\n",
       "      <td>44.0</td>\n",
       "      <td>NNW</td>\n",
       "      <td>WSW</td>\n",
       "      <td>4.0</td>\n",
       "      <td>22.0</td>\n",
       "      <td>44.0</td>\n",
       "      <td>25.0</td>\n",
       "      <td>1010.6</td>\n",
       "      <td>1007.8</td>\n",
       "      <td>4.437189</td>\n",
       "      <td>4.503167</td>\n",
       "      <td>17.2</td>\n",
       "      <td>24.3</td>\n",
       "      <td>0</td>\n",
       "      <td>0</td>\n",
       "    </tr>\n",
       "    <tr>\n",
       "      <th>2</th>\n",
       "      <td>2008-12-03</td>\n",
       "      <td>Albury</td>\n",
       "      <td>12.9</td>\n",
       "      <td>25.7</td>\n",
       "      <td>0.0</td>\n",
       "      <td>5.469824</td>\n",
       "      <td>7.624853</td>\n",
       "      <td>WSW</td>\n",
       "      <td>46.0</td>\n",
       "      <td>W</td>\n",
       "      <td>WSW</td>\n",
       "      <td>19.0</td>\n",
       "      <td>26.0</td>\n",
       "      <td>38.0</td>\n",
       "      <td>30.0</td>\n",
       "      <td>1007.6</td>\n",
       "      <td>1008.7</td>\n",
       "      <td>4.437189</td>\n",
       "      <td>2.000000</td>\n",
       "      <td>21.0</td>\n",
       "      <td>23.2</td>\n",
       "      <td>0</td>\n",
       "      <td>0</td>\n",
       "    </tr>\n",
       "    <tr>\n",
       "      <th>3</th>\n",
       "      <td>2008-12-04</td>\n",
       "      <td>Albury</td>\n",
       "      <td>9.2</td>\n",
       "      <td>28.0</td>\n",
       "      <td>0.0</td>\n",
       "      <td>5.469824</td>\n",
       "      <td>7.624853</td>\n",
       "      <td>NE</td>\n",
       "      <td>24.0</td>\n",
       "      <td>SE</td>\n",
       "      <td>E</td>\n",
       "      <td>11.0</td>\n",
       "      <td>9.0</td>\n",
       "      <td>45.0</td>\n",
       "      <td>16.0</td>\n",
       "      <td>1017.6</td>\n",
       "      <td>1012.8</td>\n",
       "      <td>4.437189</td>\n",
       "      <td>4.503167</td>\n",
       "      <td>18.1</td>\n",
       "      <td>26.5</td>\n",
       "      <td>0</td>\n",
       "      <td>0</td>\n",
       "    </tr>\n",
       "    <tr>\n",
       "      <th>4</th>\n",
       "      <td>2008-12-05</td>\n",
       "      <td>Albury</td>\n",
       "      <td>17.5</td>\n",
       "      <td>32.3</td>\n",
       "      <td>1.0</td>\n",
       "      <td>5.469824</td>\n",
       "      <td>7.624853</td>\n",
       "      <td>W</td>\n",
       "      <td>41.0</td>\n",
       "      <td>ENE</td>\n",
       "      <td>NW</td>\n",
       "      <td>7.0</td>\n",
       "      <td>20.0</td>\n",
       "      <td>82.0</td>\n",
       "      <td>33.0</td>\n",
       "      <td>1010.8</td>\n",
       "      <td>1006.0</td>\n",
       "      <td>7.000000</td>\n",
       "      <td>8.000000</td>\n",
       "      <td>17.8</td>\n",
       "      <td>29.7</td>\n",
       "      <td>0</td>\n",
       "      <td>0</td>\n",
       "    </tr>\n",
       "  </tbody>\n",
       "</table>\n",
       "</div>"
      ],
      "text/plain": [
       "         Date Location  MinTemp  MaxTemp  Rainfall  Evaporation  Sunshine  \\\n",
       "0  2008-12-01   Albury     13.4     22.9       0.6     5.469824  7.624853   \n",
       "1  2008-12-02   Albury      7.4     25.1       0.0     5.469824  7.624853   \n",
       "2  2008-12-03   Albury     12.9     25.7       0.0     5.469824  7.624853   \n",
       "3  2008-12-04   Albury      9.2     28.0       0.0     5.469824  7.624853   \n",
       "4  2008-12-05   Albury     17.5     32.3       1.0     5.469824  7.624853   \n",
       "\n",
       "  WindGustDir  WindGustSpeed WindDir9am WindDir3pm  WindSpeed9am  \\\n",
       "0           W           44.0          W        WNW          20.0   \n",
       "1         WNW           44.0        NNW        WSW           4.0   \n",
       "2         WSW           46.0          W        WSW          19.0   \n",
       "3          NE           24.0         SE          E          11.0   \n",
       "4           W           41.0        ENE         NW           7.0   \n",
       "\n",
       "   WindSpeed3pm  Humidity9am  Humidity3pm  Pressure9am  Pressure3pm  Cloud9am  \\\n",
       "0          24.0         71.0         22.0       1007.7       1007.1  8.000000   \n",
       "1          22.0         44.0         25.0       1010.6       1007.8  4.437189   \n",
       "2          26.0         38.0         30.0       1007.6       1008.7  4.437189   \n",
       "3           9.0         45.0         16.0       1017.6       1012.8  4.437189   \n",
       "4          20.0         82.0         33.0       1010.8       1006.0  7.000000   \n",
       "\n",
       "   Cloud3pm  Temp9am  Temp3pm  RainToday  RainTomorrow  \n",
       "0  4.503167     16.9     21.8          0             0  \n",
       "1  4.503167     17.2     24.3          0             0  \n",
       "2  2.000000     21.0     23.2          0             0  \n",
       "3  4.503167     18.1     26.5          0             0  \n",
       "4  8.000000     17.8     29.7          0             0  "
      ]
     },
     "execution_count": 19,
     "metadata": {},
     "output_type": "execute_result"
    }
   ],
   "source": [
    "df.head()"
   ]
  },
  {
   "cell_type": "code",
   "execution_count": 20,
   "id": "dd6a3ed9",
   "metadata": {},
   "outputs": [
    {
     "data": {
      "application/vnd.microsoft.datawrangler.viewer.v0+json": {
       "columns": [
        {
         "name": "index",
         "rawType": "object",
         "type": "string"
        },
        {
         "name": "MinTemp",
         "rawType": "float64",
         "type": "float"
        },
        {
         "name": "MaxTemp",
         "rawType": "float64",
         "type": "float"
        },
        {
         "name": "Rainfall",
         "rawType": "float64",
         "type": "float"
        },
        {
         "name": "Evaporation",
         "rawType": "float64",
         "type": "float"
        },
        {
         "name": "Sunshine",
         "rawType": "float64",
         "type": "float"
        },
        {
         "name": "WindGustSpeed",
         "rawType": "float64",
         "type": "float"
        },
        {
         "name": "WindSpeed9am",
         "rawType": "float64",
         "type": "float"
        },
        {
         "name": "WindSpeed3pm",
         "rawType": "float64",
         "type": "float"
        },
        {
         "name": "Humidity9am",
         "rawType": "float64",
         "type": "float"
        },
        {
         "name": "Humidity3pm",
         "rawType": "float64",
         "type": "float"
        },
        {
         "name": "Pressure9am",
         "rawType": "float64",
         "type": "float"
        },
        {
         "name": "Pressure3pm",
         "rawType": "float64",
         "type": "float"
        },
        {
         "name": "Cloud9am",
         "rawType": "float64",
         "type": "float"
        },
        {
         "name": "Cloud3pm",
         "rawType": "float64",
         "type": "float"
        },
        {
         "name": "Temp9am",
         "rawType": "float64",
         "type": "float"
        },
        {
         "name": "Temp3pm",
         "rawType": "float64",
         "type": "float"
        },
        {
         "name": "RainToday",
         "rawType": "float64",
         "type": "float"
        },
        {
         "name": "RainTomorrow",
         "rawType": "float64",
         "type": "float"
        }
       ],
       "ref": "f1e1d51b-8239-4edf-8758-b5b80d15a6a3",
       "rows": [
        [
         "count",
         "142193.0",
         "142193.0",
         "142193.0",
         "142193.0",
         "142193.0",
         "142193.0",
         "142193.0",
         "142193.0",
         "142193.0",
         "142193.0",
         "142193.0",
         "142193.0",
         "142193.0",
         "142193.0",
         "142193.0",
         "142193.0",
         "142193.0",
         "142193.0"
        ],
        [
         "mean",
         "12.186399728729265",
         "23.226784191272355",
         "2.349974074310838",
         "5.469824216349109",
         "7.624853113193596",
         "39.98429165757619",
         "14.001988000994",
         "18.63757586179718",
         "68.8438103105705",
         "51.48260609165628",
         "1017.6537584159653",
         "1015.2582035378905",
         "4.437189391885787",
         "4.503166899728552",
         "16.987508581701338",
         "21.68723497314777",
         "0.24098935953246645",
         "0.22418121848473554"
        ],
        [
         "std",
         "6.38892367578817",
         "7.10955449459534",
         "8.423216965695465",
         "3.168114237279979",
         "2.734927403397183",
         "13.138384980787299",
         "8.851081674635614",
         "8.721551199912085",
         "18.93207672405598",
         "20.532065476037133",
         "6.746248325436807",
         "6.681787586654764",
         "2.2780803282090547",
         "2.1047086299707987",
         "6.472165978773236",
         "6.870770835439071",
         "0.4502120077528685",
         "0.41704343050392284"
        ],
        [
         "min",
         "-8.5",
         "-4.8",
         "0.0",
         "0.0",
         "0.0",
         "6.0",
         "0.0",
         "0.0",
         "0.0",
         "0.0",
         "980.5",
         "977.1",
         "0.0",
         "0.0",
         "-7.2",
         "-5.4",
         "0.0",
         "0.0"
        ],
        [
         "25%",
         "7.6",
         "17.9",
         "0.0",
         "4.0",
         "7.624853113193594",
         "31.0",
         "7.0",
         "13.0",
         "57.0",
         "37.0",
         "1013.5",
         "1011.0",
         "3.0",
         "4.0",
         "12.3",
         "16.7",
         "0.0",
         "0.0"
        ],
        [
         "50%",
         "12.0",
         "22.7",
         "0.0",
         "5.469824216349109",
         "7.624853113193594",
         "39.0",
         "13.0",
         "18.63757586179718",
         "70.0",
         "51.482606091656265",
         "1017.6537584159653",
         "1015.2582035378904",
         "4.437189391885787",
         "4.503166899728551",
         "16.8",
         "21.3",
         "0.0",
         "0.0"
        ],
        [
         "75%",
         "16.8",
         "28.2",
         "0.8",
         "5.469824216349109",
         "8.7",
         "46.0",
         "19.0",
         "24.0",
         "83.0",
         "65.0",
         "1021.8",
         "1019.4",
         "6.0",
         "6.0",
         "21.5",
         "26.3",
         "0.0",
         "0.0"
        ],
        [
         "max",
         "33.9",
         "48.1",
         "371.0",
         "145.0",
         "14.5",
         "135.0",
         "130.0",
         "87.0",
         "100.0",
         "100.0",
         "1041.0",
         "1039.6",
         "9.0",
         "9.0",
         "40.2",
         "46.7",
         "2.0",
         "1.0"
        ]
       ],
       "shape": {
        "columns": 18,
        "rows": 8
       }
      },
      "text/html": [
       "<div>\n",
       "<style scoped>\n",
       "    .dataframe tbody tr th:only-of-type {\n",
       "        vertical-align: middle;\n",
       "    }\n",
       "\n",
       "    .dataframe tbody tr th {\n",
       "        vertical-align: top;\n",
       "    }\n",
       "\n",
       "    .dataframe thead th {\n",
       "        text-align: right;\n",
       "    }\n",
       "</style>\n",
       "<table border=\"1\" class=\"dataframe\">\n",
       "  <thead>\n",
       "    <tr style=\"text-align: right;\">\n",
       "      <th></th>\n",
       "      <th>MinTemp</th>\n",
       "      <th>MaxTemp</th>\n",
       "      <th>Rainfall</th>\n",
       "      <th>Evaporation</th>\n",
       "      <th>Sunshine</th>\n",
       "      <th>WindGustSpeed</th>\n",
       "      <th>WindSpeed9am</th>\n",
       "      <th>WindSpeed3pm</th>\n",
       "      <th>Humidity9am</th>\n",
       "      <th>Humidity3pm</th>\n",
       "      <th>Pressure9am</th>\n",
       "      <th>Pressure3pm</th>\n",
       "      <th>Cloud9am</th>\n",
       "      <th>Cloud3pm</th>\n",
       "      <th>Temp9am</th>\n",
       "      <th>Temp3pm</th>\n",
       "      <th>RainToday</th>\n",
       "      <th>RainTomorrow</th>\n",
       "    </tr>\n",
       "  </thead>\n",
       "  <tbody>\n",
       "    <tr>\n",
       "      <th>count</th>\n",
       "      <td>142193.000000</td>\n",
       "      <td>142193.000000</td>\n",
       "      <td>142193.000000</td>\n",
       "      <td>142193.000000</td>\n",
       "      <td>142193.000000</td>\n",
       "      <td>142193.000000</td>\n",
       "      <td>142193.000000</td>\n",
       "      <td>142193.000000</td>\n",
       "      <td>142193.000000</td>\n",
       "      <td>142193.000000</td>\n",
       "      <td>142193.000000</td>\n",
       "      <td>142193.000000</td>\n",
       "      <td>142193.000000</td>\n",
       "      <td>142193.000000</td>\n",
       "      <td>142193.000000</td>\n",
       "      <td>142193.000000</td>\n",
       "      <td>142193.000000</td>\n",
       "      <td>142193.000000</td>\n",
       "    </tr>\n",
       "    <tr>\n",
       "      <th>mean</th>\n",
       "      <td>12.186400</td>\n",
       "      <td>23.226784</td>\n",
       "      <td>2.349974</td>\n",
       "      <td>5.469824</td>\n",
       "      <td>7.624853</td>\n",
       "      <td>39.984292</td>\n",
       "      <td>14.001988</td>\n",
       "      <td>18.637576</td>\n",
       "      <td>68.843810</td>\n",
       "      <td>51.482606</td>\n",
       "      <td>1017.653758</td>\n",
       "      <td>1015.258204</td>\n",
       "      <td>4.437189</td>\n",
       "      <td>4.503167</td>\n",
       "      <td>16.987509</td>\n",
       "      <td>21.687235</td>\n",
       "      <td>0.240989</td>\n",
       "      <td>0.224181</td>\n",
       "    </tr>\n",
       "    <tr>\n",
       "      <th>std</th>\n",
       "      <td>6.388924</td>\n",
       "      <td>7.109554</td>\n",
       "      <td>8.423217</td>\n",
       "      <td>3.168114</td>\n",
       "      <td>2.734927</td>\n",
       "      <td>13.138385</td>\n",
       "      <td>8.851082</td>\n",
       "      <td>8.721551</td>\n",
       "      <td>18.932077</td>\n",
       "      <td>20.532065</td>\n",
       "      <td>6.746248</td>\n",
       "      <td>6.681788</td>\n",
       "      <td>2.278080</td>\n",
       "      <td>2.104709</td>\n",
       "      <td>6.472166</td>\n",
       "      <td>6.870771</td>\n",
       "      <td>0.450212</td>\n",
       "      <td>0.417043</td>\n",
       "    </tr>\n",
       "    <tr>\n",
       "      <th>min</th>\n",
       "      <td>-8.500000</td>\n",
       "      <td>-4.800000</td>\n",
       "      <td>0.000000</td>\n",
       "      <td>0.000000</td>\n",
       "      <td>0.000000</td>\n",
       "      <td>6.000000</td>\n",
       "      <td>0.000000</td>\n",
       "      <td>0.000000</td>\n",
       "      <td>0.000000</td>\n",
       "      <td>0.000000</td>\n",
       "      <td>980.500000</td>\n",
       "      <td>977.100000</td>\n",
       "      <td>0.000000</td>\n",
       "      <td>0.000000</td>\n",
       "      <td>-7.200000</td>\n",
       "      <td>-5.400000</td>\n",
       "      <td>0.000000</td>\n",
       "      <td>0.000000</td>\n",
       "    </tr>\n",
       "    <tr>\n",
       "      <th>25%</th>\n",
       "      <td>7.600000</td>\n",
       "      <td>17.900000</td>\n",
       "      <td>0.000000</td>\n",
       "      <td>4.000000</td>\n",
       "      <td>7.624853</td>\n",
       "      <td>31.000000</td>\n",
       "      <td>7.000000</td>\n",
       "      <td>13.000000</td>\n",
       "      <td>57.000000</td>\n",
       "      <td>37.000000</td>\n",
       "      <td>1013.500000</td>\n",
       "      <td>1011.000000</td>\n",
       "      <td>3.000000</td>\n",
       "      <td>4.000000</td>\n",
       "      <td>12.300000</td>\n",
       "      <td>16.700000</td>\n",
       "      <td>0.000000</td>\n",
       "      <td>0.000000</td>\n",
       "    </tr>\n",
       "    <tr>\n",
       "      <th>50%</th>\n",
       "      <td>12.000000</td>\n",
       "      <td>22.700000</td>\n",
       "      <td>0.000000</td>\n",
       "      <td>5.469824</td>\n",
       "      <td>7.624853</td>\n",
       "      <td>39.000000</td>\n",
       "      <td>13.000000</td>\n",
       "      <td>18.637576</td>\n",
       "      <td>70.000000</td>\n",
       "      <td>51.482606</td>\n",
       "      <td>1017.653758</td>\n",
       "      <td>1015.258204</td>\n",
       "      <td>4.437189</td>\n",
       "      <td>4.503167</td>\n",
       "      <td>16.800000</td>\n",
       "      <td>21.300000</td>\n",
       "      <td>0.000000</td>\n",
       "      <td>0.000000</td>\n",
       "    </tr>\n",
       "    <tr>\n",
       "      <th>75%</th>\n",
       "      <td>16.800000</td>\n",
       "      <td>28.200000</td>\n",
       "      <td>0.800000</td>\n",
       "      <td>5.469824</td>\n",
       "      <td>8.700000</td>\n",
       "      <td>46.000000</td>\n",
       "      <td>19.000000</td>\n",
       "      <td>24.000000</td>\n",
       "      <td>83.000000</td>\n",
       "      <td>65.000000</td>\n",
       "      <td>1021.800000</td>\n",
       "      <td>1019.400000</td>\n",
       "      <td>6.000000</td>\n",
       "      <td>6.000000</td>\n",
       "      <td>21.500000</td>\n",
       "      <td>26.300000</td>\n",
       "      <td>0.000000</td>\n",
       "      <td>0.000000</td>\n",
       "    </tr>\n",
       "    <tr>\n",
       "      <th>max</th>\n",
       "      <td>33.900000</td>\n",
       "      <td>48.100000</td>\n",
       "      <td>371.000000</td>\n",
       "      <td>145.000000</td>\n",
       "      <td>14.500000</td>\n",
       "      <td>135.000000</td>\n",
       "      <td>130.000000</td>\n",
       "      <td>87.000000</td>\n",
       "      <td>100.000000</td>\n",
       "      <td>100.000000</td>\n",
       "      <td>1041.000000</td>\n",
       "      <td>1039.600000</td>\n",
       "      <td>9.000000</td>\n",
       "      <td>9.000000</td>\n",
       "      <td>40.200000</td>\n",
       "      <td>46.700000</td>\n",
       "      <td>2.000000</td>\n",
       "      <td>1.000000</td>\n",
       "    </tr>\n",
       "  </tbody>\n",
       "</table>\n",
       "</div>"
      ],
      "text/plain": [
       "             MinTemp        MaxTemp       Rainfall    Evaporation  \\\n",
       "count  142193.000000  142193.000000  142193.000000  142193.000000   \n",
       "mean       12.186400      23.226784       2.349974       5.469824   \n",
       "std         6.388924       7.109554       8.423217       3.168114   \n",
       "min        -8.500000      -4.800000       0.000000       0.000000   \n",
       "25%         7.600000      17.900000       0.000000       4.000000   \n",
       "50%        12.000000      22.700000       0.000000       5.469824   \n",
       "75%        16.800000      28.200000       0.800000       5.469824   \n",
       "max        33.900000      48.100000     371.000000     145.000000   \n",
       "\n",
       "            Sunshine  WindGustSpeed   WindSpeed9am   WindSpeed3pm  \\\n",
       "count  142193.000000  142193.000000  142193.000000  142193.000000   \n",
       "mean        7.624853      39.984292      14.001988      18.637576   \n",
       "std         2.734927      13.138385       8.851082       8.721551   \n",
       "min         0.000000       6.000000       0.000000       0.000000   \n",
       "25%         7.624853      31.000000       7.000000      13.000000   \n",
       "50%         7.624853      39.000000      13.000000      18.637576   \n",
       "75%         8.700000      46.000000      19.000000      24.000000   \n",
       "max        14.500000     135.000000     130.000000      87.000000   \n",
       "\n",
       "         Humidity9am    Humidity3pm    Pressure9am    Pressure3pm  \\\n",
       "count  142193.000000  142193.000000  142193.000000  142193.000000   \n",
       "mean       68.843810      51.482606    1017.653758    1015.258204   \n",
       "std        18.932077      20.532065       6.746248       6.681788   \n",
       "min         0.000000       0.000000     980.500000     977.100000   \n",
       "25%        57.000000      37.000000    1013.500000    1011.000000   \n",
       "50%        70.000000      51.482606    1017.653758    1015.258204   \n",
       "75%        83.000000      65.000000    1021.800000    1019.400000   \n",
       "max       100.000000     100.000000    1041.000000    1039.600000   \n",
       "\n",
       "            Cloud9am       Cloud3pm        Temp9am        Temp3pm  \\\n",
       "count  142193.000000  142193.000000  142193.000000  142193.000000   \n",
       "mean        4.437189       4.503167      16.987509      21.687235   \n",
       "std         2.278080       2.104709       6.472166       6.870771   \n",
       "min         0.000000       0.000000      -7.200000      -5.400000   \n",
       "25%         3.000000       4.000000      12.300000      16.700000   \n",
       "50%         4.437189       4.503167      16.800000      21.300000   \n",
       "75%         6.000000       6.000000      21.500000      26.300000   \n",
       "max         9.000000       9.000000      40.200000      46.700000   \n",
       "\n",
       "           RainToday   RainTomorrow  \n",
       "count  142193.000000  142193.000000  \n",
       "mean        0.240989       0.224181  \n",
       "std         0.450212       0.417043  \n",
       "min         0.000000       0.000000  \n",
       "25%         0.000000       0.000000  \n",
       "50%         0.000000       0.000000  \n",
       "75%         0.000000       0.000000  \n",
       "max         2.000000       1.000000  "
      ]
     },
     "execution_count": 20,
     "metadata": {},
     "output_type": "execute_result"
    }
   ],
   "source": [
    "df.describe()"
   ]
  },
  {
   "cell_type": "code",
   "execution_count": 24,
   "id": "353fa27c",
   "metadata": {},
   "outputs": [
    {
     "data": {
      "application/vnd.microsoft.datawrangler.viewer.v0+json": {
       "columns": [
        {
         "name": "index",
         "rawType": "object",
         "type": "string"
        },
        {
         "name": "MinTemp",
         "rawType": "float64",
         "type": "float"
        },
        {
         "name": "MaxTemp",
         "rawType": "float64",
         "type": "float"
        },
        {
         "name": "Rainfall",
         "rawType": "float64",
         "type": "float"
        },
        {
         "name": "Evaporation",
         "rawType": "float64",
         "type": "float"
        },
        {
         "name": "Sunshine",
         "rawType": "float64",
         "type": "float"
        },
        {
         "name": "WindGustSpeed",
         "rawType": "float64",
         "type": "float"
        },
        {
         "name": "WindSpeed9am",
         "rawType": "float64",
         "type": "float"
        },
        {
         "name": "WindSpeed3pm",
         "rawType": "float64",
         "type": "float"
        },
        {
         "name": "Humidity9am",
         "rawType": "float64",
         "type": "float"
        },
        {
         "name": "Humidity3pm",
         "rawType": "float64",
         "type": "float"
        },
        {
         "name": "Pressure9am",
         "rawType": "float64",
         "type": "float"
        },
        {
         "name": "Pressure3pm",
         "rawType": "float64",
         "type": "float"
        },
        {
         "name": "Cloud9am",
         "rawType": "float64",
         "type": "float"
        },
        {
         "name": "Cloud3pm",
         "rawType": "float64",
         "type": "float"
        },
        {
         "name": "Temp9am",
         "rawType": "float64",
         "type": "float"
        },
        {
         "name": "Temp3pm",
         "rawType": "float64",
         "type": "float"
        },
        {
         "name": "RainToday",
         "rawType": "float64",
         "type": "float"
        },
        {
         "name": "RainTomorrow",
         "rawType": "float64",
         "type": "float"
        }
       ],
       "ref": "7193fa53-67f8-4f34-bfbc-890a88a34c9d",
       "rows": [
        [
         "count",
         "142193.0",
         "142193.0",
         "142193.0",
         "142193.0",
         "142193.0",
         "142193.0",
         "142193.0",
         "142193.0",
         "142193.0",
         "142193.0",
         "142193.0",
         "142193.0",
         "142193.0",
         "142193.0",
         "142193.0",
         "142193.0",
         "142193.0",
         "142193.0"
        ],
        [
         "mean",
         "2.2386695942875168e-17",
         "2.5584795363285907e-17",
         "-2.598455779083725e-17",
         "-1.2792397681642954e-17",
         "-2.287171352782032e-17",
         "1.129328857832542e-17",
         "1.5990497102053692e-18",
         "1.6790021957156375e-17",
         "3.1980994204107384e-18",
         "-3.1980994204107383e-17",
         "-1.5990497102053692e-17",
         "-1.758954681225906e-17",
         "4.2374817320442285e-17",
         "7.995248551026846e-18",
         "1.918859652246443e-17",
         "3.517909362451812e-17",
         "0.24098935953246645",
         "0.22418121848473554"
        ],
        [
         "std",
         "1.0000035163660466",
         "1.0000035163660468",
         "1.0000035163660466",
         "1.0000035163660466",
         "1.0000035163660468",
         "1.0000035163660466",
         "1.0000035163660466",
         "1.0000035163660468",
         "1.0000035163660468",
         "1.0000035163660466",
         "1.0000035163660466",
         "1.0000035163660468",
         "1.0000035163660468",
         "1.0000035163660468",
         "1.0000035163660466",
         "1.0000035163660468",
         "0.4502120077528685",
         "0.41704343050392284"
        ],
        [
         "min",
         "-3.2378650175580486",
         "-3.942143317842296",
         "-0.278988698409463",
         "-1.7265297399595865",
         "-2.787964285815034",
         "-2.586650582128781",
         "-1.5819577484223855",
         "-2.136964052739151",
         "-3.636370874365364",
         "-2.5074334183976577",
         "-5.50734086115547",
         "-5.710797779970381",
         "-1.947782499029031",
         "-2.1395753646784916",
         "-3.737171406475563",
         "-3.942400477405842",
         "0.0",
         "0.0"
        ],
        [
         "25%",
         "-0.7178698774522057",
         "-0.7492456702096933",
         "-0.278988698409463",
         "-0.4639445659797347",
         "-1.7880281882641516e-16",
         "-0.6838224989427854",
         "-0.7910911773204408",
         "-0.6463982789706441",
         "-0.6255970821570564",
         "-0.7053677592594484",
         "-0.6157159982442977",
         "-0.6372873211051278",
         "-0.6308796172695272",
         "-0.23906808851471972",
         "-0.7242590934891089",
         "-0.7258650636938018",
         "0.0",
         "0.0"
        ],
        [
         "50%",
         "-0.029175553448124125",
         "-0.07409550683363621",
         "-0.278988698409463",
         "1.1033443000417047e-16",
         "-1.7880281882641516e-16",
         "-0.07491751232326677",
         "-0.11320554494734528",
         "-1.6790021957156375e-17",
         "0.06107062483782072",
         "7.221351095741425e-17",
         "1.490794044824466e-14",
         "1.6432176170262164e-15",
         "1.4711257333889398e-16",
         "1.2944133882928403e-17",
         "-0.028971636646080944",
         "-0.05635995495735878",
         "0.0",
         "0.0"
        ],
        [
         "75%",
         "0.7221273454654195",
         "0.6995140553680959",
         "-0.18401277456101625",
         "1.1033443000417047e-16",
         "0.39311853984896167",
         "0.45787435096881196",
         "0.5646800874257502",
         "0.6148496834488618",
         "0.747738331832698",
         "0.6583576044127101",
         "0.6146017703060813",
         "0.6198657129499766",
         "0.6860232644899767",
         "0.7111855495671662",
         "0.6972174849455258",
         "0.6713629893213833",
         "0.0",
         "0.0"
        ],
        [
         "max",
         "3.398643922844918",
         "3.4985741076979995",
         "43.766095986307725",
         "44.04218281681003",
         "2.5138404236249596",
         "7.231942327110956",
         "13.105564286328015",
         "7.838360740942394",
         "1.6456884102106142",
         "2.3630143090029083",
         "3.460638054181679",
         "3.6430194377015352",
         "2.002926146249481",
         "2.1365660066899954",
         "3.5865231389376646",
         "3.6404726019786513",
         "2.0",
         "1.0"
        ]
       ],
       "shape": {
        "columns": 18,
        "rows": 8
       }
      },
      "text/html": [
       "<div>\n",
       "<style scoped>\n",
       "    .dataframe tbody tr th:only-of-type {\n",
       "        vertical-align: middle;\n",
       "    }\n",
       "\n",
       "    .dataframe tbody tr th {\n",
       "        vertical-align: top;\n",
       "    }\n",
       "\n",
       "    .dataframe thead th {\n",
       "        text-align: right;\n",
       "    }\n",
       "</style>\n",
       "<table border=\"1\" class=\"dataframe\">\n",
       "  <thead>\n",
       "    <tr style=\"text-align: right;\">\n",
       "      <th></th>\n",
       "      <th>MinTemp</th>\n",
       "      <th>MaxTemp</th>\n",
       "      <th>Rainfall</th>\n",
       "      <th>Evaporation</th>\n",
       "      <th>Sunshine</th>\n",
       "      <th>WindGustSpeed</th>\n",
       "      <th>WindSpeed9am</th>\n",
       "      <th>WindSpeed3pm</th>\n",
       "      <th>Humidity9am</th>\n",
       "      <th>Humidity3pm</th>\n",
       "      <th>Pressure9am</th>\n",
       "      <th>Pressure3pm</th>\n",
       "      <th>Cloud9am</th>\n",
       "      <th>Cloud3pm</th>\n",
       "      <th>Temp9am</th>\n",
       "      <th>Temp3pm</th>\n",
       "      <th>RainToday</th>\n",
       "      <th>RainTomorrow</th>\n",
       "    </tr>\n",
       "  </thead>\n",
       "  <tbody>\n",
       "    <tr>\n",
       "      <th>count</th>\n",
       "      <td>1.421930e+05</td>\n",
       "      <td>1.421930e+05</td>\n",
       "      <td>1.421930e+05</td>\n",
       "      <td>1.421930e+05</td>\n",
       "      <td>1.421930e+05</td>\n",
       "      <td>1.421930e+05</td>\n",
       "      <td>1.421930e+05</td>\n",
       "      <td>1.421930e+05</td>\n",
       "      <td>1.421930e+05</td>\n",
       "      <td>1.421930e+05</td>\n",
       "      <td>1.421930e+05</td>\n",
       "      <td>1.421930e+05</td>\n",
       "      <td>1.421930e+05</td>\n",
       "      <td>1.421930e+05</td>\n",
       "      <td>1.421930e+05</td>\n",
       "      <td>1.421930e+05</td>\n",
       "      <td>142193.000000</td>\n",
       "      <td>142193.000000</td>\n",
       "    </tr>\n",
       "    <tr>\n",
       "      <th>mean</th>\n",
       "      <td>2.238670e-17</td>\n",
       "      <td>2.558480e-17</td>\n",
       "      <td>-2.598456e-17</td>\n",
       "      <td>-1.279240e-17</td>\n",
       "      <td>-2.287171e-17</td>\n",
       "      <td>1.129329e-17</td>\n",
       "      <td>1.599050e-18</td>\n",
       "      <td>1.679002e-17</td>\n",
       "      <td>3.198099e-18</td>\n",
       "      <td>-3.198099e-17</td>\n",
       "      <td>-1.599050e-17</td>\n",
       "      <td>-1.758955e-17</td>\n",
       "      <td>4.237482e-17</td>\n",
       "      <td>7.995249e-18</td>\n",
       "      <td>1.918860e-17</td>\n",
       "      <td>3.517909e-17</td>\n",
       "      <td>0.240989</td>\n",
       "      <td>0.224181</td>\n",
       "    </tr>\n",
       "    <tr>\n",
       "      <th>std</th>\n",
       "      <td>1.000004e+00</td>\n",
       "      <td>1.000004e+00</td>\n",
       "      <td>1.000004e+00</td>\n",
       "      <td>1.000004e+00</td>\n",
       "      <td>1.000004e+00</td>\n",
       "      <td>1.000004e+00</td>\n",
       "      <td>1.000004e+00</td>\n",
       "      <td>1.000004e+00</td>\n",
       "      <td>1.000004e+00</td>\n",
       "      <td>1.000004e+00</td>\n",
       "      <td>1.000004e+00</td>\n",
       "      <td>1.000004e+00</td>\n",
       "      <td>1.000004e+00</td>\n",
       "      <td>1.000004e+00</td>\n",
       "      <td>1.000004e+00</td>\n",
       "      <td>1.000004e+00</td>\n",
       "      <td>0.450212</td>\n",
       "      <td>0.417043</td>\n",
       "    </tr>\n",
       "    <tr>\n",
       "      <th>min</th>\n",
       "      <td>-3.237865e+00</td>\n",
       "      <td>-3.942143e+00</td>\n",
       "      <td>-2.789887e-01</td>\n",
       "      <td>-1.726530e+00</td>\n",
       "      <td>-2.787964e+00</td>\n",
       "      <td>-2.586651e+00</td>\n",
       "      <td>-1.581958e+00</td>\n",
       "      <td>-2.136964e+00</td>\n",
       "      <td>-3.636371e+00</td>\n",
       "      <td>-2.507433e+00</td>\n",
       "      <td>-5.507341e+00</td>\n",
       "      <td>-5.710798e+00</td>\n",
       "      <td>-1.947782e+00</td>\n",
       "      <td>-2.139575e+00</td>\n",
       "      <td>-3.737171e+00</td>\n",
       "      <td>-3.942400e+00</td>\n",
       "      <td>0.000000</td>\n",
       "      <td>0.000000</td>\n",
       "    </tr>\n",
       "    <tr>\n",
       "      <th>25%</th>\n",
       "      <td>-7.178699e-01</td>\n",
       "      <td>-7.492457e-01</td>\n",
       "      <td>-2.789887e-01</td>\n",
       "      <td>-4.639446e-01</td>\n",
       "      <td>-1.788028e-16</td>\n",
       "      <td>-6.838225e-01</td>\n",
       "      <td>-7.910912e-01</td>\n",
       "      <td>-6.463983e-01</td>\n",
       "      <td>-6.255971e-01</td>\n",
       "      <td>-7.053678e-01</td>\n",
       "      <td>-6.157160e-01</td>\n",
       "      <td>-6.372873e-01</td>\n",
       "      <td>-6.308796e-01</td>\n",
       "      <td>-2.390681e-01</td>\n",
       "      <td>-7.242591e-01</td>\n",
       "      <td>-7.258651e-01</td>\n",
       "      <td>0.000000</td>\n",
       "      <td>0.000000</td>\n",
       "    </tr>\n",
       "    <tr>\n",
       "      <th>50%</th>\n",
       "      <td>-2.917555e-02</td>\n",
       "      <td>-7.409551e-02</td>\n",
       "      <td>-2.789887e-01</td>\n",
       "      <td>1.103344e-16</td>\n",
       "      <td>-1.788028e-16</td>\n",
       "      <td>-7.491751e-02</td>\n",
       "      <td>-1.132055e-01</td>\n",
       "      <td>-1.679002e-17</td>\n",
       "      <td>6.107062e-02</td>\n",
       "      <td>7.221351e-17</td>\n",
       "      <td>1.490794e-14</td>\n",
       "      <td>1.643218e-15</td>\n",
       "      <td>1.471126e-16</td>\n",
       "      <td>1.294413e-17</td>\n",
       "      <td>-2.897164e-02</td>\n",
       "      <td>-5.635995e-02</td>\n",
       "      <td>0.000000</td>\n",
       "      <td>0.000000</td>\n",
       "    </tr>\n",
       "    <tr>\n",
       "      <th>75%</th>\n",
       "      <td>7.221273e-01</td>\n",
       "      <td>6.995141e-01</td>\n",
       "      <td>-1.840128e-01</td>\n",
       "      <td>1.103344e-16</td>\n",
       "      <td>3.931185e-01</td>\n",
       "      <td>4.578744e-01</td>\n",
       "      <td>5.646801e-01</td>\n",
       "      <td>6.148497e-01</td>\n",
       "      <td>7.477383e-01</td>\n",
       "      <td>6.583576e-01</td>\n",
       "      <td>6.146018e-01</td>\n",
       "      <td>6.198657e-01</td>\n",
       "      <td>6.860233e-01</td>\n",
       "      <td>7.111855e-01</td>\n",
       "      <td>6.972175e-01</td>\n",
       "      <td>6.713630e-01</td>\n",
       "      <td>0.000000</td>\n",
       "      <td>0.000000</td>\n",
       "    </tr>\n",
       "    <tr>\n",
       "      <th>max</th>\n",
       "      <td>3.398644e+00</td>\n",
       "      <td>3.498574e+00</td>\n",
       "      <td>4.376610e+01</td>\n",
       "      <td>4.404218e+01</td>\n",
       "      <td>2.513840e+00</td>\n",
       "      <td>7.231942e+00</td>\n",
       "      <td>1.310556e+01</td>\n",
       "      <td>7.838361e+00</td>\n",
       "      <td>1.645688e+00</td>\n",
       "      <td>2.363014e+00</td>\n",
       "      <td>3.460638e+00</td>\n",
       "      <td>3.643019e+00</td>\n",
       "      <td>2.002926e+00</td>\n",
       "      <td>2.136566e+00</td>\n",
       "      <td>3.586523e+00</td>\n",
       "      <td>3.640473e+00</td>\n",
       "      <td>2.000000</td>\n",
       "      <td>1.000000</td>\n",
       "    </tr>\n",
       "  </tbody>\n",
       "</table>\n",
       "</div>"
      ],
      "text/plain": [
       "            MinTemp       MaxTemp      Rainfall   Evaporation      Sunshine  \\\n",
       "count  1.421930e+05  1.421930e+05  1.421930e+05  1.421930e+05  1.421930e+05   \n",
       "mean   2.238670e-17  2.558480e-17 -2.598456e-17 -1.279240e-17 -2.287171e-17   \n",
       "std    1.000004e+00  1.000004e+00  1.000004e+00  1.000004e+00  1.000004e+00   \n",
       "min   -3.237865e+00 -3.942143e+00 -2.789887e-01 -1.726530e+00 -2.787964e+00   \n",
       "25%   -7.178699e-01 -7.492457e-01 -2.789887e-01 -4.639446e-01 -1.788028e-16   \n",
       "50%   -2.917555e-02 -7.409551e-02 -2.789887e-01  1.103344e-16 -1.788028e-16   \n",
       "75%    7.221273e-01  6.995141e-01 -1.840128e-01  1.103344e-16  3.931185e-01   \n",
       "max    3.398644e+00  3.498574e+00  4.376610e+01  4.404218e+01  2.513840e+00   \n",
       "\n",
       "       WindGustSpeed  WindSpeed9am  WindSpeed3pm   Humidity9am   Humidity3pm  \\\n",
       "count   1.421930e+05  1.421930e+05  1.421930e+05  1.421930e+05  1.421930e+05   \n",
       "mean    1.129329e-17  1.599050e-18  1.679002e-17  3.198099e-18 -3.198099e-17   \n",
       "std     1.000004e+00  1.000004e+00  1.000004e+00  1.000004e+00  1.000004e+00   \n",
       "min    -2.586651e+00 -1.581958e+00 -2.136964e+00 -3.636371e+00 -2.507433e+00   \n",
       "25%    -6.838225e-01 -7.910912e-01 -6.463983e-01 -6.255971e-01 -7.053678e-01   \n",
       "50%    -7.491751e-02 -1.132055e-01 -1.679002e-17  6.107062e-02  7.221351e-17   \n",
       "75%     4.578744e-01  5.646801e-01  6.148497e-01  7.477383e-01  6.583576e-01   \n",
       "max     7.231942e+00  1.310556e+01  7.838361e+00  1.645688e+00  2.363014e+00   \n",
       "\n",
       "        Pressure9am   Pressure3pm      Cloud9am      Cloud3pm       Temp9am  \\\n",
       "count  1.421930e+05  1.421930e+05  1.421930e+05  1.421930e+05  1.421930e+05   \n",
       "mean  -1.599050e-17 -1.758955e-17  4.237482e-17  7.995249e-18  1.918860e-17   \n",
       "std    1.000004e+00  1.000004e+00  1.000004e+00  1.000004e+00  1.000004e+00   \n",
       "min   -5.507341e+00 -5.710798e+00 -1.947782e+00 -2.139575e+00 -3.737171e+00   \n",
       "25%   -6.157160e-01 -6.372873e-01 -6.308796e-01 -2.390681e-01 -7.242591e-01   \n",
       "50%    1.490794e-14  1.643218e-15  1.471126e-16  1.294413e-17 -2.897164e-02   \n",
       "75%    6.146018e-01  6.198657e-01  6.860233e-01  7.111855e-01  6.972175e-01   \n",
       "max    3.460638e+00  3.643019e+00  2.002926e+00  2.136566e+00  3.586523e+00   \n",
       "\n",
       "            Temp3pm      RainToday   RainTomorrow  \n",
       "count  1.421930e+05  142193.000000  142193.000000  \n",
       "mean   3.517909e-17       0.240989       0.224181  \n",
       "std    1.000004e+00       0.450212       0.417043  \n",
       "min   -3.942400e+00       0.000000       0.000000  \n",
       "25%   -7.258651e-01       0.000000       0.000000  \n",
       "50%   -5.635995e-02       0.000000       0.000000  \n",
       "75%    6.713630e-01       0.000000       0.000000  \n",
       "max    3.640473e+00       2.000000       1.000000  "
      ]
     },
     "execution_count": 24,
     "metadata": {},
     "output_type": "execute_result"
    }
   ],
   "source": [
    "from sklearn.preprocessing import StandardScaler\n",
    "\n",
    "numerical_features = ['MinTemp', 'MaxTemp', 'Rainfall', 'Evaporation', 'Sunshine','WindGustSpeed', 'WindSpeed9am', 'WindSpeed3pm', 'Humidity9am', 'Humidity3pm', 'Pressure9am', 'Pressure3pm', 'Cloud9am', 'Cloud3pm', 'Temp9am','Temp3pm']\n",
    "\n",
    "scaler = StandardScaler()\n",
    "\n",
    "df[numerical_features] = scaler.fit_transform(df[numerical_features])\n",
    "\n",
    "df.describe()"
   ]
  },
  {
   "cell_type": "code",
   "execution_count": 26,
   "id": "dac969eb",
   "metadata": {},
   "outputs": [],
   "source": [
    "import torch\n",
    "import torch.nn as nn\n",
    "import torch.optim as optim\n",
    "from sklearn.metrics import accuracy_score, classification_report\n",
    "from tqdm import tqdm"
   ]
  },
  {
   "cell_type": "code",
   "execution_count": 29,
   "id": "19bed40c",
   "metadata": {},
   "outputs": [],
   "source": [
    "X = df.drop(['RainTomorrow','Date','Location','WindGustDir', 'WindDir9am','WindDir3pm'], axis=1).values\n",
    "y = df['RainTomorrow'].values\n",
    "\n",
    "X_train, X_test, y_train, y_test = train_test_split(X, y, test_size=0.2, stratify=y, shuffle=True, random_state=42)"
   ]
  },
  {
   "cell_type": "code",
   "execution_count": 30,
   "id": "85f4cba0",
   "metadata": {},
   "outputs": [
    {
     "data": {
      "text/plain": [
       "(113754, 17)"
      ]
     },
     "execution_count": 30,
     "metadata": {},
     "output_type": "execute_result"
    }
   ],
   "source": [
    "X_train.shape"
   ]
  },
  {
   "cell_type": "code",
   "execution_count": 31,
   "id": "b1e88b37",
   "metadata": {},
   "outputs": [
    {
     "data": {
      "text/plain": [
       "(28439, 17)"
      ]
     },
     "execution_count": 31,
     "metadata": {},
     "output_type": "execute_result"
    }
   ],
   "source": [
    "X_test.shape"
   ]
  },
  {
   "cell_type": "code",
   "execution_count": 32,
   "id": "13b1b61c",
   "metadata": {},
   "outputs": [],
   "source": [
    "X_train_tensor = torch.tensor(X_train, dtype=torch.float32)\n",
    "X_test_tensor = torch.tensor(X_test, dtype=torch.float32)\n",
    "\n",
    "y_train_tensor = torch.tensor(y_train, dtype=torch.float32).view(-1, 1)\n",
    "y_test_tensor = torch.tensor(y_test, dtype=torch.float32).view(-1, 1)"
   ]
  },
  {
   "cell_type": "code",
   "execution_count": 34,
   "id": "48dc586f",
   "metadata": {},
   "outputs": [
    {
     "data": {
      "text/plain": [
       "tensor([[ 1.1134e+00,  1.6278e+00, -2.7899e-01,  ...,  1.1298e+00,\n",
       "          1.7338e+00,  0.0000e+00],\n",
       "        [-1.6630e-16,  2.2387e-16, -2.5524e-01,  ...,  3.4220e-16,\n",
       "         -3.6357e-16,  0.0000e+00],\n",
       "        [ 1.2735e-01,  2.4364e-02, -2.7899e-01,  ..., -9.0775e-02,\n",
       "          2.0562e-01,  0.0000e+00],\n",
       "        ...,\n",
       "        [-4.5178e-01, -9.8836e-01,  1.9589e-01,  ..., -3.3799e-01,\n",
       "         -3.6357e-16,  1.0000e+00],\n",
       "        [ 3.9343e-01,  1.0090e+00, -2.7899e-01,  ...,  8.6718e-01,\n",
       "          9.3334e-01,  0.0000e+00],\n",
       "        [ 5.4995e-01,  4.4633e-01, -2.7899e-01,  ...,  6.1996e-01,\n",
       "          6.5681e-01,  0.0000e+00]])"
      ]
     },
     "execution_count": 34,
     "metadata": {},
     "output_type": "execute_result"
    }
   ],
   "source": [
    "X_train_tensor"
   ]
  },
  {
   "cell_type": "code",
   "execution_count": 35,
   "id": "7c815d9a",
   "metadata": {},
   "outputs": [
    {
     "data": {
      "text/plain": [
       "tensor([[0.],\n",
       "        [0.],\n",
       "        [0.],\n",
       "        ...,\n",
       "        [1.],\n",
       "        [0.],\n",
       "        [0.]])"
      ]
     },
     "execution_count": 35,
     "metadata": {},
     "output_type": "execute_result"
    }
   ],
   "source": [
    "y_train_tensor"
   ]
  },
  {
   "cell_type": "code",
   "execution_count": 36,
   "id": "2a8ddd22",
   "metadata": {},
   "outputs": [],
   "source": [
    "from torch.utils.data import DataLoader, TensorDataset\n",
    "train_data = TensorDataset(X_train_tensor, y_train_tensor)\n",
    "train_loader = DataLoader(dataset=train_data, batch_size=64, shuffle=True)"
   ]
  },
  {
   "cell_type": "code",
   "execution_count": 37,
   "id": "3871bcb7",
   "metadata": {},
   "outputs": [
    {
     "data": {
      "text/plain": [
       "<torch.utils.data.dataloader.DataLoader at 0x1640928e900>"
      ]
     },
     "execution_count": 37,
     "metadata": {},
     "output_type": "execute_result"
    }
   ],
   "source": [
    "train_loader"
   ]
  },
  {
   "cell_type": "code",
   "execution_count": 38,
   "id": "db87e607",
   "metadata": {},
   "outputs": [
    {
     "name": "stderr",
     "output_type": "stream",
     "text": [
      "100%|██████████| 10/10 [00:28<00:00,  2.86s/it]\n"
     ]
    }
   ],
   "source": [
    "import torch.nn as nn\n",
    "\n",
    "input_size = 17\n",
    "hidden_size = 10\n",
    "output_size = 1\n",
    "\n",
    "model = nn.Sequential(\n",
    "    nn.Linear(input_size, hidden_size),\n",
    "    nn.ReLU(),\n",
    "    nn.Linear(hidden_size, hidden_size),\n",
    "    nn.ReLU(),\n",
    "    nn.Linear(hidden_size, output_size),\n",
    "    nn.Sigmoid()\n",
    ")\n",
    "\n",
    "loss_function = nn.BCELoss()\n",
    "optimizer = torch.optim.Adam(model.parameters(), lr=0.001)\n",
    "epochs = 10\n",
    "\n",
    "for epoch in tqdm(range(epochs)):\n",
    "    for batch_X, batch_y in train_loader:\n",
    "        optimizer.zero_grad()\n",
    "        outputs = model(batch_X)\n",
    "        batch_y = batch_y.clamp(0, 1)\n",
    "        loss = loss_function(outputs, batch_y)\n",
    "        loss.backward()\n",
    "        optimizer.step()\n",
    "\n",
    "with torch.no_grad():\n",
    "    predictions = model(X_test_tensor)\n",
    "    predicted_classes = (predictions > 0.5).int().numpy()"
   ]
  }
 ],
 "metadata": {
  "kernelspec": {
   "display_name": ".venv",
   "language": "python",
   "name": "python3"
  },
  "language_info": {
   "codemirror_mode": {
    "name": "ipython",
    "version": 3
   },
   "file_extension": ".py",
   "mimetype": "text/x-python",
   "name": "python",
   "nbconvert_exporter": "python",
   "pygments_lexer": "ipython3",
   "version": "3.12.9"
  }
 },
 "nbformat": 4,
 "nbformat_minor": 5
}
