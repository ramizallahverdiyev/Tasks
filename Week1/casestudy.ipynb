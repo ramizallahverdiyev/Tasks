{
 "cells": [
  {
   "cell_type": "markdown",
   "id": "c87965f5",
   "metadata": {},
   "source": [
    "Question 1"
   ]
  },
  {
   "cell_type": "code",
   "execution_count": 2,
   "id": "8ba42840",
   "metadata": {},
   "outputs": [
    {
     "data": {
      "text/plain": [
       "6.0"
      ]
     },
     "execution_count": 2,
     "metadata": {},
     "output_type": "execute_result"
    }
   ],
   "source": [
    "def addition_2number():\n",
    "    num1 = float(input(\"Enter the first number: \"))\n",
    "    num2 = float(input(\"Enter the second number: \"))\n",
    "    \n",
    "    return num1 + num2\n",
    "\n",
    "addition_2number()"
   ]
  },
  {
   "cell_type": "markdown",
   "id": "4b08e496",
   "metadata": {},
   "source": [
    "Question 2"
   ]
  },
  {
   "cell_type": "code",
   "execution_count": 3,
   "id": "e0233afb",
   "metadata": {},
   "outputs": [
    {
     "name": "stdout",
     "output_type": "stream",
     "text": [
      "The total sum 6.0\n"
     ]
    }
   ],
   "source": [
    "def addition():\n",
    "    total = 0\n",
    "    while True:\n",
    "        num = float(input(\"Enter a number (enter 0 to stop): \"))\n",
    "        if num == 0:\n",
    "            break\n",
    "        total += num\n",
    "    return total\n",
    "\n",
    "result = addition()\n",
    "print(\"The total sum\", result)"
   ]
  },
  {
   "cell_type": "markdown",
   "id": "e81b119c",
   "metadata": {},
   "source": [
    "Question 3"
   ]
  },
  {
   "cell_type": "code",
   "execution_count": 3,
   "id": "fabce49f",
   "metadata": {},
   "outputs": [
    {
     "name": "stdout",
     "output_type": "stream",
     "text": [
      "The subtraction result: 1.0\n"
     ]
    }
   ],
   "source": [
    "def subtraction():\n",
    "    result = None\n",
    "    while True:\n",
    "        num = float(input(\"Enter a number: \"))\n",
    "        if num == 0:\n",
    "            break\n",
    "        elif result is None:\n",
    "            result = num\n",
    "        else:\n",
    "            result -= num\n",
    "    return result\n",
    "\n",
    "result = subtraction()\n",
    "print(\"The subtraction result:\", result)"
   ]
  },
  {
   "cell_type": "markdown",
   "id": "c2164833",
   "metadata": {},
   "source": [
    "Question 4"
   ]
  },
  {
   "cell_type": "code",
   "execution_count": 5,
   "id": "e1c723e6",
   "metadata": {},
   "outputs": [
    {
     "name": "stdout",
     "output_type": "stream",
     "text": [
      "The multiplication result: 24.0\n"
     ]
    }
   ],
   "source": [
    "def multiplication():\n",
    "    result = None\n",
    "    while True:\n",
    "        num = float(input(\"Enter a number: \"))\n",
    "        if num == 0:\n",
    "            break\n",
    "        elif result is None:\n",
    "            result = num\n",
    "        else:\n",
    "            result *= num\n",
    "    return result\n",
    "\n",
    "result = multiplication()\n",
    "print(\"The multiplication result:\", result)"
   ]
  },
  {
   "cell_type": "markdown",
   "id": "1cfb6c0e",
   "metadata": {},
   "source": [
    "Question 5"
   ]
  },
  {
   "cell_type": "code",
   "execution_count": 6,
   "id": "b0df8664",
   "metadata": {},
   "outputs": [
    {
     "name": "stdout",
     "output_type": "stream",
     "text": [
      "Simple Calculator\n",
      "1. Addition of 2 numbers\n",
      "2. Addition of multiple numbers\n",
      "3. Subtraction\n",
      "4. Multiplication\n",
      "Result: -4.0\n"
     ]
    }
   ],
   "source": [
    "def calculator():\n",
    "    print(\"Simple Calculator\")\n",
    "    print(\"1. Addition of 2 numbers\")\n",
    "    print(\"2. Addition of multiple numbers\")\n",
    "    print(\"3. Subtraction\")\n",
    "    print(\"4. Multiplication\")\n",
    "    \n",
    "    choice = input(\"Enter your choice: \")\n",
    "    \n",
    "    if choice == '1':\n",
    "        print(\"Result:\", addition_2number())\n",
    "    elif choice == '2':\n",
    "        print(\"Result:\", addition())\n",
    "    elif choice == '3':\n",
    "        print(\"Result:\", subtraction())\n",
    "    elif choice == '4':\n",
    "        print(\"Result:\", multiplication())\n",
    "    else:\n",
    "        print(\"Invalid choice.\")\n",
    "\n",
    "calculator()"
   ]
  },
  {
   "cell_type": "markdown",
   "id": "d2728ffb",
   "metadata": {},
   "source": [
    "Question 6"
   ]
  },
  {
   "cell_type": "code",
   "execution_count": 7,
   "id": "d79528ed",
   "metadata": {},
   "outputs": [
    {
     "name": "stdout",
     "output_type": "stream",
     "text": [
      "Intersection :  [4, 5]\n"
     ]
    }
   ],
   "source": [
    "array1 = [1, 2, 3, 4, 5]\n",
    "array2 = [4, 5, 6, 7, 8]\n",
    "\n",
    "\n",
    "intersection = list(filter(lambda x: x in array2, array1))\n",
    "print(\"Intersection : \", intersection)"
   ]
  },
  {
   "cell_type": "markdown",
   "id": "836a346f",
   "metadata": {},
   "source": [
    "Question 7"
   ]
  },
  {
   "cell_type": "code",
   "execution_count": 8,
   "id": "f42cd9ee",
   "metadata": {},
   "outputs": [
    {
     "name": "stdout",
     "output_type": "stream",
     "text": [
      "Sum of lists: [5, 7, 9, 11, 13]\n"
     ]
    }
   ],
   "source": [
    "sum_of_lists = list(map(lambda x, y: x + y, array1, array2))\n",
    "\n",
    "print(\"Sum of lists:\", sum_of_lists)"
   ]
  },
  {
   "cell_type": "markdown",
   "id": "92003e49",
   "metadata": {},
   "source": [
    "Question 8"
   ]
  },
  {
   "cell_type": "code",
   "execution_count": 9,
   "id": "14781fa8",
   "metadata": {},
   "outputs": [
    {
     "name": "stdout",
     "output_type": "stream",
     "text": [
      "Is divisible: [13, 19, 52, 57, 76]\n"
     ]
    }
   ],
   "source": [
    "numbers = [13, 19, 22, 45, 50, 52, 57, 76, 100]\n",
    "\n",
    "is_divisible = [num for num in numbers if num % 19 == 0 or num % 13 == 0]\n",
    "\n",
    "print(\"Is divisible:\", is_divisible)"
   ]
  }
 ],
 "metadata": {
  "kernelspec": {
   "display_name": "base",
   "language": "python",
   "name": "python3"
  },
  "language_info": {
   "codemirror_mode": {
    "name": "ipython",
    "version": 3
   },
   "file_extension": ".py",
   "mimetype": "text/x-python",
   "name": "python",
   "nbconvert_exporter": "python",
   "pygments_lexer": "ipython3",
   "version": "3.12.7"
  }
 },
 "nbformat": 4,
 "nbformat_minor": 5
}
