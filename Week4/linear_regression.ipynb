{
 "cells": [
  {
   "cell_type": "markdown",
   "id": "ee0a78d2",
   "metadata": {},
   "source": [
    "Homework Linear Regression"
   ]
  },
  {
   "cell_type": "code",
   "execution_count": 1,
   "id": "cdff8b45",
   "metadata": {},
   "outputs": [],
   "source": [
    "import pandas as pd\n",
    "import numpy as np\n",
    "import seaborn as sns\n",
    "import matplotlib.pyplot as plt"
   ]
  },
  {
   "cell_type": "code",
   "execution_count": 2,
   "id": "8e371c50",
   "metadata": {},
   "outputs": [
    {
     "data": {
      "application/vnd.microsoft.datawrangler.viewer.v0+json": {
       "columns": [
        {
         "name": "index",
         "rawType": "int64",
         "type": "integer"
        },
        {
         "name": "Avg. Area Income",
         "rawType": "float64",
         "type": "float"
        },
        {
         "name": "Avg. Area House Age",
         "rawType": "float64",
         "type": "float"
        },
        {
         "name": "Avg. Area Number of Rooms",
         "rawType": "float64",
         "type": "float"
        },
        {
         "name": "Avg. Area Number of Bedrooms",
         "rawType": "float64",
         "type": "float"
        },
        {
         "name": "Area Population",
         "rawType": "float64",
         "type": "float"
        },
        {
         "name": "Price",
         "rawType": "float64",
         "type": "float"
        },
        {
         "name": "Address",
         "rawType": "object",
         "type": "string"
        }
       ],
       "conversionMethod": "pd.DataFrame",
       "ref": "5d9aa8e4-9738-4500-a63e-df361c2b426e",
       "rows": [
        [
         "0",
         "79545.45857431678",
         "5.682861321615587",
         "7.009188142792237",
         "4.09",
         "23086.800502686456",
         "1059033.5578701235",
         "208 Michael Ferry Apt. 674\nLaurabury, NE 37010-5101"
        ],
        [
         "1",
         "79248.64245482568",
         "6.0028998082752425",
         "6.730821019094919",
         "3.09",
         "40173.07217364482",
         "1505890.91484695",
         "188 Johnson Views Suite 079\nLake Kathleen, CA 48958"
        ],
        [
         "2",
         "61287.067178656784",
         "5.865889840310001",
         "8.512727430375099",
         "5.13",
         "36882.15939970458",
         "1058987.9878760849",
         "9127 Elizabeth Stravenue\nDanieltown, WI 06482-3489"
        ],
        [
         "3",
         "63345.24004622798",
         "7.1882360945186425",
         "5.586728664827653",
         "3.26",
         "34310.24283090706",
         "1260616.8066294468",
         "USS Barnett\nFPO AP 44820"
        ],
        [
         "4",
         "59982.197225708034",
         "5.040554523106283",
         "7.839387785120487",
         "4.23",
         "26354.109472103148",
         "630943.4893385402",
         "USNS Raymond\nFPO AE 09386"
        ],
        [
         "5",
         "80175.7541594853",
         "4.9884077575337145",
         "6.104512439428879",
         "4.04",
         "26748.428424689715",
         "1068138.0743935304",
         "06039 Jennifer Islands Apt. 443\nTracyport, KS 16077"
        ],
        [
         "6",
         "64698.46342788773",
         "6.025335906887153",
         "8.147759585023431",
         "3.41",
         "60828.24908540716",
         "1502055.8173744078",
         "4759 Daniel Shoals Suite 442\nNguyenburgh, CO 20247"
        ],
        [
         "7",
         "78394.33927753085",
         "6.9897797477182815",
         "6.620477995185026",
         "2.42",
         "36516.35897249384",
         "1573936.5644777217",
         "972 Joyce Viaduct\nLake William, TN 17778-6483"
        ],
        [
         "8",
         "59927.66081334963",
         "5.36212556960358",
         "6.3931209805509015",
         "2.3",
         "29387.39600281585",
         "798869.5328331633",
         "USS Gilbert\nFPO AA 20957"
        ],
        [
         "9",
         "81885.92718409566",
         "4.423671789897876",
         "8.167688003472351",
         "6.1",
         "40149.96574921337",
         "1545154.8126419624",
         "Unit 9446 Box 0958\nDPO AE 97025"
        ],
        [
         "10",
         "80527.47208292288",
         "8.09351268063935",
         "5.042746799645982",
         "4.1",
         "47224.35984022191",
         "1707045.722158058",
         "6368 John Motorway Suite 700\nJanetbury, NM 26854"
        ],
        [
         "11",
         "50593.69549704281",
         "4.496512793097035",
         "7.467627404008019",
         "4.49",
         "34343.991885578806",
         "663732.3968963273",
         "911 Castillo Park Apt. 717\nDavisborough, PW 78603"
        ],
        [
         "12",
         "39033.809236982364",
         "7.671755372854428",
         "7.250029317273495",
         "3.1",
         "39220.36146737246",
         "1042814.0978200928",
         "209 Natasha Stream Suite 961\nHuffmanland, NE 52457"
        ],
        [
         "13",
         "73163.6634410467",
         "6.919534825456555",
         "5.9931879009455695",
         "2.27",
         "32326.123139488096",
         "1291331.5184858206",
         "829 Welch Track Apt. 992\nNorth John, AR 26532-5136"
        ],
        [
         "14",
         "69391.3801843616",
         "5.344776176735725",
         "8.406417714534253",
         "4.37",
         "35521.294033173246",
         "1402818.2101658515",
         "PSC 5330, Box 4420\nAPO AP 08302"
        ],
        [
         "15",
         "73091.86674582321",
         "5.443156466535474",
         "8.517512711137975",
         "4.01",
         "23929.524053267956",
         "1306674.6599511993",
         "2278 Shannon View\nNorth Carriemouth, NM 84617"
        ],
        [
         "16",
         "79706.96305765743",
         "5.067889591058972",
         "8.219771123286257",
         "3.12",
         "39717.81357630952",
         "1556786.6001947748",
         "064 Hayley Unions\nNicholsborough, HI 44161-1887"
        ],
        [
         "17",
         "61929.07701808926",
         "4.788550241805888",
         "5.0970095543775615",
         "4.3",
         "24595.90149782299",
         "528485.2467305964",
         "5498 Rachel Locks\nNew Gregoryshire, PW 54755"
        ],
        [
         "18",
         "63508.19429942997",
         "5.947165139552473",
         "7.187773835329727",
         "5.12",
         "35719.653052030866",
         "1019425.9367578316",
         "Unit 7424 Box 2786\nDPO AE 71255"
        ],
        [
         "19",
         "62085.27640340488",
         "5.739410843630574",
         "7.09180810424997",
         "5.49",
         "44922.106702293066",
         "1030591.4292116084",
         "19696 Benjamin Cape\nStephentown, ME 36952-4733"
        ],
        [
         "20",
         "86294.99908871058",
         "6.627456939781737",
         "8.011897853150563",
         "4.07",
         "47560.77533629521",
         "2146925.339888662",
         "030 Larry Park Suite 665\nThomashaven, HI 87941-5197"
        ],
        [
         "21",
         "60835.08997885398",
         "5.551221591990328",
         "6.517175038094777",
         "2.1",
         "45574.74166225795",
         "929247.5995364",
         "USNS Brown\nFPO AP 85833"
        ],
        [
         "22",
         "64490.65026675507",
         "4.210322870054841",
         "5.478087730769143",
         "4.31",
         "40358.96010561757",
         "718887.2315009277",
         "95198 Ortiz Key\nPort Sara, TN 24541-2855"
        ],
        [
         "23",
         "60697.35153944832",
         "6.1704840908385",
         "7.150536572335959",
         "6.34",
         "28140.96708772475",
         "743999.8191601974",
         "9003 Jay Plains Suite 838\nLake Elizabeth, IN 90622-0804"
        ],
        [
         "24",
         "59748.85548697423",
         "5.3393398807459",
         "7.7486816056065955",
         "4.23",
         "27809.986543758896",
         "895737.1333835076",
         "24282 Paul Valley\nWest Perry, MI 03169-5806"
        ],
        [
         "25",
         "56974.47653879643",
         "8.287562193759008",
         "7.312879971463007",
         "4.33",
         "40694.86951302233",
         "1453974.505950872",
         "61938 Brady Falls\nLewisfort, DE 61227"
        ],
        [
         "26",
         "82173.62607584603",
         "4.018524684942813",
         "6.992698756791841",
         "2.03",
         "38853.91806648168",
         "1125692.507295288",
         "3599 Ramirez Springs\nJacksonhaven, AZ 72798"
        ],
        [
         "27",
         "64626.88097813548",
         "5.443359590192101",
         "6.98875353866204",
         "4.0",
         "27784.74228018588",
         "975429.4927929222",
         "073 Christopher Falls Suite 882\nWest Cynthia, MA 89075-2814"
        ],
        [
         "28",
         "90499.0574513475",
         "6.3843589207152025",
         "4.242191301572632",
         "3.04",
         "33970.16499037125",
         "1240763.765571478",
         "6531 Chase Prairie Apt. 245\nSusanshire, MN 22365"
        ],
        [
         "29",
         "59323.79209970036",
         "6.9778279401788375",
         "8.273697077776598",
         "4.07",
         "37520.65773244972",
         "1577017.7600015546",
         "17124 Johnson Squares\nLake Robertfurt, AL 61811-3832"
        ],
        [
         "30",
         "77811.52203457447",
         "5.31446021480662",
         "6.686686133004718",
         "3.24",
         "33754.737804984616",
         "1246830.1884286287",
         "1359 Mitchell Vista\nCourtneyfort, NY 93065-7224"
        ],
        [
         "31",
         "68652.60921090658",
         "6.124342100310332",
         "6.290820166996657",
         "4.42",
         "39355.625729470295",
         "1170720.893654292",
         "4343 Joshua Lake Suite 096\nPierceview, NV 62614-9110"
        ],
        [
         "32",
         "55041.35158333917",
         "7.127128552732308",
         "8.591923294114",
         "5.36",
         "30122.473483557947",
         "1071279.210244544",
         "0057 Jacob Coves Apt. 932\nLake Emily, VA 39465-6041"
        ],
        [
         "33",
         "50218.70846300072",
         "6.118808130610341",
         "7.333554072097737",
         "6.29",
         "16810.783311257936",
         "534305.1323349292",
         "039 Jordan Pike\nEmilyville, ID 27442"
        ],
        [
         "34",
         "55909.322295153535",
         "5.419562910682705",
         "9.28985437225882",
         "6.0",
         "22355.23540666912",
         "936368.9634048606",
         "66338 Novak Curve Suite 628\nTaylorborough, OK 87142-6766"
        ],
        [
         "35",
         "74372.81020915511",
         "5.500128572841659",
         "6.593045603910363",
         "2.07",
         "39395.15118232914",
         "1199193.8313295112",
         "7167 Angela Park Suite 013\nMorrishaven, NH 66937-4811"
        ],
        [
         "36",
         "78667.90459764737",
         "5.470652206754396",
         "7.780836692853298",
         "4.1",
         "27637.656548218994",
         "1233220.009477811",
         "34964 Sara Fields Apt. 584\nPort Raymondville, MO 63585"
        ],
        [
         "37",
         "78699.51510291034",
         "5.6527836365363004",
         "6.756453856250772",
         "3.01",
         "22836.60756949132",
         "1081150.1254838074",
         "7585 Lynn Loop\nEast Judy, WV 73336"
        ],
        [
         "38",
         "53128.18544891443",
         "5.180664124823801",
         "5.4269028586106165",
         "2.39",
         "32947.711955068946",
         "524712.7660674525",
         "Unit 1388 Box 9350\nDPO AP 70848"
        ],
        [
         "39",
         "17796.631189543397",
         "4.9495570055571125",
         "6.713905444702088",
         "2.5",
         "47162.18364319144",
         "302355.83597895555",
         "9932 Eric Circles\nLake Martha, WY 34611-6127"
        ],
        [
         "40",
         "58566.84936342057",
         "6.5796914528777375",
         "5.034525351903061",
         "2.17",
         "39705.4649593564",
         "1026817.399788458",
         "7896 Walker Spring\nLoriport, MH 72956"
        ],
        [
         "41",
         "75537.79451000034",
         "7.8452159144441715",
         "7.555660720822218",
         "6.3",
         "32778.1953418883",
         "1762214.6795818857",
         "549 Darren Plaza\nLake Kevin, UT 27155"
        ],
        [
         "42",
         "46147.053056343386",
         "6.623332829320711",
         "7.606831549667412",
         "4.43",
         "27161.12860794621",
         "882057.1705928424",
         "90634 Michelle Valleys\nNorth Victoria, WV 99370"
        ],
        [
         "43",
         "70421.4764876077",
         "6.9070829699853125",
         "7.634318731446652",
         "4.44",
         "43183.92848788104",
         "1744932.210990927",
         "580 Lara Neck Apt. 541\nDavidsonstad, ID 34638-9802"
        ],
        [
         "44",
         "62614.420619127326",
         "5.499309697116084",
         "7.440505217892156",
         "6.32",
         "26888.57956293911",
         "1153871.4695016337",
         "43087 Jerome Field\nWest Deborah, SD 49213"
        ],
        [
         "45",
         "66394.87158584829",
         "7.069512153837191",
         "7.204639709248285",
         "3.18",
         "39741.07750943353",
         "1499988.8795226102",
         "71956 Jenkins Fall\nBrooketown, PW 67485-0764"
        ],
        [
         "46",
         "73946.85107397818",
         "4.863154306054972",
         "7.537182365353192",
         "6.35",
         "35261.12701836895",
         "1109588.380162506",
         "8034 Pierce Prairie Suite 727\nDevonfurt, NE 33104-8027"
        ],
        [
         "47",
         "69144.74570743984",
         "7.296224496862651",
         "5.928223472951472",
         "3.22",
         "19030.6154867746",
         "980177.3051371255",
         "Unit 8108 Box 5159\nDPO AP 04678"
        ],
        [
         "48",
         "77278.69702818657",
         "6.238891014754013",
         "6.919204136372873",
         "2.13",
         "21725.95428963467",
         "1323952.027425176",
         "08639 Garcia Port\nAnthonybury, CT 17971"
        ],
        [
         "49",
         "86754.1966286121",
         "6.604439818568124",
         "6.252454805349369",
         "4.02",
         "43017.44075715364",
         "1662494.7355443896",
         "91863 Curtis Point\nNew Richard, AK 99996-7554"
        ]
       ],
       "shape": {
        "columns": 7,
        "rows": 5000
       }
      },
      "text/html": [
       "<div>\n",
       "<style scoped>\n",
       "    .dataframe tbody tr th:only-of-type {\n",
       "        vertical-align: middle;\n",
       "    }\n",
       "\n",
       "    .dataframe tbody tr th {\n",
       "        vertical-align: top;\n",
       "    }\n",
       "\n",
       "    .dataframe thead th {\n",
       "        text-align: right;\n",
       "    }\n",
       "</style>\n",
       "<table border=\"1\" class=\"dataframe\">\n",
       "  <thead>\n",
       "    <tr style=\"text-align: right;\">\n",
       "      <th></th>\n",
       "      <th>Avg. Area Income</th>\n",
       "      <th>Avg. Area House Age</th>\n",
       "      <th>Avg. Area Number of Rooms</th>\n",
       "      <th>Avg. Area Number of Bedrooms</th>\n",
       "      <th>Area Population</th>\n",
       "      <th>Price</th>\n",
       "      <th>Address</th>\n",
       "    </tr>\n",
       "  </thead>\n",
       "  <tbody>\n",
       "    <tr>\n",
       "      <th>0</th>\n",
       "      <td>79545.458574</td>\n",
       "      <td>5.682861</td>\n",
       "      <td>7.009188</td>\n",
       "      <td>4.09</td>\n",
       "      <td>23086.800503</td>\n",
       "      <td>1.059034e+06</td>\n",
       "      <td>208 Michael Ferry Apt. 674\\nLaurabury, NE 3701...</td>\n",
       "    </tr>\n",
       "    <tr>\n",
       "      <th>1</th>\n",
       "      <td>79248.642455</td>\n",
       "      <td>6.002900</td>\n",
       "      <td>6.730821</td>\n",
       "      <td>3.09</td>\n",
       "      <td>40173.072174</td>\n",
       "      <td>1.505891e+06</td>\n",
       "      <td>188 Johnson Views Suite 079\\nLake Kathleen, CA...</td>\n",
       "    </tr>\n",
       "    <tr>\n",
       "      <th>2</th>\n",
       "      <td>61287.067179</td>\n",
       "      <td>5.865890</td>\n",
       "      <td>8.512727</td>\n",
       "      <td>5.13</td>\n",
       "      <td>36882.159400</td>\n",
       "      <td>1.058988e+06</td>\n",
       "      <td>9127 Elizabeth Stravenue\\nDanieltown, WI 06482...</td>\n",
       "    </tr>\n",
       "    <tr>\n",
       "      <th>3</th>\n",
       "      <td>63345.240046</td>\n",
       "      <td>7.188236</td>\n",
       "      <td>5.586729</td>\n",
       "      <td>3.26</td>\n",
       "      <td>34310.242831</td>\n",
       "      <td>1.260617e+06</td>\n",
       "      <td>USS Barnett\\nFPO AP 44820</td>\n",
       "    </tr>\n",
       "    <tr>\n",
       "      <th>4</th>\n",
       "      <td>59982.197226</td>\n",
       "      <td>5.040555</td>\n",
       "      <td>7.839388</td>\n",
       "      <td>4.23</td>\n",
       "      <td>26354.109472</td>\n",
       "      <td>6.309435e+05</td>\n",
       "      <td>USNS Raymond\\nFPO AE 09386</td>\n",
       "    </tr>\n",
       "    <tr>\n",
       "      <th>...</th>\n",
       "      <td>...</td>\n",
       "      <td>...</td>\n",
       "      <td>...</td>\n",
       "      <td>...</td>\n",
       "      <td>...</td>\n",
       "      <td>...</td>\n",
       "      <td>...</td>\n",
       "    </tr>\n",
       "    <tr>\n",
       "      <th>4995</th>\n",
       "      <td>60567.944140</td>\n",
       "      <td>7.830362</td>\n",
       "      <td>6.137356</td>\n",
       "      <td>3.46</td>\n",
       "      <td>22837.361035</td>\n",
       "      <td>1.060194e+06</td>\n",
       "      <td>USNS Williams\\nFPO AP 30153-7653</td>\n",
       "    </tr>\n",
       "    <tr>\n",
       "      <th>4996</th>\n",
       "      <td>78491.275435</td>\n",
       "      <td>6.999135</td>\n",
       "      <td>6.576763</td>\n",
       "      <td>4.02</td>\n",
       "      <td>25616.115489</td>\n",
       "      <td>1.482618e+06</td>\n",
       "      <td>PSC 9258, Box 8489\\nAPO AA 42991-3352</td>\n",
       "    </tr>\n",
       "    <tr>\n",
       "      <th>4997</th>\n",
       "      <td>63390.686886</td>\n",
       "      <td>7.250591</td>\n",
       "      <td>4.805081</td>\n",
       "      <td>2.13</td>\n",
       "      <td>33266.145490</td>\n",
       "      <td>1.030730e+06</td>\n",
       "      <td>4215 Tracy Garden Suite 076\\nJoshualand, VA 01...</td>\n",
       "    </tr>\n",
       "    <tr>\n",
       "      <th>4998</th>\n",
       "      <td>68001.331235</td>\n",
       "      <td>5.534388</td>\n",
       "      <td>7.130144</td>\n",
       "      <td>5.44</td>\n",
       "      <td>42625.620156</td>\n",
       "      <td>1.198657e+06</td>\n",
       "      <td>USS Wallace\\nFPO AE 73316</td>\n",
       "    </tr>\n",
       "    <tr>\n",
       "      <th>4999</th>\n",
       "      <td>65510.581804</td>\n",
       "      <td>5.992305</td>\n",
       "      <td>6.792336</td>\n",
       "      <td>4.07</td>\n",
       "      <td>46501.283803</td>\n",
       "      <td>1.298950e+06</td>\n",
       "      <td>37778 George Ridges Apt. 509\\nEast Holly, NV 2...</td>\n",
       "    </tr>\n",
       "  </tbody>\n",
       "</table>\n",
       "<p>5000 rows × 7 columns</p>\n",
       "</div>"
      ],
      "text/plain": [
       "      Avg. Area Income  Avg. Area House Age  Avg. Area Number of Rooms  \\\n",
       "0         79545.458574             5.682861                   7.009188   \n",
       "1         79248.642455             6.002900                   6.730821   \n",
       "2         61287.067179             5.865890                   8.512727   \n",
       "3         63345.240046             7.188236                   5.586729   \n",
       "4         59982.197226             5.040555                   7.839388   \n",
       "...                ...                  ...                        ...   \n",
       "4995      60567.944140             7.830362                   6.137356   \n",
       "4996      78491.275435             6.999135                   6.576763   \n",
       "4997      63390.686886             7.250591                   4.805081   \n",
       "4998      68001.331235             5.534388                   7.130144   \n",
       "4999      65510.581804             5.992305                   6.792336   \n",
       "\n",
       "      Avg. Area Number of Bedrooms  Area Population         Price  \\\n",
       "0                             4.09     23086.800503  1.059034e+06   \n",
       "1                             3.09     40173.072174  1.505891e+06   \n",
       "2                             5.13     36882.159400  1.058988e+06   \n",
       "3                             3.26     34310.242831  1.260617e+06   \n",
       "4                             4.23     26354.109472  6.309435e+05   \n",
       "...                            ...              ...           ...   \n",
       "4995                          3.46     22837.361035  1.060194e+06   \n",
       "4996                          4.02     25616.115489  1.482618e+06   \n",
       "4997                          2.13     33266.145490  1.030730e+06   \n",
       "4998                          5.44     42625.620156  1.198657e+06   \n",
       "4999                          4.07     46501.283803  1.298950e+06   \n",
       "\n",
       "                                                Address  \n",
       "0     208 Michael Ferry Apt. 674\\nLaurabury, NE 3701...  \n",
       "1     188 Johnson Views Suite 079\\nLake Kathleen, CA...  \n",
       "2     9127 Elizabeth Stravenue\\nDanieltown, WI 06482...  \n",
       "3                             USS Barnett\\nFPO AP 44820  \n",
       "4                            USNS Raymond\\nFPO AE 09386  \n",
       "...                                                 ...  \n",
       "4995                   USNS Williams\\nFPO AP 30153-7653  \n",
       "4996              PSC 9258, Box 8489\\nAPO AA 42991-3352  \n",
       "4997  4215 Tracy Garden Suite 076\\nJoshualand, VA 01...  \n",
       "4998                          USS Wallace\\nFPO AE 73316  \n",
       "4999  37778 George Ridges Apt. 509\\nEast Holly, NV 2...  \n",
       "\n",
       "[5000 rows x 7 columns]"
      ]
     },
     "execution_count": 2,
     "metadata": {},
     "output_type": "execute_result"
    }
   ],
   "source": [
    "df = pd.read_csv('usa_housing.csv')\n",
    "df"
   ]
  },
  {
   "cell_type": "code",
   "execution_count": 3,
   "id": "2ce5c010",
   "metadata": {},
   "outputs": [
    {
     "data": {
      "text/plain": [
       "Avg. Area Income                0\n",
       "Avg. Area House Age             0\n",
       "Avg. Area Number of Rooms       0\n",
       "Avg. Area Number of Bedrooms    0\n",
       "Area Population                 0\n",
       "Price                           0\n",
       "Address                         0\n",
       "dtype: int64"
      ]
     },
     "execution_count": 3,
     "metadata": {},
     "output_type": "execute_result"
    }
   ],
   "source": [
    "df.isna().sum()"
   ]
  },
  {
   "cell_type": "code",
   "execution_count": 4,
   "id": "5f7f175f",
   "metadata": {},
   "outputs": [
    {
     "name": "stdout",
     "output_type": "stream",
     "text": [
      "<class 'pandas.core.frame.DataFrame'>\n",
      "RangeIndex: 5000 entries, 0 to 4999\n",
      "Data columns (total 7 columns):\n",
      " #   Column                        Non-Null Count  Dtype  \n",
      "---  ------                        --------------  -----  \n",
      " 0   Avg. Area Income              5000 non-null   float64\n",
      " 1   Avg. Area House Age           5000 non-null   float64\n",
      " 2   Avg. Area Number of Rooms     5000 non-null   float64\n",
      " 3   Avg. Area Number of Bedrooms  5000 non-null   float64\n",
      " 4   Area Population               5000 non-null   float64\n",
      " 5   Price                         5000 non-null   float64\n",
      " 6   Address                       5000 non-null   object \n",
      "dtypes: float64(6), object(1)\n",
      "memory usage: 273.6+ KB\n"
     ]
    }
   ],
   "source": [
    "df.info()"
   ]
  },
  {
   "cell_type": "code",
   "execution_count": 5,
   "id": "a2e45f64",
   "metadata": {},
   "outputs": [
    {
     "data": {
      "image/png": "[encoded data removed]",
      "text/plain": [
       "<Figure size 1500x1000 with 6 Axes>"
      ]
     },
     "metadata": {},
     "output_type": "display_data"
    }
   ],
   "source": [
    "numerical_columns = df.select_dtypes(include=['float64', 'int64']).columns\n",
    "\n",
    "plt.figure(figsize=(15, 10))\n",
    "for i, column in enumerate(numerical_columns, 1):\n",
    "    plt.subplot(len(numerical_columns), 1, i)\n",
    "    sns.boxplot(x=df[column])\n",
    "    plt.title(f'Boxplot of {column}')\n",
    "    plt.tight_layout()\n",
    "\n",
    "plt.show()"
   ]
  },
  {
   "cell_type": "code",
   "execution_count": 6,
   "id": "89784e57",
   "metadata": {},
   "outputs": [
    {
     "name": "stdout",
     "output_type": "stream",
     "text": [
      "<class 'pandas.core.frame.DataFrame'>\n",
      "Index: 4631 entries, 0 to 4999\n",
      "Data columns (total 7 columns):\n",
      " #   Column                        Non-Null Count  Dtype  \n",
      "---  ------                        --------------  -----  \n",
      " 0   Avg. Area Income              4631 non-null   float64\n",
      " 1   Avg. Area House Age           4631 non-null   float64\n",
      " 2   Avg. Area Number of Rooms     4631 non-null   float64\n",
      " 3   Avg. Area Number of Bedrooms  4631 non-null   float64\n",
      " 4   Area Population               4631 non-null   float64\n",
      " 5   Price                         4631 non-null   float64\n",
      " 6   Address                       4631 non-null   object \n",
      "dtypes: float64(6), object(1)\n",
      "memory usage: 289.4+ KB\n"
     ]
    }
   ],
   "source": [
    "Q1 = df[numerical_columns].quantile(0.25)  \n",
    "Q3 = df[numerical_columns].quantile(0.75)  \n",
    "IQR = Q3 - Q1  \n",
    "\n",
    "lower_bound = Q1 - 1.4 * IQR\n",
    "upper_bound = Q3 + 1.4 * IQR\n",
    "\n",
    "df = df[~((df[numerical_columns] < lower_bound) | (df[numerical_columns] > upper_bound)).any(axis=1)]\n",
    "\n",
    "df.info()"
   ]
  },
  {
   "cell_type": "code",
   "execution_count": 7,
   "id": "8869a7d0",
   "metadata": {},
   "outputs": [
    {
     "data": {
      "image/png": "[encoded data removed]",
      "text/plain": [
       "<Figure size 1500x1000 with 6 Axes>"
      ]
     },
     "metadata": {},
     "output_type": "display_data"
    }
   ],
   "source": [
    "numerical_columns = df.select_dtypes(include=['float64', 'int64']).columns\n",
    "\n",
    "plt.figure(figsize=(15, 10))\n",
    "for i, column in enumerate(numerical_columns, 1):\n",
    "    plt.subplot(len(numerical_columns), 1, i)\n",
    "    sns.boxplot(x=df[column])\n",
    "    plt.title(f'Boxplot of {column}')\n",
    "    plt.tight_layout()\n",
    "\n",
    "plt.show()"
   ]
  },
  {
   "cell_type": "code",
   "execution_count": 8,
   "id": "63e4e44d",
   "metadata": {},
   "outputs": [
    {
     "data": {
      "text/plain": [
       "'208 Michael Ferry Apt. 674\\nLaurabury, NE 37010-5101'"
      ]
     },
     "execution_count": 8,
     "metadata": {},
     "output_type": "execute_result"
    }
   ],
   "source": [
    "df['Address'][0]"
   ]
  },
  {
   "cell_type": "code",
   "execution_count": 9,
   "id": "8cd4fac6",
   "metadata": {},
   "outputs": [
    {
     "name": "stderr",
     "output_type": "stream",
     "text": [
      "C:\\Users\\ramiz\\AppData\\Local\\Temp\\ipykernel_5152\\2739443653.py:1: SettingWithCopyWarning: \n",
      "A value is trying to be set on a copy of a slice from a DataFrame.\n",
      "Try using .loc[row_indexer,col_indexer] = value instead\n",
      "\n",
      "See the caveats in the documentation: https://pandas.pydata.org/pandas-docs/stable/user_guide/indexing.html#returning-a-view-versus-a-copy\n",
      "  df['State'] = df['Address'].str.extract(r'([A-Z]{2})')\n"
     ]
    },
    {
     "data": {
      "application/vnd.microsoft.datawrangler.viewer.v0+json": {
       "columns": [
        {
         "name": "index",
         "rawType": "int64",
         "type": "integer"
        },
        {
         "name": "Address",
         "rawType": "object",
         "type": "string"
        },
        {
         "name": "State",
         "rawType": "object",
         "type": "string"
        }
       ],
       "conversionMethod": "pd.DataFrame",
       "ref": "8fc5f499-d968-45e9-b602-55b79da5e971",
       "rows": [
        [
         "0",
         "208 Michael Ferry Apt. 674\nLaurabury, NE 37010-5101",
         "NE"
        ],
        [
         "1",
         "188 Johnson Views Suite 079\nLake Kathleen, CA 48958",
         "CA"
        ],
        [
         "2",
         "9127 Elizabeth Stravenue\nDanieltown, WI 06482-3489",
         "WI"
        ],
        [
         "3",
         "USS Barnett\nFPO AP 44820",
         "US"
        ],
        [
         "4",
         "USNS Raymond\nFPO AE 09386",
         "US"
        ],
        [
         "5",
         "06039 Jennifer Islands Apt. 443\nTracyport, KS 16077",
         "KS"
        ],
        [
         "6",
         "4759 Daniel Shoals Suite 442\nNguyenburgh, CO 20247",
         "CO"
        ],
        [
         "7",
         "972 Joyce Viaduct\nLake William, TN 17778-6483",
         "TN"
        ],
        [
         "8",
         "USS Gilbert\nFPO AA 20957",
         "US"
        ],
        [
         "9",
         "Unit 9446 Box 0958\nDPO AE 97025",
         "DP"
        ],
        [
         "10",
         "6368 John Motorway Suite 700\nJanetbury, NM 26854",
         "NM"
        ],
        [
         "11",
         "911 Castillo Park Apt. 717\nDavisborough, PW 78603",
         "PW"
        ],
        [
         "13",
         "829 Welch Track Apt. 992\nNorth John, AR 26532-5136",
         "AR"
        ],
        [
         "14",
         "PSC 5330, Box 4420\nAPO AP 08302",
         "PS"
        ],
        [
         "15",
         "2278 Shannon View\nNorth Carriemouth, NM 84617",
         "NM"
        ],
        [
         "16",
         "064 Hayley Unions\nNicholsborough, HI 44161-1887",
         "HI"
        ],
        [
         "17",
         "5498 Rachel Locks\nNew Gregoryshire, PW 54755",
         "PW"
        ],
        [
         "18",
         "Unit 7424 Box 2786\nDPO AE 71255",
         "DP"
        ],
        [
         "19",
         "19696 Benjamin Cape\nStephentown, ME 36952-4733",
         "ME"
        ],
        [
         "21",
         "USNS Brown\nFPO AP 85833",
         "US"
        ],
        [
         "22",
         "95198 Ortiz Key\nPort Sara, TN 24541-2855",
         "TN"
        ],
        [
         "23",
         "9003 Jay Plains Suite 838\nLake Elizabeth, IN 90622-0804",
         "IN"
        ],
        [
         "24",
         "24282 Paul Valley\nWest Perry, MI 03169-5806",
         "MI"
        ],
        [
         "25",
         "61938 Brady Falls\nLewisfort, DE 61227",
         "DE"
        ],
        [
         "26",
         "3599 Ramirez Springs\nJacksonhaven, AZ 72798",
         "AZ"
        ],
        [
         "27",
         "073 Christopher Falls Suite 882\nWest Cynthia, MA 89075-2814",
         "MA"
        ],
        [
         "29",
         "17124 Johnson Squares\nLake Robertfurt, AL 61811-3832",
         "AL"
        ],
        [
         "30",
         "1359 Mitchell Vista\nCourtneyfort, NY 93065-7224",
         "NY"
        ],
        [
         "31",
         "4343 Joshua Lake Suite 096\nPierceview, NV 62614-9110",
         "NV"
        ],
        [
         "32",
         "0057 Jacob Coves Apt. 932\nLake Emily, VA 39465-6041",
         "VA"
        ],
        [
         "33",
         "039 Jordan Pike\nEmilyville, ID 27442",
         "ID"
        ],
        [
         "34",
         "66338 Novak Curve Suite 628\nTaylorborough, OK 87142-6766",
         "OK"
        ],
        [
         "35",
         "7167 Angela Park Suite 013\nMorrishaven, NH 66937-4811",
         "NH"
        ],
        [
         "36",
         "34964 Sara Fields Apt. 584\nPort Raymondville, MO 63585",
         "MO"
        ],
        [
         "37",
         "7585 Lynn Loop\nEast Judy, WV 73336",
         "WV"
        ],
        [
         "38",
         "Unit 1388 Box 9350\nDPO AP 70848",
         "DP"
        ],
        [
         "40",
         "7896 Walker Spring\nLoriport, MH 72956",
         "MH"
        ],
        [
         "41",
         "549 Darren Plaza\nLake Kevin, UT 27155",
         "UT"
        ],
        [
         "42",
         "90634 Michelle Valleys\nNorth Victoria, WV 99370",
         "WV"
        ],
        [
         "43",
         "580 Lara Neck Apt. 541\nDavidsonstad, ID 34638-9802",
         "ID"
        ],
        [
         "44",
         "43087 Jerome Field\nWest Deborah, SD 49213",
         "SD"
        ],
        [
         "45",
         "71956 Jenkins Fall\nBrooketown, PW 67485-0764",
         "PW"
        ],
        [
         "46",
         "8034 Pierce Prairie Suite 727\nDevonfurt, NE 33104-8027",
         "NE"
        ],
        [
         "47",
         "Unit 8108 Box 5159\nDPO AP 04678",
         "DP"
        ],
        [
         "48",
         "08639 Garcia Port\nAnthonybury, CT 17971",
         "CT"
        ],
        [
         "49",
         "91863 Curtis Point\nNew Richard, AK 99996-7554",
         "AK"
        ],
        [
         "50",
         "03819 Lee Junction Suite 046\nMooneyborough, WA 19656",
         "WA"
        ],
        [
         "51",
         "7796 Joseph Burg\nDanielsside, RI 70370",
         "RI"
        ],
        [
         "52",
         "173 Mendoza Land\nWest John, NJ 57690",
         "NJ"
        ],
        [
         "53",
         "3288 Lee Pass\nSouth Julieton, PW 02759-4964",
         "PW"
        ]
       ],
       "shape": {
        "columns": 2,
        "rows": 4631
       }
      },
      "text/html": [
       "<div>\n",
       "<style scoped>\n",
       "    .dataframe tbody tr th:only-of-type {\n",
       "        vertical-align: middle;\n",
       "    }\n",
       "\n",
       "    .dataframe tbody tr th {\n",
       "        vertical-align: top;\n",
       "    }\n",
       "\n",
       "    .dataframe thead th {\n",
       "        text-align: right;\n",
       "    }\n",
       "</style>\n",
       "<table border=\"1\" class=\"dataframe\">\n",
       "  <thead>\n",
       "    <tr style=\"text-align: right;\">\n",
       "      <th></th>\n",
       "      <th>Address</th>\n",
       "      <th>State</th>\n",
       "    </tr>\n",
       "  </thead>\n",
       "  <tbody>\n",
       "    <tr>\n",
       "      <th>0</th>\n",
       "      <td>208 Michael Ferry Apt. 674\\nLaurabury, NE 3701...</td>\n",
       "      <td>NE</td>\n",
       "    </tr>\n",
       "    <tr>\n",
       "      <th>1</th>\n",
       "      <td>188 Johnson Views Suite 079\\nLake Kathleen, CA...</td>\n",
       "      <td>CA</td>\n",
       "    </tr>\n",
       "    <tr>\n",
       "      <th>2</th>\n",
       "      <td>9127 Elizabeth Stravenue\\nDanieltown, WI 06482...</td>\n",
       "      <td>WI</td>\n",
       "    </tr>\n",
       "    <tr>\n",
       "      <th>3</th>\n",
       "      <td>USS Barnett\\nFPO AP 44820</td>\n",
       "      <td>US</td>\n",
       "    </tr>\n",
       "    <tr>\n",
       "      <th>4</th>\n",
       "      <td>USNS Raymond\\nFPO AE 09386</td>\n",
       "      <td>US</td>\n",
       "    </tr>\n",
       "    <tr>\n",
       "      <th>...</th>\n",
       "      <td>...</td>\n",
       "      <td>...</td>\n",
       "    </tr>\n",
       "    <tr>\n",
       "      <th>4995</th>\n",
       "      <td>USNS Williams\\nFPO AP 30153-7653</td>\n",
       "      <td>US</td>\n",
       "    </tr>\n",
       "    <tr>\n",
       "      <th>4996</th>\n",
       "      <td>PSC 9258, Box 8489\\nAPO AA 42991-3352</td>\n",
       "      <td>PS</td>\n",
       "    </tr>\n",
       "    <tr>\n",
       "      <th>4997</th>\n",
       "      <td>4215 Tracy Garden Suite 076\\nJoshualand, VA 01...</td>\n",
       "      <td>VA</td>\n",
       "    </tr>\n",
       "    <tr>\n",
       "      <th>4998</th>\n",
       "      <td>USS Wallace\\nFPO AE 73316</td>\n",
       "      <td>US</td>\n",
       "    </tr>\n",
       "    <tr>\n",
       "      <th>4999</th>\n",
       "      <td>37778 George Ridges Apt. 509\\nEast Holly, NV 2...</td>\n",
       "      <td>NV</td>\n",
       "    </tr>\n",
       "  </tbody>\n",
       "</table>\n",
       "<p>4631 rows × 2 columns</p>\n",
       "</div>"
      ],
      "text/plain": [
       "                                                Address State\n",
       "0     208 Michael Ferry Apt. 674\\nLaurabury, NE 3701...    NE\n",
       "1     188 Johnson Views Suite 079\\nLake Kathleen, CA...    CA\n",
       "2     9127 Elizabeth Stravenue\\nDanieltown, WI 06482...    WI\n",
       "3                             USS Barnett\\nFPO AP 44820    US\n",
       "4                            USNS Raymond\\nFPO AE 09386    US\n",
       "...                                                 ...   ...\n",
       "4995                   USNS Williams\\nFPO AP 30153-7653    US\n",
       "4996              PSC 9258, Box 8489\\nAPO AA 42991-3352    PS\n",
       "4997  4215 Tracy Garden Suite 076\\nJoshualand, VA 01...    VA\n",
       "4998                          USS Wallace\\nFPO AE 73316    US\n",
       "4999  37778 George Ridges Apt. 509\\nEast Holly, NV 2...    NV\n",
       "\n",
       "[4631 rows x 2 columns]"
      ]
     },
     "execution_count": 9,
     "metadata": {},
     "output_type": "execute_result"
    }
   ],
   "source": [
    "df['State'] = df['Address'].str.extract(r'([A-Z]{2})')\n",
    "\n",
    "df[['Address', 'State']]"
   ]
  },
  {
   "cell_type": "code",
   "execution_count": 10,
   "id": "92447d4a",
   "metadata": {},
   "outputs": [
    {
     "name": "stderr",
     "output_type": "stream",
     "text": [
      "C:\\Users\\ramiz\\AppData\\Local\\Temp\\ipykernel_5152\\4169721474.py:1: SettingWithCopyWarning: \n",
      "A value is trying to be set on a copy of a slice from a DataFrame\n",
      "\n",
      "See the caveats in the documentation: https://pandas.pydata.org/pandas-docs/stable/user_guide/indexing.html#returning-a-view-versus-a-copy\n",
      "  df.drop('Address', axis=1, inplace=True)\n"
     ]
    },
    {
     "data": {
      "application/vnd.microsoft.datawrangler.viewer.v0+json": {
       "columns": [
        {
         "name": "index",
         "rawType": "int64",
         "type": "integer"
        },
        {
         "name": "Avg. Area Income",
         "rawType": "float64",
         "type": "float"
        },
        {
         "name": "Avg. Area House Age",
         "rawType": "float64",
         "type": "float"
        },
        {
         "name": "Avg. Area Number of Rooms",
         "rawType": "float64",
         "type": "float"
        },
        {
         "name": "Avg. Area Number of Bedrooms",
         "rawType": "float64",
         "type": "float"
        },
        {
         "name": "Area Population",
         "rawType": "float64",
         "type": "float"
        },
        {
         "name": "Price",
         "rawType": "float64",
         "type": "float"
        },
        {
         "name": "State",
         "rawType": "object",
         "type": "string"
        }
       ],
       "conversionMethod": "pd.DataFrame",
       "ref": "53362d07-b122-4280-a3ff-9b5fd117ee29",
       "rows": [
        [
         "0",
         "79545.45857431678",
         "5.682861321615587",
         "7.009188142792237",
         "4.09",
         "23086.800502686456",
         "1059033.5578701235",
         "NE"
        ],
        [
         "1",
         "79248.64245482568",
         "6.0028998082752425",
         "6.730821019094919",
         "3.09",
         "40173.07217364482",
         "1505890.91484695",
         "CA"
        ],
        [
         "2",
         "61287.067178656784",
         "5.865889840310001",
         "8.512727430375099",
         "5.13",
         "36882.15939970458",
         "1058987.9878760849",
         "WI"
        ],
        [
         "3",
         "63345.24004622798",
         "7.1882360945186425",
         "5.586728664827653",
         "3.26",
         "34310.24283090706",
         "1260616.8066294468",
         "US"
        ],
        [
         "4",
         "59982.197225708034",
         "5.040554523106283",
         "7.839387785120487",
         "4.23",
         "26354.109472103148",
         "630943.4893385402",
         "US"
        ],
        [
         "5",
         "80175.7541594853",
         "4.9884077575337145",
         "6.104512439428879",
         "4.04",
         "26748.428424689715",
         "1068138.0743935304",
         "KS"
        ],
        [
         "6",
         "64698.46342788773",
         "6.025335906887153",
         "8.147759585023431",
         "3.41",
         "60828.24908540716",
         "1502055.8173744078",
         "CO"
        ],
        [
         "7",
         "78394.33927753085",
         "6.9897797477182815",
         "6.620477995185026",
         "2.42",
         "36516.35897249384",
         "1573936.5644777217",
         "TN"
        ],
        [
         "8",
         "59927.66081334963",
         "5.36212556960358",
         "6.3931209805509015",
         "2.3",
         "29387.39600281585",
         "798869.5328331633",
         "US"
        ],
        [
         "9",
         "81885.92718409566",
         "4.423671789897876",
         "8.167688003472351",
         "6.1",
         "40149.96574921337",
         "1545154.8126419624",
         "DP"
        ],
        [
         "10",
         "80527.47208292288",
         "8.09351268063935",
         "5.042746799645982",
         "4.1",
         "47224.35984022191",
         "1707045.722158058",
         "NM"
        ],
        [
         "11",
         "50593.69549704281",
         "4.496512793097035",
         "7.467627404008019",
         "4.49",
         "34343.991885578806",
         "663732.3968963273",
         "PW"
        ],
        [
         "13",
         "73163.6634410467",
         "6.919534825456555",
         "5.9931879009455695",
         "2.27",
         "32326.123139488096",
         "1291331.5184858206",
         "AR"
        ],
        [
         "14",
         "69391.3801843616",
         "5.344776176735725",
         "8.406417714534253",
         "4.37",
         "35521.294033173246",
         "1402818.2101658515",
         "PS"
        ],
        [
         "15",
         "73091.86674582321",
         "5.443156466535474",
         "8.517512711137975",
         "4.01",
         "23929.524053267956",
         "1306674.6599511993",
         "NM"
        ],
        [
         "16",
         "79706.96305765743",
         "5.067889591058972",
         "8.219771123286257",
         "3.12",
         "39717.81357630952",
         "1556786.6001947748",
         "HI"
        ],
        [
         "17",
         "61929.07701808926",
         "4.788550241805888",
         "5.0970095543775615",
         "4.3",
         "24595.90149782299",
         "528485.2467305964",
         "PW"
        ],
        [
         "18",
         "63508.19429942997",
         "5.947165139552473",
         "7.187773835329727",
         "5.12",
         "35719.653052030866",
         "1019425.9367578316",
         "DP"
        ],
        [
         "19",
         "62085.27640340488",
         "5.739410843630574",
         "7.09180810424997",
         "5.49",
         "44922.106702293066",
         "1030591.4292116084",
         "ME"
        ],
        [
         "21",
         "60835.08997885398",
         "5.551221591990328",
         "6.517175038094777",
         "2.1",
         "45574.74166225795",
         "929247.5995364",
         "US"
        ],
        [
         "22",
         "64490.65026675507",
         "4.210322870054841",
         "5.478087730769143",
         "4.31",
         "40358.96010561757",
         "718887.2315009277",
         "TN"
        ],
        [
         "23",
         "60697.35153944832",
         "6.1704840908385",
         "7.150536572335959",
         "6.34",
         "28140.96708772475",
         "743999.8191601974",
         "IN"
        ],
        [
         "24",
         "59748.85548697423",
         "5.3393398807459",
         "7.7486816056065955",
         "4.23",
         "27809.986543758896",
         "895737.1333835076",
         "MI"
        ],
        [
         "25",
         "56974.47653879643",
         "8.287562193759008",
         "7.312879971463007",
         "4.33",
         "40694.86951302233",
         "1453974.505950872",
         "DE"
        ],
        [
         "26",
         "82173.62607584603",
         "4.018524684942813",
         "6.992698756791841",
         "2.03",
         "38853.91806648168",
         "1125692.507295288",
         "AZ"
        ],
        [
         "27",
         "64626.88097813548",
         "5.443359590192101",
         "6.98875353866204",
         "4.0",
         "27784.74228018588",
         "975429.4927929222",
         "MA"
        ],
        [
         "29",
         "59323.79209970036",
         "6.9778279401788375",
         "8.273697077776598",
         "4.07",
         "37520.65773244972",
         "1577017.7600015546",
         "AL"
        ],
        [
         "30",
         "77811.52203457447",
         "5.31446021480662",
         "6.686686133004718",
         "3.24",
         "33754.737804984616",
         "1246830.1884286287",
         "NY"
        ],
        [
         "31",
         "68652.60921090658",
         "6.124342100310332",
         "6.290820166996657",
         "4.42",
         "39355.625729470295",
         "1170720.893654292",
         "NV"
        ],
        [
         "32",
         "55041.35158333917",
         "7.127128552732308",
         "8.591923294114",
         "5.36",
         "30122.473483557947",
         "1071279.210244544",
         "VA"
        ],
        [
         "33",
         "50218.70846300072",
         "6.118808130610341",
         "7.333554072097737",
         "6.29",
         "16810.783311257936",
         "534305.1323349292",
         "ID"
        ],
        [
         "34",
         "55909.322295153535",
         "5.419562910682705",
         "9.28985437225882",
         "6.0",
         "22355.23540666912",
         "936368.9634048606",
         "OK"
        ],
        [
         "35",
         "74372.81020915511",
         "5.500128572841659",
         "6.593045603910363",
         "2.07",
         "39395.15118232914",
         "1199193.8313295112",
         "NH"
        ],
        [
         "36",
         "78667.90459764737",
         "5.470652206754396",
         "7.780836692853298",
         "4.1",
         "27637.656548218994",
         "1233220.009477811",
         "MO"
        ],
        [
         "37",
         "78699.51510291034",
         "5.6527836365363004",
         "6.756453856250772",
         "3.01",
         "22836.60756949132",
         "1081150.1254838074",
         "WV"
        ],
        [
         "38",
         "53128.18544891443",
         "5.180664124823801",
         "5.4269028586106165",
         "2.39",
         "32947.711955068946",
         "524712.7660674525",
         "DP"
        ],
        [
         "40",
         "58566.84936342057",
         "6.5796914528777375",
         "5.034525351903061",
         "2.17",
         "39705.4649593564",
         "1026817.399788458",
         "MH"
        ],
        [
         "41",
         "75537.79451000034",
         "7.8452159144441715",
         "7.555660720822218",
         "6.3",
         "32778.1953418883",
         "1762214.6795818857",
         "UT"
        ],
        [
         "42",
         "46147.053056343386",
         "6.623332829320711",
         "7.606831549667412",
         "4.43",
         "27161.12860794621",
         "882057.1705928424",
         "WV"
        ],
        [
         "43",
         "70421.4764876077",
         "6.9070829699853125",
         "7.634318731446652",
         "4.44",
         "43183.92848788104",
         "1744932.210990927",
         "ID"
        ],
        [
         "44",
         "62614.420619127326",
         "5.499309697116084",
         "7.440505217892156",
         "6.32",
         "26888.57956293911",
         "1153871.4695016337",
         "SD"
        ],
        [
         "45",
         "66394.87158584829",
         "7.069512153837191",
         "7.204639709248285",
         "3.18",
         "39741.07750943353",
         "1499988.8795226102",
         "PW"
        ],
        [
         "46",
         "73946.85107397818",
         "4.863154306054972",
         "7.537182365353192",
         "6.35",
         "35261.12701836895",
         "1109588.380162506",
         "NE"
        ],
        [
         "47",
         "69144.74570743984",
         "7.296224496862651",
         "5.928223472951472",
         "3.22",
         "19030.6154867746",
         "980177.3051371255",
         "DP"
        ],
        [
         "48",
         "77278.69702818657",
         "6.238891014754013",
         "6.919204136372873",
         "2.13",
         "21725.95428963467",
         "1323952.027425176",
         "CT"
        ],
        [
         "49",
         "86754.1966286121",
         "6.604439818568124",
         "6.252454805349369",
         "4.02",
         "43017.44075715364",
         "1662494.7355443896",
         "AK"
        ],
        [
         "50",
         "74399.84098191423",
         "6.382452912235433",
         "7.252665322385219",
         "6.36",
         "41084.6628246322",
         "1417819.740218086",
         "WA"
        ],
        [
         "51",
         "49408.19834014432",
         "5.825920475606762",
         "5.831738972572462",
         "3.32",
         "26881.130597967134",
         "549976.1455595789",
         "RI"
        ],
        [
         "52",
         "62279.79005157392",
         "6.108449991281682",
         "6.306116349848911",
         "4.12",
         "35263.65313745236",
         "1054770.980647526",
         "NJ"
        ],
        [
         "53",
         "73078.20408561832",
         "5.923906389599877",
         "6.445456690525836",
         "3.32",
         "54915.96178198404",
         "1415647.553437237",
         "PW"
        ]
       ],
       "shape": {
        "columns": 7,
        "rows": 4631
       }
      },
      "text/html": [
       "<div>\n",
       "<style scoped>\n",
       "    .dataframe tbody tr th:only-of-type {\n",
       "        vertical-align: middle;\n",
       "    }\n",
       "\n",
       "    .dataframe tbody tr th {\n",
       "        vertical-align: top;\n",
       "    }\n",
       "\n",
       "    .dataframe thead th {\n",
       "        text-align: right;\n",
       "    }\n",
       "</style>\n",
       "<table border=\"1\" class=\"dataframe\">\n",
       "  <thead>\n",
       "    <tr style=\"text-align: right;\">\n",
       "      <th></th>\n",
       "      <th>Avg. Area Income</th>\n",
       "      <th>Avg. Area House Age</th>\n",
       "      <th>Avg. Area Number of Rooms</th>\n",
       "      <th>Avg. Area Number of Bedrooms</th>\n",
       "      <th>Area Population</th>\n",
       "      <th>Price</th>\n",
       "      <th>State</th>\n",
       "    </tr>\n",
       "  </thead>\n",
       "  <tbody>\n",
       "    <tr>\n",
       "      <th>0</th>\n",
       "      <td>79545.458574</td>\n",
       "      <td>5.682861</td>\n",
       "      <td>7.009188</td>\n",
       "      <td>4.09</td>\n",
       "      <td>23086.800503</td>\n",
       "      <td>1.059034e+06</td>\n",
       "      <td>NE</td>\n",
       "    </tr>\n",
       "    <tr>\n",
       "      <th>1</th>\n",
       "      <td>79248.642455</td>\n",
       "      <td>6.002900</td>\n",
       "      <td>6.730821</td>\n",
       "      <td>3.09</td>\n",
       "      <td>40173.072174</td>\n",
       "      <td>1.505891e+06</td>\n",
       "      <td>CA</td>\n",
       "    </tr>\n",
       "    <tr>\n",
       "      <th>2</th>\n",
       "      <td>61287.067179</td>\n",
       "      <td>5.865890</td>\n",
       "      <td>8.512727</td>\n",
       "      <td>5.13</td>\n",
       "      <td>36882.159400</td>\n",
       "      <td>1.058988e+06</td>\n",
       "      <td>WI</td>\n",
       "    </tr>\n",
       "    <tr>\n",
       "      <th>3</th>\n",
       "      <td>63345.240046</td>\n",
       "      <td>7.188236</td>\n",
       "      <td>5.586729</td>\n",
       "      <td>3.26</td>\n",
       "      <td>34310.242831</td>\n",
       "      <td>1.260617e+06</td>\n",
       "      <td>US</td>\n",
       "    </tr>\n",
       "    <tr>\n",
       "      <th>4</th>\n",
       "      <td>59982.197226</td>\n",
       "      <td>5.040555</td>\n",
       "      <td>7.839388</td>\n",
       "      <td>4.23</td>\n",
       "      <td>26354.109472</td>\n",
       "      <td>6.309435e+05</td>\n",
       "      <td>US</td>\n",
       "    </tr>\n",
       "    <tr>\n",
       "      <th>...</th>\n",
       "      <td>...</td>\n",
       "      <td>...</td>\n",
       "      <td>...</td>\n",
       "      <td>...</td>\n",
       "      <td>...</td>\n",
       "      <td>...</td>\n",
       "      <td>...</td>\n",
       "    </tr>\n",
       "    <tr>\n",
       "      <th>4995</th>\n",
       "      <td>60567.944140</td>\n",
       "      <td>7.830362</td>\n",
       "      <td>6.137356</td>\n",
       "      <td>3.46</td>\n",
       "      <td>22837.361035</td>\n",
       "      <td>1.060194e+06</td>\n",
       "      <td>US</td>\n",
       "    </tr>\n",
       "    <tr>\n",
       "      <th>4996</th>\n",
       "      <td>78491.275435</td>\n",
       "      <td>6.999135</td>\n",
       "      <td>6.576763</td>\n",
       "      <td>4.02</td>\n",
       "      <td>25616.115489</td>\n",
       "      <td>1.482618e+06</td>\n",
       "      <td>PS</td>\n",
       "    </tr>\n",
       "    <tr>\n",
       "      <th>4997</th>\n",
       "      <td>63390.686886</td>\n",
       "      <td>7.250591</td>\n",
       "      <td>4.805081</td>\n",
       "      <td>2.13</td>\n",
       "      <td>33266.145490</td>\n",
       "      <td>1.030730e+06</td>\n",
       "      <td>VA</td>\n",
       "    </tr>\n",
       "    <tr>\n",
       "      <th>4998</th>\n",
       "      <td>68001.331235</td>\n",
       "      <td>5.534388</td>\n",
       "      <td>7.130144</td>\n",
       "      <td>5.44</td>\n",
       "      <td>42625.620156</td>\n",
       "      <td>1.198657e+06</td>\n",
       "      <td>US</td>\n",
       "    </tr>\n",
       "    <tr>\n",
       "      <th>4999</th>\n",
       "      <td>65510.581804</td>\n",
       "      <td>5.992305</td>\n",
       "      <td>6.792336</td>\n",
       "      <td>4.07</td>\n",
       "      <td>46501.283803</td>\n",
       "      <td>1.298950e+06</td>\n",
       "      <td>NV</td>\n",
       "    </tr>\n",
       "  </tbody>\n",
       "</table>\n",
       "<p>4631 rows × 7 columns</p>\n",
       "</div>"
      ],
      "text/plain": [
       "      Avg. Area Income  Avg. Area House Age  Avg. Area Number of Rooms  \\\n",
       "0         79545.458574             5.682861                   7.009188   \n",
       "1         79248.642455             6.002900                   6.730821   \n",
       "2         61287.067179             5.865890                   8.512727   \n",
       "3         63345.240046             7.188236                   5.586729   \n",
       "4         59982.197226             5.040555                   7.839388   \n",
       "...                ...                  ...                        ...   \n",
       "4995      60567.944140             7.830362                   6.137356   \n",
       "4996      78491.275435             6.999135                   6.576763   \n",
       "4997      63390.686886             7.250591                   4.805081   \n",
       "4998      68001.331235             5.534388                   7.130144   \n",
       "4999      65510.581804             5.992305                   6.792336   \n",
       "\n",
       "      Avg. Area Number of Bedrooms  Area Population         Price State  \n",
       "0                             4.09     23086.800503  1.059034e+06    NE  \n",
       "1                             3.09     40173.072174  1.505891e+06    CA  \n",
       "2                             5.13     36882.159400  1.058988e+06    WI  \n",
       "3                             3.26     34310.242831  1.260617e+06    US  \n",
       "4                             4.23     26354.109472  6.309435e+05    US  \n",
       "...                            ...              ...           ...   ...  \n",
       "4995                          3.46     22837.361035  1.060194e+06    US  \n",
       "4996                          4.02     25616.115489  1.482618e+06    PS  \n",
       "4997                          2.13     33266.145490  1.030730e+06    VA  \n",
       "4998                          5.44     42625.620156  1.198657e+06    US  \n",
       "4999                          4.07     46501.283803  1.298950e+06    NV  \n",
       "\n",
       "[4631 rows x 7 columns]"
      ]
     },
     "execution_count": 10,
     "metadata": {},
     "output_type": "execute_result"
    }
   ],
   "source": [
    "df.drop('Address', axis=1, inplace=True)\n",
    "df"
   ]
  },
  {
   "cell_type": "code",
   "execution_count": 11,
   "id": "69c29f17",
   "metadata": {},
   "outputs": [
    {
     "data": {
      "text/plain": [
       "State\n",
       "US    169\n",
       "PS    159\n",
       "DP    148\n",
       "OR     87\n",
       "GU     85\n",
       "     ... \n",
       "WI     62\n",
       "SC     61\n",
       "IL     59\n",
       "MD     59\n",
       "VI     49\n",
       "Name: count, Length: 62, dtype: int64"
      ]
     },
     "execution_count": 11,
     "metadata": {},
     "output_type": "execute_result"
    }
   ],
   "source": [
    "df['State'].value_counts()"
   ]
  },
  {
   "cell_type": "code",
   "execution_count": 12,
   "id": "ed79abdd",
   "metadata": {},
   "outputs": [
    {
     "name": "stderr",
     "output_type": "stream",
     "text": [
      "C:\\Users\\ramiz\\AppData\\Local\\Temp\\ipykernel_5152\\234061226.py:3: SettingWithCopyWarning: \n",
      "A value is trying to be set on a copy of a slice from a DataFrame.\n",
      "Try using .loc[row_indexer,col_indexer] = value instead\n",
      "\n",
      "See the caveats in the documentation: https://pandas.pydata.org/pandas-docs/stable/user_guide/indexing.html#returning-a-view-versus-a-copy\n",
      "  df['State'] = le.fit_transform(df['State'])\n"
     ]
    }
   ],
   "source": [
    "from sklearn.preprocessing import LabelEncoder\n",
    "le = LabelEncoder()\n",
    "df['State'] = le.fit_transform(df['State'])"
   ]
  },
  {
   "cell_type": "code",
   "execution_count": 13,
   "id": "13d1fff2",
   "metadata": {},
   "outputs": [],
   "source": [
    "from sklearn.preprocessing import StandardScaler\n",
    "\n",
    "scaler = StandardScaler()\n",
    "numerical_columns = df.select_dtypes(include=['float64', 'int32']).columns"
   ]
  },
  {
   "cell_type": "code",
   "execution_count": 14,
   "id": "a8a3c1c1",
   "metadata": {},
   "outputs": [
    {
     "name": "stdout",
     "output_type": "stream",
     "text": [
      "Mean Squared Error: 6.614715115170799e-20\n",
      "R-squared: 1.0\n"
     ]
    }
   ],
   "source": [
    "from sklearn.model_selection import train_test_split\n",
    "from sklearn.linear_model import LinearRegression\n",
    "from sklearn.metrics import mean_squared_error, r2_score\n",
    "\n",
    "X = df.drop('Price', axis=1)\n",
    "y = df['Price']\n",
    "\n",
    "X = scaler.fit_transform(df[numerical_columns])\n",
    "\n",
    "X_train, X_test, y_train, y_test = train_test_split(X, y, test_size=0.2, random_state=42)\n",
    "\n",
    "model = LinearRegression()\n",
    "model.fit(X_train, y_train)\n",
    "\n",
    "y_pred = model.predict(X_test)\n",
    "\n",
    "mse = mean_squared_error(y_test, y_pred)\n",
    "r2 = r2_score(y_test, y_pred)\n",
    "\n",
    "print(f\"Mean Squared Error: {mse}\")\n",
    "print(f\"R-squared: {r2}\")"
   ]
  },
  {
   "cell_type": "code",
   "execution_count": 15,
   "id": "d0db890c",
   "metadata": {},
   "outputs": [
    {
     "name": "stdout",
     "output_type": "stream",
     "text": [
      "            Actual     Predicted\n",
      "868   1.376638e+06  1.376638e+06\n",
      "1969  1.387988e+06  1.387988e+06\n",
      "2663  1.298981e+06  1.298981e+06\n",
      "2901  7.723102e+05  7.723102e+05\n",
      "36    1.233220e+06  1.233220e+06\n",
      "...            ...           ...\n",
      "2992  1.435262e+06  1.435262e+06\n",
      "387   1.343606e+06  1.343606e+06\n",
      "1352  1.435981e+06  1.435981e+06\n",
      "3353  7.163165e+05  7.163165e+05\n",
      "4662  1.571848e+06  1.571848e+06\n",
      "\n",
      "[927 rows x 2 columns]\n"
     ]
    }
   ],
   "source": [
    "comparison_df = pd.DataFrame({\n",
    "    'Actual': y_test,\n",
    "    'Predicted': y_pred\n",
    "})\n",
    "\n",
    "print(comparison_df)"
   ]
  },
  {
   "cell_type": "code",
   "execution_count": 16,
   "id": "37174fa5",
   "metadata": {},
   "outputs": [
    {
     "name": "stdout",
     "output_type": "stream",
     "text": [
      "Cross-Validation R² Scores: [1. 1. 1. 1. 1. 1. 1. 1. 1. 1.]\n",
      "Mean R²: 1.0\n"
     ]
    }
   ],
   "source": [
    "from sklearn.model_selection import cross_val_score\n",
    "cv_scores = cross_val_score(model, X, y, cv=10, scoring='r2')\n",
    "print(f\"Cross-Validation R² Scores: {cv_scores}\")\n",
    "print(f\"Mean R²: {cv_scores.mean()}\")"
   ]
  },
  {
   "cell_type": "code",
   "execution_count": 17,
   "id": "4856ee72",
   "metadata": {},
   "outputs": [
    {
     "data": {
      "image/png": "[encoded data removed]",
      "text/plain": [
       "<Figure size 640x480 with 1 Axes>"
      ]
     },
     "metadata": {},
     "output_type": "display_data"
    }
   ],
   "source": [
    "residuals = y_test - y_pred\n",
    "sns.histplot(residuals, kde=True)\n",
    "plt.title(\"Residuals Distribution\")\n",
    "plt.show()"
   ]
  }
 ],
 "metadata": {
  "kernelspec": {
   "display_name": "base",
   "language": "python",
   "name": "python3"
  },
  "language_info": {
   "codemirror_mode": {
    "name": "ipython",
    "version": 3
   },
   "file_extension": ".py",
   "mimetype": "text/x-python",
   "name": "python",
   "nbconvert_exporter": "python",
   "pygments_lexer": "ipython3",
   "version": "3.12.7"
  }
 },
 "nbformat": 4,
 "nbformat_minor": 5
}
