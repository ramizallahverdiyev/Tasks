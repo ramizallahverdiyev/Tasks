{
 "cells": [
  {
   "cell_type": "code",
   "execution_count": 1,
   "id": "7e58e0fe",
   "metadata": {},
   "outputs": [],
   "source": [
    "import re"
   ]
  },
  {
   "cell_type": "markdown",
   "id": "ce10b915",
   "metadata": {},
   "source": [
    "Question 1"
   ]
  },
  {
   "cell_type": "code",
   "execution_count": 2,
   "id": "b07e0562",
   "metadata": {},
   "outputs": [
    {
     "name": "stdout",
     "output_type": "stream",
     "text": [
      "['Azerbaijan', 'is', 'a', 'beautiful', 'country', 'with', 'unique', 'culture', 'and', 'history', 'inadkarlıq', 'Dəyər']\n"
     ]
    }
   ],
   "source": [
    "pattern = r'\\b\\w*[aıouəeiöü]\\w*\\b'\n",
    "text = \"Azerbaijan is a beautiful country with unique culture and history. Əzm inadkarlıq Dəyər.\"\n",
    "\n",
    "matches = re.findall(pattern, text)\n",
    "\n",
    "print(matches)"
   ]
  },
  {
   "cell_type": "markdown",
   "id": "7ea1d632",
   "metadata": {},
   "source": [
    "Question 2"
   ]
  },
  {
   "cell_type": "code",
   "execution_count": 3,
   "id": "c721826f",
   "metadata": {},
   "outputs": [
    {
     "name": "stdout",
     "output_type": "stream",
     "text": [
      "['Azerbaijan', 'country', 'history', 'Dəyər']\n"
     ]
    }
   ],
   "source": [
    "pattern = r'\\b[^aıouəeiöü\\s][\\w]*[aıouəeiöü][\\w]*[^aıouəeiöü\\s]\\b'\n",
    "\n",
    "text = \"Azerbaijan country  unique culture  history. Əzm inadkarlıq Dəyər.\"\n",
    "\n",
    "matches = re.findall(pattern, text)\n",
    "\n",
    "print(matches)"
   ]
  },
  {
   "cell_type": "markdown",
   "id": "7cd3203f",
   "metadata": {},
   "source": [
    "Question 3"
   ]
  },
  {
   "cell_type": "code",
   "execution_count": 4,
   "id": "bfadcb88",
   "metadata": {},
   "outputs": [
    {
     "name": "stdout",
     "output_type": "stream",
     "text": [
      "Does 'This is a test string 123' end with a number? Yes\n",
      "Does 'Another example without a number' end with a number? No\n"
     ]
    }
   ],
   "source": [
    "pattern = r'\\d+$'\n",
    "\n",
    "text1 = \"This is a test string 123\"\n",
    "text2 = \"Another example without a number\"\n",
    "\n",
    "match1 = re.search(pattern, text1)\n",
    "match2 = re.search(pattern, text2)\n",
    "\n",
    "print(f\"Does '{text1}' end with a number? {'Yes' if match1 else 'No'}\")\n",
    "print(f\"Does '{text2}' end with a number? {'Yes' if match2 else 'No'}\")"
   ]
  },
  {
   "cell_type": "markdown",
   "id": "8972472d",
   "metadata": {},
   "source": [
    "Question 4"
   ]
  },
  {
   "cell_type": "code",
   "execution_count": 5,
   "id": "ea829d48",
   "metadata": {},
   "outputs": [
    {
     "name": "stdout",
     "output_type": "stream",
     "text": [
      "Match in 'test string!': string!\n",
      "Match in 'Any?': Any?\n",
      "Match in 'Example': Example\n",
      "Match in 'Final test string': string\n"
     ]
    }
   ],
   "source": [
    "pattern = r'\\b\\w+\\b[!?]?$'\n",
    "\n",
    "text1 = \"test string!\"\n",
    "text2 = \"Any?\"\n",
    "text3 = \"Example\"\n",
    "text4 = \"Final test string\"\n",
    "\n",
    "match1 = re.search(pattern, text1)\n",
    "match2 = re.search(pattern, text2)\n",
    "match3 = re.search(pattern, text3)\n",
    "match4 = re.search(pattern, text4)\n",
    "\n",
    "print(f\"Match in '{text1}': {match1.group() if match1 else 'No match'}\")\n",
    "print(f\"Match in '{text2}': {match2.group() if match2 else 'No match'}\")\n",
    "print(f\"Match in '{text3}': {match3.group() if match3 else 'No match'}\")\n",
    "print(f\"Match in '{text4}': {match4.group() if match4 else 'No match'}\")"
   ]
  },
  {
   "cell_type": "markdown",
   "id": "e79d7d86",
   "metadata": {},
   "source": [
    "Question 5"
   ]
  },
  {
   "cell_type": "code",
   "execution_count": 6,
   "id": "d6b2b596",
   "metadata": {},
   "outputs": [
    {
     "name": "stdout",
     "output_type": "stream",
     "text": [
      "Text:  test\tstring with mixed\twhitespace and tabs.\n",
      "Replaced whitespaces with tabs: test\tstring\twith\tmixed\twhitespace\tand\ttabs.\n",
      "Replaced tabs with whitespaces: test string with mixed whitespace and tabs.\n"
     ]
    }
   ],
   "source": [
    "text = \"test\\tstring with mixed\\twhitespace and tabs.\"\n",
    "\n",
    "with_tabs = re.sub(r' ', '\\t', text)\n",
    "\n",
    "with_spaces = re.sub(r'\\t', ' ', text)\n",
    "\n",
    "print(\"Text: \", text)\n",
    "print(\"Replaced whitespaces with tabs:\", with_tabs)\n",
    "print(\"Replaced tabs with whitespaces:\", with_spaces)"
   ]
  },
  {
   "cell_type": "markdown",
   "id": "959269bd",
   "metadata": {},
   "source": [
    "Question 6"
   ]
  },
  {
   "cell_type": "code",
   "execution_count": 7,
   "id": "0f4ac5d4",
   "metadata": {},
   "outputs": [
    {
     "name": "stdout",
     "output_type": "stream",
     "text": [
      "['əzm', 'ümid']\n"
     ]
    }
   ],
   "source": [
    "import re\n",
    "\n",
    "pattern = r'\\b[əü]\\w*\\b'\n",
    "\n",
    "text = \"əzm ümid insan həyat. Üfüqdə imkanlar\"\n",
    "\n",
    "matches = re.findall(pattern, text)\n",
    "\n",
    "print(matches)"
   ]
  },
  {
   "cell_type": "markdown",
   "id": "23deaa4d",
   "metadata": {},
   "source": [
    "Question 7\n"
   ]
  },
  {
   "cell_type": "code",
   "execution_count": 8,
   "id": "b5fb829c",
   "metadata": {},
   "outputs": [
    {
     "name": "stdout",
     "output_type": "stream",
     "text": [
      "Text: This is a test string with mixed whitespace and tabs.\n",
      "Without whitespaces: Thisisateststringwithmixedwhitespaceandtabs.\n"
     ]
    }
   ],
   "source": [
    "text = \"This is a test string with mixed whitespace and tabs.\"\n",
    "\n",
    "no_whitespace = re.sub(r'\\s+', '', text)\n",
    "\n",
    "print(\"Text:\", text)\n",
    "print(\"Without whitespaces:\", no_whitespace)"
   ]
  },
  {
   "cell_type": "markdown",
   "id": "8ba91fc7",
   "metadata": {},
   "source": [
    "Question 8"
   ]
  },
  {
   "cell_type": "code",
   "execution_count": 9,
   "id": "8610adb4",
   "metadata": {},
   "outputs": [
    {
     "name": "stdout",
     "output_type": "stream",
     "text": [
      "['Azerbaijan', 'unique', 'culture', 'history']\n"
     ]
    }
   ],
   "source": [
    "pattern = r'\\b\\w{5,}\\b'\n",
    "\n",
    "text = \"Azerbaijan with unique culture and history.\"\n",
    "\n",
    "matches = re.findall(pattern, text)\n",
    "\n",
    "print(matches)"
   ]
  },
  {
   "cell_type": "markdown",
   "id": "39134c84",
   "metadata": {},
   "source": [
    "Question 9"
   ]
  },
  {
   "cell_type": "code",
   "execution_count": 10,
   "id": "f9e5ca6b",
   "metadata": {},
   "outputs": [
    {
     "name": "stdout",
     "output_type": "stream",
     "text": [
      "string: PythonProgrammingLanguage\n",
      "Formatted string: Python Programming Language\n"
     ]
    }
   ],
   "source": [
    "text = \"PythonProgrammingLanguage\"\n",
    "\n",
    "formatted_text = re.sub(r'(?<!^)([A-Z])', r' \\1', text)\n",
    "\n",
    "print(\"string:\", text)\n",
    "print(\"Formatted string:\", formatted_text)"
   ]
  }
 ],
 "metadata": {
  "kernelspec": {
   "display_name": "base",
   "language": "python",
   "name": "python3"
  },
  "language_info": {
   "codemirror_mode": {
    "name": "ipython",
    "version": 3
   },
   "file_extension": ".py",
   "mimetype": "text/x-python",
   "name": "python",
   "nbconvert_exporter": "python",
   "pygments_lexer": "ipython3",
   "version": "3.12.7"
  }
 },
 "nbformat": 4,
 "nbformat_minor": 5
}
