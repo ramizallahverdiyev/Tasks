{
 "cells": [
  {
   "cell_type": "markdown",
   "id": "5551765e",
   "metadata": {},
   "source": [
    "Question 1"
   ]
  },
  {
   "cell_type": "code",
   "execution_count": 1,
   "id": "34c0d4e6",
   "metadata": {},
   "outputs": [
    {
     "data": {
      "text/plain": [
       "array([0.        , 0.05263158, 0.10526316, 0.15789474, 0.21052632,\n",
       "       0.26315789, 0.31578947, 0.36842105, 0.42105263, 0.47368421,\n",
       "       0.52631579, 0.57894737, 0.63157895, 0.68421053, 0.73684211,\n",
       "       0.78947368, 0.84210526, 0.89473684, 0.94736842, 1.        ])"
      ]
     },
     "execution_count": 1,
     "metadata": {},
     "output_type": "execute_result"
    }
   ],
   "source": [
    "import numpy as np\n",
    "\n",
    "linspace = np.linspace(0, 1, 20)\n",
    "\n",
    "linspace"
   ]
  },
  {
   "cell_type": "markdown",
   "id": "ac9a7a7e",
   "metadata": {},
   "source": [
    "Question 2"
   ]
  },
  {
   "cell_type": "code",
   "execution_count": 2,
   "id": "f2d780f4",
   "metadata": {},
   "outputs": [
    {
     "name": "stdout",
     "output_type": "stream",
     "text": [
      "[[ 1  2  3  4  5]\n",
      " [ 6  7  8  9 10]\n",
      " [11 12 13 14 15]\n",
      " [16 17 18 19 20]\n",
      " [21 22 23 24 25]] \n",
      "\n",
      "[55 60 65 70 75]\n"
     ]
    }
   ],
   "source": [
    "matrix = np.arange(1, 26).reshape(5, 5)\n",
    "\n",
    "sum_ = matrix.sum(axis=0)\n",
    "\n",
    "print(matrix,'\\n')\n",
    "print(sum_)"
   ]
  },
  {
   "cell_type": "markdown",
   "id": "3c69ea4d",
   "metadata": {},
   "source": [
    "Question 3"
   ]
  },
  {
   "cell_type": "code",
   "execution_count": 3,
   "id": "30d9f929",
   "metadata": {},
   "outputs": [
    {
     "data": {
      "text/plain": [
       "array([[0.01, 0.02, 0.03, 0.04, 0.05, 0.06, 0.07, 0.08, 0.09, 0.1 ],\n",
       "       [0.11, 0.12, 0.13, 0.14, 0.15, 0.16, 0.17, 0.18, 0.19, 0.2 ],\n",
       "       [0.21, 0.22, 0.23, 0.24, 0.25, 0.26, 0.27, 0.28, 0.29, 0.3 ],\n",
       "       [0.31, 0.32, 0.33, 0.34, 0.35, 0.36, 0.37, 0.38, 0.39, 0.4 ],\n",
       "       [0.41, 0.42, 0.43, 0.44, 0.45, 0.46, 0.47, 0.48, 0.49, 0.5 ],\n",
       "       [0.51, 0.52, 0.53, 0.54, 0.55, 0.56, 0.57, 0.58, 0.59, 0.6 ],\n",
       "       [0.61, 0.62, 0.63, 0.64, 0.65, 0.66, 0.67, 0.68, 0.69, 0.7 ],\n",
       "       [0.71, 0.72, 0.73, 0.74, 0.75, 0.76, 0.77, 0.78, 0.79, 0.8 ],\n",
       "       [0.81, 0.82, 0.83, 0.84, 0.85, 0.86, 0.87, 0.88, 0.89, 0.9 ],\n",
       "       [0.91, 0.92, 0.93, 0.94, 0.95, 0.96, 0.97, 0.98, 0.99, 1.  ]])"
      ]
     },
     "execution_count": 3,
     "metadata": {},
     "output_type": "execute_result"
    }
   ],
   "source": [
    "matrix = np.linspace(0.01, 1, 100).reshape(10, 10)\n",
    "\n",
    "matrix"
   ]
  },
  {
   "cell_type": "markdown",
   "id": "45bdf090",
   "metadata": {},
   "source": [
    "Question 4"
   ]
  },
  {
   "cell_type": "code",
   "execution_count": 4,
   "id": "4322392e",
   "metadata": {},
   "outputs": [
    {
     "name": "stdout",
     "output_type": "stream",
     "text": [
      "[(b'Behram', b'Abbasov', 26, 85.) (b'Yusif', b'Abdullayev', 22, 92.)\n",
      " (b'Maryam', b'Mecidova', 19, 88.) (b'Vagif', b'Hesenzade', 24, 79.)]\n"
     ]
    }
   ],
   "source": [
    "student_dtype = np.dtype([('name', 'S20'), ('surname', 'S20'), ('age', 'i1'), ('mark', 'f4')])\n",
    "\n",
    "students = np.array([\n",
    "    ('Behram', 'Abbasov', 26, 85.0),\n",
    "    ('Yusif', 'Abdullayev', 22, 92.0),\n",
    "    ('Maryam', 'Mecidova', 19, 88.0),\n",
    "    ('Vagif', 'Hesenzade', 24, 79.0)\n",
    "], dtype=student_dtype)\n",
    "\n",
    "print(students)"
   ]
  },
  {
   "cell_type": "markdown",
   "id": "ffdda9da",
   "metadata": {},
   "source": [
    "Question 5"
   ]
  },
  {
   "cell_type": "code",
   "execution_count": 5,
   "id": "bbef0a9b",
   "metadata": {},
   "outputs": [
    {
     "name": "stdout",
     "output_type": "stream",
     "text": [
      "[[99 99 99 99 99 99 99 99 99 99]\n",
      " [99  1  0  0  0  0  0  0  0 99]\n",
      " [99  0  1  1  1  1  1  1  0 99]\n",
      " [99  0  1  0  0  0  0  1  0 99]\n",
      " [99  0  1  0  1  1  0  1  0 99]\n",
      " [99  0  1  0  1  1  0  1  0 99]\n",
      " [99  0  1  0  0  0  0  1  0 99]\n",
      " [99  0  1  1  1  1  1  1  0 99]\n",
      " [99  0  0  0  0  0  0  0  1 99]\n",
      " [99 99 99 99 99 99 99 99 99 99]]\n"
     ]
    }
   ],
   "source": [
    "array = np.array([\n",
    "    [99, 99, 99, 99, 99, 99, 99, 99, 99, 99],\n",
    "    [99,  1,  0,  0,  0,  0,  0,  0,  0, 99],\n",
    "    [99,  0,  1,  1,  1,  1,  1,  1,  0, 99],\n",
    "    [99,  0,  1,  0,  0,  0,  0,  1,  0, 99],\n",
    "    [99,  0,  1,  0,  1,  1,  0,  1,  0, 99],\n",
    "    [99,  0,  1,  0,  1,  1,  0,  1,  0, 99],\n",
    "    [99,  0,  1,  0,  0,  0,  0,  1,  0, 99],\n",
    "    [99,  0,  1,  1,  1,  1,  1,  1,  0, 99],\n",
    "    [99,  0,  0,  0,  0,  0,  0,  0,  1, 99],\n",
    "    [99, 99, 99, 99, 99, 99, 99, 99, 99, 99]\n",
    "])\n",
    "\n",
    "print(array)"
   ]
  }
 ],
 "metadata": {
  "kernelspec": {
   "display_name": "base",
   "language": "python",
   "name": "python3"
  },
  "language_info": {
   "codemirror_mode": {
    "name": "ipython",
    "version": 3
   },
   "file_extension": ".py",
   "mimetype": "text/x-python",
   "name": "python",
   "nbconvert_exporter": "python",
   "pygments_lexer": "ipython3",
   "version": "3.12.7"
  }
 },
 "nbformat": 4,
 "nbformat_minor": 5
}
