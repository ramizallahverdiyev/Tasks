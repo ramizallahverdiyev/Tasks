{
 "cells": [
  {
   "cell_type": "code",
   "execution_count": 2,
   "id": "1a9c8a14",
   "metadata": {},
   "outputs": [],
   "source": [
    "import numpy as np"
   ]
  },
  {
   "cell_type": "markdown",
   "id": "9410db03",
   "metadata": {},
   "source": [
    "Question 1"
   ]
  },
  {
   "cell_type": "code",
   "execution_count": 1,
   "id": "dfbf149c",
   "metadata": {},
   "outputs": [
    {
     "name": "stdout",
     "output_type": "stream",
     "text": [
      "[16, 17, 18, 19, 20, 21, 22, 23, 24, 25, 26, 27, 28, 29, 30, 31, 32, 33, 34, 35, 36, 37, 38, 39, 40, 41, 42, 43, 44, 45, 46, 47, 48, 49, 50, 51, 52, 53, 54]\n"
     ]
    }
   ],
   "source": [
    "vector = list(range(15, 56))\n",
    "\n",
    "print(vector[1:-1])"
   ]
  },
  {
   "cell_type": "markdown",
   "id": "9006bf38",
   "metadata": {},
   "source": [
    "Question 2"
   ]
  },
  {
   "cell_type": "code",
   "execution_count": 5,
   "id": "8848a439",
   "metadata": {},
   "outputs": [
    {
     "name": "stdout",
     "output_type": "stream",
     "text": [
      "[[5 5 5 5]\n",
      " [5 5 5 5]\n",
      " [5 5 5 5]]\n"
     ]
    }
   ],
   "source": [
    "array = np.full((3, 4), 5)\n",
    "\n",
    "print(array)"
   ]
  },
  {
   "cell_type": "markdown",
   "id": "86a663ef",
   "metadata": {},
   "source": [
    "Question 3"
   ]
  },
  {
   "cell_type": "code",
   "execution_count": 6,
   "id": "882b61cb",
   "metadata": {},
   "outputs": [
    {
     "name": "stdout",
     "output_type": "stream",
     "text": [
      "[[10 11 12]\n",
      " [13 14 15]\n",
      " [16 17 18]]\n"
     ]
    }
   ],
   "source": [
    "matrix = np.arange(10, 19).reshape(3, 3)\n",
    "\n",
    "print(matrix)"
   ]
  },
  {
   "cell_type": "markdown",
   "id": "a163d8b0",
   "metadata": {},
   "source": [
    "Question 4"
   ]
  },
  {
   "cell_type": "code",
   "execution_count": 7,
   "id": "590b9fb7",
   "metadata": {},
   "outputs": [
    {
     "name": "stdout",
     "output_type": "stream",
     "text": [
      "[[1 0 0 0 0]\n",
      " [0 2 0 0 0]\n",
      " [0 0 3 0 0]\n",
      " [0 0 0 4 0]\n",
      " [0 0 0 0 5]]\n"
     ]
    }
   ],
   "source": [
    "matrix = np.diag([1, 2, 3, 4, 5])\n",
    "\n",
    "print(matrix)"
   ]
  },
  {
   "cell_type": "markdown",
   "id": "cca807ff",
   "metadata": {},
   "source": [
    "Question 5"
   ]
  },
  {
   "cell_type": "code",
   "execution_count": 9,
   "id": "fc81b78b",
   "metadata": {},
   "outputs": [
    {
     "data": {
      "text/plain": [
       "array([ 0.,  0.,  0.,  0.,  0., 11.,  0.,  0.,  0.,  0.])"
      ]
     },
     "execution_count": 9,
     "metadata": {},
     "output_type": "execute_result"
    }
   ],
   "source": [
    "vector = np.zeros(10)\n",
    "\n",
    "vector[5] = 11\n",
    "\n",
    "vector"
   ]
  },
  {
   "cell_type": "markdown",
   "id": "82c2e7d8",
   "metadata": {},
   "source": [
    "Question 6"
   ]
  },
  {
   "cell_type": "code",
   "execution_count": 10,
   "id": "f08fbae7",
   "metadata": {},
   "outputs": [
    {
     "data": {
      "text/plain": [
       "array([1., 2., 3., 4., 5.])"
      ]
     },
     "execution_count": 10,
     "metadata": {},
     "output_type": "execute_result"
    }
   ],
   "source": [
    "array = np.array([1, 2, 3, 4, 5])\n",
    "\n",
    "float_array = np.asfarray(array)\n",
    "\n",
    "float_array"
   ]
  },
  {
   "cell_type": "markdown",
   "id": "f158dc35",
   "metadata": {},
   "source": [
    "Question 7"
   ]
  },
  {
   "cell_type": "code",
   "execution_count": 11,
   "id": "226f60ef",
   "metadata": {},
   "outputs": [
    {
     "data": {
      "text/plain": [
       "array([[ 3,  2,  1,  0],\n",
       "       [ 7,  6,  5,  4],\n",
       "       [11, 10,  9,  8]])"
      ]
     },
     "execution_count": 11,
     "metadata": {},
     "output_type": "execute_result"
    }
   ],
   "source": [
    "array = np.array([[0, 1, 2, 3],\n",
    "                  [4, 5, 6, 7],\n",
    "                  [8, 9, 10, 11]])\n",
    "\n",
    "\n",
    "new_array = array[:, ::-1]\n",
    "\n",
    "new_array"
   ]
  },
  {
   "cell_type": "markdown",
   "id": "29fada51",
   "metadata": {},
   "source": [
    "Question 8"
   ]
  },
  {
   "cell_type": "code",
   "execution_count": 15,
   "id": "44205ff5",
   "metadata": {},
   "outputs": [
    {
     "name": "stdout",
     "output_type": "stream",
     "text": [
      "Original Array: ['Hello' 'World' 'PyThOn']\n",
      "Capitalized: ['Hello' 'World' 'Python']\n",
      "Lowercased: ['hello' 'world' 'python']\n",
      "Uppercased: ['HELLO' 'WORLD' 'PYTHON']\n",
      "Swapcased: ['hELLO' 'wORLD' 'pYtHoN']\n",
      "Titlecased: ['Hello' 'World' 'Python']\n"
     ]
    }
   ],
   "source": [
    "array = np.array([\"Hello\", \"World\", \"PyThOn\"])\n",
    "\n",
    "capitalized = np.char.capitalize(array)\n",
    "lowercased = np.char.lower(array)\n",
    "uppercased = np.char.upper(array)\n",
    "swapcased = np.char.swapcase(array)\n",
    "titlecased = np.char.title(array)\n",
    "\n",
    "print(\"Original Array:\", array)\n",
    "print(\"Capitalized:\", capitalized)\n",
    "print(\"Lowercased:\", lowercased)\n",
    "print(\"Uppercased:\", uppercased)\n",
    "print(\"Swapcased:\", swapcased)\n",
    "print(\"Titlecased:\", titlecased)"
   ]
  },
  {
   "cell_type": "markdown",
   "id": "977e2d04",
   "metadata": {},
   "source": [
    "Question 9"
   ]
  },
  {
   "cell_type": "code",
   "execution_count": 18,
   "id": "7b706f7c",
   "metadata": {},
   "outputs": [
    {
     "name": "stdout",
     "output_type": "stream",
     "text": [
      "Today: 2025-04-22\n",
      "Yesterday: 2025-04-21\n",
      "Tomorrow: 2025-04-23\n"
     ]
    }
   ],
   "source": [
    "today = np.datetime64('today')\n",
    "yesterday = today - np.timedelta64(1, 'D')\n",
    "tomorrow = today + np.timedelta64(1, 'D')\n",
    "\n",
    "print(\"Today:\", today)\n",
    "print(\"Yesterday:\", yesterday)\n",
    "print(\"Tomorrow:\", tomorrow)"
   ]
  },
  {
   "cell_type": "markdown",
   "id": "06622353",
   "metadata": {},
   "source": [
    "Question 10"
   ]
  },
  {
   "cell_type": "code",
   "execution_count": 19,
   "id": "494ef07b",
   "metadata": {},
   "outputs": [
    {
     "name": "stdout",
     "output_type": "stream",
     "text": [
      "[10 20 30 40 50 60 70 80 90]\n"
     ]
    }
   ],
   "source": [
    "array = np.array([10, 20, 30])\n",
    "\n",
    "append = [40, 50, 60, 70, 80, 90]\n",
    "\n",
    "updated = np.append(array, append)\n",
    "\n",
    "print(updated)"
   ]
  }
 ],
 "metadata": {
  "kernelspec": {
   "display_name": "base",
   "language": "python",
   "name": "python3"
  },
  "language_info": {
   "codemirror_mode": {
    "name": "ipython",
    "version": 3
   },
   "file_extension": ".py",
   "mimetype": "text/x-python",
   "name": "python",
   "nbconvert_exporter": "python",
   "pygments_lexer": "ipython3",
   "version": "3.12.7"
  }
 },
 "nbformat": 4,
 "nbformat_minor": 5
}
