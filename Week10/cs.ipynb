{
 "cells": [
  {
   "cell_type": "code",
   "execution_count": 10,
   "id": "e7cbe519",
   "metadata": {},
   "outputs": [],
   "source": [
    "import pandas as pd\n",
    "import numpy as np\n",
    "\n",
    "import logging\n",
    "\n",
    "from prophet import Prophet\n",
    "from bayes_opt import BayesianOptimization\n",
    "from sklearn.metrics import mean_absolute_error\n",
    "\n",
    "logging.getLogger('prophet').setLevel(logging.ERROR)\n",
    "logging.getLogger('prophet').setLevel(logging.CRITICAL)\n",
    "logging.getLogger('cmdstanby').setLevel(logging.ERROR)\n",
    "logging.getLogger('cmdstanby').propagate = False\n",
    "logging.getLogger('cmdstanby').setLevel(logging.CRITICAL)"
   ]
  },
  {
   "cell_type": "code",
   "execution_count": 11,
   "id": "e1d5b45e",
   "metadata": {},
   "outputs": [
    {
     "data": {
      "application/vnd.microsoft.datawrangler.viewer.v0+json": {
       "columns": [
        {
         "name": "index",
         "rawType": "int64",
         "type": "integer"
        },
        {
         "name": "Date",
         "rawType": "object",
         "type": "string"
        },
        {
         "name": "Open",
         "rawType": "float64",
         "type": "float"
        },
        {
         "name": "High",
         "rawType": "float64",
         "type": "float"
        },
        {
         "name": "Low",
         "rawType": "float64",
         "type": "float"
        },
        {
         "name": "Close",
         "rawType": "float64",
         "type": "float"
        },
        {
         "name": "Adj Close",
         "rawType": "float64",
         "type": "float"
        },
        {
         "name": "Volume",
         "rawType": "int64",
         "type": "integer"
        }
       ],
       "ref": "4008d502-9d80-41a3-b3f1-5f09438d1fe9",
       "rows": [
        [
         "0",
         "2004-08-19",
         "50.050049",
         "52.082081",
         "48.028027",
         "50.220219",
         "50.220219",
         "44659096"
        ],
        [
         "1",
         "2004-08-20",
         "50.555557",
         "54.594597",
         "50.300301",
         "54.209209",
         "54.209209",
         "22834343"
        ]
       ],
       "shape": {
        "columns": 7,
        "rows": 2
       }
      },
      "text/html": [
       "<div>\n",
       "<style scoped>\n",
       "    .dataframe tbody tr th:only-of-type {\n",
       "        vertical-align: middle;\n",
       "    }\n",
       "\n",
       "    .dataframe tbody tr th {\n",
       "        vertical-align: top;\n",
       "    }\n",
       "\n",
       "    .dataframe thead th {\n",
       "        text-align: right;\n",
       "    }\n",
       "</style>\n",
       "<table border=\"1\" class=\"dataframe\">\n",
       "  <thead>\n",
       "    <tr style=\"text-align: right;\">\n",
       "      <th></th>\n",
       "      <th>Date</th>\n",
       "      <th>Open</th>\n",
       "      <th>High</th>\n",
       "      <th>Low</th>\n",
       "      <th>Close</th>\n",
       "      <th>Adj Close</th>\n",
       "      <th>Volume</th>\n",
       "    </tr>\n",
       "  </thead>\n",
       "  <tbody>\n",
       "    <tr>\n",
       "      <th>0</th>\n",
       "      <td>2004-08-19</td>\n",
       "      <td>50.050049</td>\n",
       "      <td>52.082081</td>\n",
       "      <td>48.028027</td>\n",
       "      <td>50.220219</td>\n",
       "      <td>50.220219</td>\n",
       "      <td>44659096</td>\n",
       "    </tr>\n",
       "    <tr>\n",
       "      <th>1</th>\n",
       "      <td>2004-08-20</td>\n",
       "      <td>50.555557</td>\n",
       "      <td>54.594597</td>\n",
       "      <td>50.300301</td>\n",
       "      <td>54.209209</td>\n",
       "      <td>54.209209</td>\n",
       "      <td>22834343</td>\n",
       "    </tr>\n",
       "  </tbody>\n",
       "</table>\n",
       "</div>"
      ],
      "text/plain": [
       "         Date       Open       High        Low      Close  Adj Close    Volume\n",
       "0  2004-08-19  50.050049  52.082081  48.028027  50.220219  50.220219  44659096\n",
       "1  2004-08-20  50.555557  54.594597  50.300301  54.209209  54.209209  22834343"
      ]
     },
     "execution_count": 11,
     "metadata": {},
     "output_type": "execute_result"
    }
   ],
   "source": [
    "df = pd.read_csv('GOOGLE.csv')\n",
    "\n",
    "df.head(2)"
   ]
  },
  {
   "cell_type": "code",
   "execution_count": 12,
   "id": "6cea8a64",
   "metadata": {},
   "outputs": [
    {
     "data": {
      "text/plain": [
       "4431"
      ]
     },
     "execution_count": 12,
     "metadata": {},
     "output_type": "execute_result"
    }
   ],
   "source": [
    "len(df)"
   ]
  },
  {
   "cell_type": "code",
   "execution_count": 13,
   "id": "079955de",
   "metadata": {},
   "outputs": [
    {
     "data": {
      "application/vnd.microsoft.datawrangler.viewer.v0+json": {
       "columns": [
        {
         "name": "index",
         "rawType": "int64",
         "type": "integer"
        },
        {
         "name": "ds",
         "rawType": "datetime64[ns]",
         "type": "datetime"
        },
        {
         "name": "y",
         "rawType": "float64",
         "type": "float"
        }
       ],
       "ref": "4067b99c-b494-4ca9-a1cd-6d293e18ca3f",
       "rows": [
        [
         "0",
         "2004-08-19 00:00:00",
         "50.220219"
        ],
        [
         "1",
         "2004-08-20 00:00:00",
         "54.209209"
        ],
        [
         "2",
         "2004-08-23 00:00:00",
         "54.754753"
        ],
        [
         "3",
         "2004-08-24 00:00:00",
         "52.487488"
        ],
        [
         "4",
         "2004-08-25 00:00:00",
         "53.053055"
        ],
        [
         "5",
         "2004-08-26 00:00:00",
         "54.00901"
        ],
        [
         "6",
         "2004-08-27 00:00:00",
         "53.128128"
        ],
        [
         "7",
         "2004-08-30 00:00:00",
         "51.056057"
        ],
        [
         "8",
         "2004-08-31 00:00:00",
         "51.236237"
        ],
        [
         "9",
         "2004-09-01 00:00:00",
         "50.175175"
        ],
        [
         "10",
         "2004-09-02 00:00:00",
         "50.805805"
        ],
        [
         "11",
         "2004-09-03 00:00:00",
         "50.055054"
        ],
        [
         "12",
         "2004-09-07 00:00:00",
         "50.840839"
        ],
        [
         "13",
         "2004-09-08 00:00:00",
         "51.201202"
        ],
        [
         "14",
         "2004-09-09 00:00:00",
         "51.206207"
        ],
        [
         "15",
         "2004-09-10 00:00:00",
         "52.717716"
        ],
        [
         "16",
         "2004-09-13 00:00:00",
         "53.803802"
        ],
        [
         "17",
         "2004-09-14 00:00:00",
         "55.8008"
        ],
        [
         "18",
         "2004-09-15 00:00:00",
         "56.056057"
        ],
        [
         "19",
         "2004-09-16 00:00:00",
         "57.042042"
        ],
        [
         "20",
         "2004-09-17 00:00:00",
         "58.803802"
        ],
        [
         "21",
         "2004-09-20 00:00:00",
         "59.739738"
        ],
        [
         "22",
         "2004-09-21 00:00:00",
         "58.978977"
        ],
        [
         "23",
         "2004-09-22 00:00:00",
         "59.249249"
        ],
        [
         "24",
         "2004-09-23 00:00:00",
         "60.47047"
        ],
        [
         "25",
         "2004-09-24 00:00:00",
         "59.974976"
        ],
        [
         "26",
         "2004-09-27 00:00:00",
         "59.18919"
        ],
        [
         "27",
         "2004-09-28 00:00:00",
         "63.493492"
        ],
        [
         "28",
         "2004-09-29 00:00:00",
         "65.605606"
        ],
        [
         "29",
         "2004-09-30 00:00:00",
         "64.864868"
        ],
        [
         "30",
         "2004-10-01 00:00:00",
         "66.356354"
        ],
        [
         "31",
         "2004-10-04 00:00:00",
         "67.597595"
        ],
        [
         "32",
         "2004-10-05 00:00:00",
         "69.254257"
        ],
        [
         "33",
         "2004-10-06 00:00:00",
         "68.608612"
        ],
        [
         "34",
         "2004-10-07 00:00:00",
         "69.494492"
        ],
        [
         "35",
         "2004-10-08 00:00:00",
         "68.933937"
        ],
        [
         "36",
         "2004-10-11 00:00:00",
         "67.697701"
        ],
        [
         "37",
         "2004-10-12 00:00:00",
         "68.768768"
        ],
        [
         "38",
         "2004-10-13 00:00:00",
         "70.520523"
        ],
        [
         "39",
         "2004-10-14 00:00:00",
         "71.071068"
        ],
        [
         "40",
         "2004-10-15 00:00:00",
         "72.127129"
        ],
        [
         "41",
         "2004-10-18 00:00:00",
         "74.654655"
        ],
        [
         "42",
         "2004-10-19 00:00:00",
         "74.044044"
        ],
        [
         "43",
         "2004-10-20 00:00:00",
         "70.315315"
        ],
        [
         "44",
         "2004-10-21 00:00:00",
         "74.764763"
        ],
        [
         "45",
         "2004-10-22 00:00:00",
         "86.3013"
        ],
        [
         "46",
         "2004-10-25 00:00:00",
         "93.793793"
        ],
        [
         "47",
         "2004-10-26 00:00:00",
         "90.99099"
        ],
        [
         "48",
         "2004-10-27 00:00:00",
         "93.078079"
        ],
        [
         "49",
         "2004-10-28 00:00:00",
         "96.74675"
        ]
       ],
       "shape": {
        "columns": 2,
        "rows": 4431
       }
      },
      "text/html": [
       "<div>\n",
       "<style scoped>\n",
       "    .dataframe tbody tr th:only-of-type {\n",
       "        vertical-align: middle;\n",
       "    }\n",
       "\n",
       "    .dataframe tbody tr th {\n",
       "        vertical-align: top;\n",
       "    }\n",
       "\n",
       "    .dataframe thead th {\n",
       "        text-align: right;\n",
       "    }\n",
       "</style>\n",
       "<table border=\"1\" class=\"dataframe\">\n",
       "  <thead>\n",
       "    <tr style=\"text-align: right;\">\n",
       "      <th></th>\n",
       "      <th>ds</th>\n",
       "      <th>y</th>\n",
       "    </tr>\n",
       "  </thead>\n",
       "  <tbody>\n",
       "    <tr>\n",
       "      <th>0</th>\n",
       "      <td>2004-08-19</td>\n",
       "      <td>50.220219</td>\n",
       "    </tr>\n",
       "    <tr>\n",
       "      <th>1</th>\n",
       "      <td>2004-08-20</td>\n",
       "      <td>54.209209</td>\n",
       "    </tr>\n",
       "    <tr>\n",
       "      <th>2</th>\n",
       "      <td>2004-08-23</td>\n",
       "      <td>54.754753</td>\n",
       "    </tr>\n",
       "    <tr>\n",
       "      <th>3</th>\n",
       "      <td>2004-08-24</td>\n",
       "      <td>52.487488</td>\n",
       "    </tr>\n",
       "    <tr>\n",
       "      <th>4</th>\n",
       "      <td>2004-08-25</td>\n",
       "      <td>53.053055</td>\n",
       "    </tr>\n",
       "    <tr>\n",
       "      <th>...</th>\n",
       "      <td>...</td>\n",
       "      <td>...</td>\n",
       "    </tr>\n",
       "    <tr>\n",
       "      <th>4426</th>\n",
       "      <td>2022-03-18</td>\n",
       "      <td>2722.510010</td>\n",
       "    </tr>\n",
       "    <tr>\n",
       "      <th>4427</th>\n",
       "      <td>2022-03-21</td>\n",
       "      <td>2722.030029</td>\n",
       "    </tr>\n",
       "    <tr>\n",
       "      <th>4428</th>\n",
       "      <td>2022-03-22</td>\n",
       "      <td>2797.360107</td>\n",
       "    </tr>\n",
       "    <tr>\n",
       "      <th>4429</th>\n",
       "      <td>2022-03-23</td>\n",
       "      <td>2765.510010</td>\n",
       "    </tr>\n",
       "    <tr>\n",
       "      <th>4430</th>\n",
       "      <td>2022-03-24</td>\n",
       "      <td>2831.439941</td>\n",
       "    </tr>\n",
       "  </tbody>\n",
       "</table>\n",
       "<p>4431 rows × 2 columns</p>\n",
       "</div>"
      ],
      "text/plain": [
       "             ds            y\n",
       "0    2004-08-19    50.220219\n",
       "1    2004-08-20    54.209209\n",
       "2    2004-08-23    54.754753\n",
       "3    2004-08-24    52.487488\n",
       "4    2004-08-25    53.053055\n",
       "...         ...          ...\n",
       "4426 2022-03-18  2722.510010\n",
       "4427 2022-03-21  2722.030029\n",
       "4428 2022-03-22  2797.360107\n",
       "4429 2022-03-23  2765.510010\n",
       "4430 2022-03-24  2831.439941\n",
       "\n",
       "[4431 rows x 2 columns]"
      ]
     },
     "execution_count": 13,
     "metadata": {},
     "output_type": "execute_result"
    }
   ],
   "source": [
    "df = df[['Date', 'Close']]\n",
    "df.columns = ['ds', 'y']\n",
    "df['ds'] = pd.to_datetime(df['ds'])\n",
    "df"
   ]
  },
  {
   "cell_type": "code",
   "execution_count": 14,
   "id": "f5d8b191",
   "metadata": {},
   "outputs": [],
   "source": [
    "# df = df[df['ds'] >= '2015-01-01']\n",
    "# df"
   ]
  },
  {
   "cell_type": "code",
   "execution_count": 17,
   "id": "c963c322",
   "metadata": {},
   "outputs": [],
   "source": [
    "train_size = int(len(df) * 0.95)\n",
    "train_df = df.iloc[:train_size]\n",
    "test_df = df.iloc[train_size:]"
   ]
  },
  {
   "cell_type": "code",
   "execution_count": 18,
   "id": "29c956df",
   "metadata": {},
   "outputs": [
    {
     "data": {
      "application/vnd.microsoft.datawrangler.viewer.v0+json": {
       "columns": [
        {
         "name": "index",
         "rawType": "int64",
         "type": "integer"
        },
        {
         "name": "ds",
         "rawType": "datetime64[ns]",
         "type": "datetime"
        },
        {
         "name": "y",
         "rawType": "float64",
         "type": "float"
        }
       ],
       "ref": "80b2446e-ec35-46a9-959c-08a2551fe33c",
       "rows": [
        [
         "4209",
         "2021-05-10 00:00:00",
         "2291.75"
        ],
        [
         "4210",
         "2021-05-11 00:00:00",
         "2270.060059"
        ],
        [
         "4211",
         "2021-05-12 00:00:00",
         "2200.25"
        ],
        [
         "4212",
         "2021-05-13 00:00:00",
         "2229.040039"
        ],
        [
         "4213",
         "2021-05-14 00:00:00",
         "2278.379883"
        ],
        [
         "4214",
         "2021-05-17 00:00:00",
         "2288.919922"
        ],
        [
         "4215",
         "2021-05-18 00:00:00",
         "2262.469971"
        ],
        [
         "4216",
         "2021-05-19 00:00:00",
         "2271.5"
        ],
        [
         "4217",
         "2021-05-20 00:00:00",
         "2306.949951"
        ],
        [
         "4218",
         "2021-05-21 00:00:00",
         "2294.129883"
        ],
        [
         "4219",
         "2021-05-24 00:00:00",
         "2361.040039"
        ],
        [
         "4220",
         "2021-05-25 00:00:00",
         "2362.870117"
        ],
        [
         "4221",
         "2021-05-26 00:00:00",
         "2380.310059"
        ],
        [
         "4222",
         "2021-05-27 00:00:00",
         "2362.679932"
        ],
        [
         "4223",
         "2021-05-28 00:00:00",
         "2356.850098"
        ],
        [
         "4224",
         "2021-06-01 00:00:00",
         "2381.179932"
        ],
        [
         "4225",
         "2021-06-02 00:00:00",
         "2370.590088"
        ],
        [
         "4226",
         "2021-06-03 00:00:00",
         "2347.580078"
        ],
        [
         "4227",
         "2021-06-04 00:00:00",
         "2393.570068"
        ],
        [
         "4228",
         "2021-06-07 00:00:00",
         "2402.300049"
        ],
        [
         "4229",
         "2021-06-08 00:00:00",
         "2398.439941"
        ],
        [
         "4230",
         "2021-06-09 00:00:00",
         "2407.939941"
        ],
        [
         "4231",
         "2021-06-10 00:00:00",
         "2435.129883"
        ],
        [
         "4232",
         "2021-06-11 00:00:00",
         "2430.199951"
        ],
        [
         "4233",
         "2021-06-14 00:00:00",
         "2448.909912"
        ],
        [
         "4234",
         "2021-06-15 00:00:00",
         "2428.389893"
        ],
        [
         "4235",
         "2021-06-16 00:00:00",
         "2415.449951"
        ],
        [
         "4236",
         "2021-06-17 00:00:00",
         "2434.870117"
        ],
        [
         "4237",
         "2021-06-18 00:00:00",
         "2402.219971"
        ],
        [
         "4238",
         "2021-06-21 00:00:00",
         "2436.25"
        ],
        [
         "4239",
         "2021-06-22 00:00:00",
         "2446.610107"
        ],
        [
         "4240",
         "2021-06-23 00:00:00",
         "2442.540039"
        ],
        [
         "4241",
         "2021-06-24 00:00:00",
         "2450.0"
        ],
        [
         "4242",
         "2021-06-25 00:00:00",
         "2450.169922"
        ],
        [
         "4243",
         "2021-06-28 00:00:00",
         "2450.719971"
        ],
        [
         "4244",
         "2021-06-29 00:00:00",
         "2445.449951"
        ],
        [
         "4245",
         "2021-06-30 00:00:00",
         "2441.790039"
        ],
        [
         "4246",
         "2021-07-01 00:00:00",
         "2448.889893"
        ],
        [
         "4247",
         "2021-07-02 00:00:00",
         "2505.149902"
        ],
        [
         "4248",
         "2021-07-06 00:00:00",
         "2523.800049"
        ],
        [
         "4249",
         "2021-07-07 00:00:00",
         "2529.47998"
        ],
        [
         "4250",
         "2021-07-08 00:00:00",
         "2500.879883"
        ],
        [
         "4251",
         "2021-07-09 00:00:00",
         "2510.370117"
        ],
        [
         "4252",
         "2021-07-12 00:00:00",
         "2539.51001"
        ],
        [
         "4253",
         "2021-07-13 00:00:00",
         "2546.830078"
        ],
        [
         "4254",
         "2021-07-14 00:00:00",
         "2564.73999"
        ],
        [
         "4255",
         "2021-07-15 00:00:00",
         "2540.100098"
        ],
        [
         "4256",
         "2021-07-16 00:00:00",
         "2539.399902"
        ],
        [
         "4257",
         "2021-07-19 00:00:00",
         "2491.560059"
        ],
        [
         "4258",
         "2021-07-20 00:00:00",
         "2524.189941"
        ]
       ],
       "shape": {
        "columns": 2,
        "rows": 222
       }
      },
      "text/html": [
       "<div>\n",
       "<style scoped>\n",
       "    .dataframe tbody tr th:only-of-type {\n",
       "        vertical-align: middle;\n",
       "    }\n",
       "\n",
       "    .dataframe tbody tr th {\n",
       "        vertical-align: top;\n",
       "    }\n",
       "\n",
       "    .dataframe thead th {\n",
       "        text-align: right;\n",
       "    }\n",
       "</style>\n",
       "<table border=\"1\" class=\"dataframe\">\n",
       "  <thead>\n",
       "    <tr style=\"text-align: right;\">\n",
       "      <th></th>\n",
       "      <th>ds</th>\n",
       "      <th>y</th>\n",
       "    </tr>\n",
       "  </thead>\n",
       "  <tbody>\n",
       "    <tr>\n",
       "      <th>4209</th>\n",
       "      <td>2021-05-10</td>\n",
       "      <td>2291.750000</td>\n",
       "    </tr>\n",
       "    <tr>\n",
       "      <th>4210</th>\n",
       "      <td>2021-05-11</td>\n",
       "      <td>2270.060059</td>\n",
       "    </tr>\n",
       "    <tr>\n",
       "      <th>4211</th>\n",
       "      <td>2021-05-12</td>\n",
       "      <td>2200.250000</td>\n",
       "    </tr>\n",
       "    <tr>\n",
       "      <th>4212</th>\n",
       "      <td>2021-05-13</td>\n",
       "      <td>2229.040039</td>\n",
       "    </tr>\n",
       "    <tr>\n",
       "      <th>4213</th>\n",
       "      <td>2021-05-14</td>\n",
       "      <td>2278.379883</td>\n",
       "    </tr>\n",
       "    <tr>\n",
       "      <th>...</th>\n",
       "      <td>...</td>\n",
       "      <td>...</td>\n",
       "    </tr>\n",
       "    <tr>\n",
       "      <th>4426</th>\n",
       "      <td>2022-03-18</td>\n",
       "      <td>2722.510010</td>\n",
       "    </tr>\n",
       "    <tr>\n",
       "      <th>4427</th>\n",
       "      <td>2022-03-21</td>\n",
       "      <td>2722.030029</td>\n",
       "    </tr>\n",
       "    <tr>\n",
       "      <th>4428</th>\n",
       "      <td>2022-03-22</td>\n",
       "      <td>2797.360107</td>\n",
       "    </tr>\n",
       "    <tr>\n",
       "      <th>4429</th>\n",
       "      <td>2022-03-23</td>\n",
       "      <td>2765.510010</td>\n",
       "    </tr>\n",
       "    <tr>\n",
       "      <th>4430</th>\n",
       "      <td>2022-03-24</td>\n",
       "      <td>2831.439941</td>\n",
       "    </tr>\n",
       "  </tbody>\n",
       "</table>\n",
       "<p>222 rows × 2 columns</p>\n",
       "</div>"
      ],
      "text/plain": [
       "             ds            y\n",
       "4209 2021-05-10  2291.750000\n",
       "4210 2021-05-11  2270.060059\n",
       "4211 2021-05-12  2200.250000\n",
       "4212 2021-05-13  2229.040039\n",
       "4213 2021-05-14  2278.379883\n",
       "...         ...          ...\n",
       "4426 2022-03-18  2722.510010\n",
       "4427 2022-03-21  2722.030029\n",
       "4428 2022-03-22  2797.360107\n",
       "4429 2022-03-23  2765.510010\n",
       "4430 2022-03-24  2831.439941\n",
       "\n",
       "[222 rows x 2 columns]"
      ]
     },
     "execution_count": 18,
     "metadata": {},
     "output_type": "execute_result"
    }
   ],
   "source": [
    "test_df"
   ]
  },
  {
   "cell_type": "code",
   "execution_count": 19,
   "id": "68e760d5",
   "metadata": {},
   "outputs": [
    {
     "name": "stdout",
     "output_type": "stream",
     "text": [
      "|   iter    |  target   | change... | holida... | season... |\n",
      "-------------------------------------------------------------\n"
     ]
    },
    {
     "name": "stderr",
     "output_type": "stream",
     "text": [
      "10:13:52 - cmdstanpy - INFO - Chain [1] start processing\n",
      "10:13:54 - cmdstanpy - INFO - Chain [1] done processing\n"
     ]
    },
    {
     "name": "stdout",
     "output_type": "stream",
     "text": [
      "| \u001b[39m1        \u001b[39m | \u001b[39m-859.3   \u001b[39m | \u001b[39m0.1879   \u001b[39m | \u001b[39m9.508    \u001b[39m | \u001b[39m7.323    \u001b[39m |\n"
     ]
    },
    {
     "name": "stderr",
     "output_type": "stream",
     "text": [
      "10:13:54 - cmdstanpy - INFO - Chain [1] start processing\n",
      "10:13:56 - cmdstanpy - INFO - Chain [1] done processing\n"
     ]
    },
    {
     "name": "stdout",
     "output_type": "stream",
     "text": [
      "| \u001b[35m2        \u001b[39m | \u001b[35m-858.4   \u001b[39m | \u001b[35m0.2997   \u001b[39m | \u001b[35m1.569    \u001b[39m | \u001b[35m1.568    \u001b[39m |\n"
     ]
    },
    {
     "name": "stderr",
     "output_type": "stream",
     "text": [
      "10:13:57 - cmdstanpy - INFO - Chain [1] start processing\n",
      "10:13:58 - cmdstanpy - INFO - Chain [1] done processing\n"
     ]
    },
    {
     "name": "stdout",
     "output_type": "stream",
     "text": [
      "| \u001b[39m3        \u001b[39m | \u001b[39m-880.5   \u001b[39m | \u001b[39m0.02998  \u001b[39m | \u001b[39m8.663    \u001b[39m | \u001b[39m6.015    \u001b[39m |\n"
     ]
    },
    {
     "name": "stderr",
     "output_type": "stream",
     "text": [
      "10:13:59 - cmdstanpy - INFO - Chain [1] start processing\n",
      "10:14:00 - cmdstanpy - INFO - Chain [1] done processing\n"
     ]
    },
    {
     "name": "stdout",
     "output_type": "stream",
     "text": [
      "| \u001b[35m4        \u001b[39m | \u001b[35m-857.8   \u001b[39m | \u001b[35m0.3543   \u001b[39m | \u001b[35m0.2156   \u001b[39m | \u001b[35m9.699    \u001b[39m |\n"
     ]
    },
    {
     "name": "stderr",
     "output_type": "stream",
     "text": [
      "10:14:01 - cmdstanpy - INFO - Chain [1] start processing\n",
      "10:14:02 - cmdstanpy - INFO - Chain [1] done processing\n"
     ]
    },
    {
     "name": "stdout",
     "output_type": "stream",
     "text": [
      "| \u001b[39m5        \u001b[39m | \u001b[39m-858.2   \u001b[39m | \u001b[39m0.4164   \u001b[39m | \u001b[39m2.131    \u001b[39m | \u001b[39m1.826    \u001b[39m |\n"
     ]
    },
    {
     "name": "stderr",
     "output_type": "stream",
     "text": [
      "10:14:03 - cmdstanpy - INFO - Chain [1] start processing\n",
      "10:14:05 - cmdstanpy - INFO - Chain [1] done processing\n"
     ]
    },
    {
     "name": "stdout",
     "output_type": "stream",
     "text": [
      "| \u001b[35m6        \u001b[39m | \u001b[35m-857.8   \u001b[39m | \u001b[35m0.3393   \u001b[39m | \u001b[35m10.0     \u001b[39m | \u001b[35m8.576    \u001b[39m |\n"
     ]
    },
    {
     "name": "stderr",
     "output_type": "stream",
     "text": [
      "10:14:06 - cmdstanpy - INFO - Chain [1] start processing\n",
      "10:14:08 - cmdstanpy - INFO - Chain [1] done processing\n"
     ]
    },
    {
     "name": "stdout",
     "output_type": "stream",
     "text": [
      "| \u001b[39m7        \u001b[39m | \u001b[39m-858.2   \u001b[39m | \u001b[39m0.4367   \u001b[39m | \u001b[39m0.256    \u001b[39m | \u001b[39m7.963    \u001b[39m |\n"
     ]
    },
    {
     "name": "stderr",
     "output_type": "stream",
     "text": [
      "10:14:09 - cmdstanpy - INFO - Chain [1] start processing\n",
      "10:14:10 - cmdstanpy - INFO - Chain [1] done processing\n"
     ]
    },
    {
     "name": "stdout",
     "output_type": "stream",
     "text": [
      "| \u001b[39m8        \u001b[39m | \u001b[39m-872.4   \u001b[39m | \u001b[39m0.04949  \u001b[39m | \u001b[39m1.836    \u001b[39m | \u001b[39m8.924    \u001b[39m |\n"
     ]
    },
    {
     "name": "stderr",
     "output_type": "stream",
     "text": [
      "10:14:11 - cmdstanpy - INFO - Chain [1] start processing\n",
      "10:14:12 - cmdstanpy - INFO - Chain [1] done processing\n"
     ]
    },
    {
     "name": "stdout",
     "output_type": "stream",
     "text": [
      "| \u001b[35m9        \u001b[39m | \u001b[35m-857.6   \u001b[39m | \u001b[35m0.5      \u001b[39m | \u001b[35m8.775    \u001b[39m | \u001b[35m8.548    \u001b[39m |\n"
     ]
    },
    {
     "name": "stderr",
     "output_type": "stream",
     "text": [
      "10:14:13 - cmdstanpy - INFO - Chain [1] start processing\n",
      "10:14:13 - cmdstanpy - INFO - Chain [1] done processing\n"
     ]
    },
    {
     "name": "stdout",
     "output_type": "stream",
     "text": [
      "| \u001b[39m10       \u001b[39m | \u001b[39m-999.3   \u001b[39m | \u001b[39m0.001    \u001b[39m | \u001b[39m9.165    \u001b[39m | \u001b[39m9.982    \u001b[39m |\n"
     ]
    },
    {
     "name": "stderr",
     "output_type": "stream",
     "text": [
      "10:14:14 - cmdstanpy - INFO - Chain [1] start processing\n",
      "10:14:16 - cmdstanpy - INFO - Chain [1] done processing\n"
     ]
    },
    {
     "name": "stdout",
     "output_type": "stream",
     "text": [
      "| \u001b[35m11       \u001b[39m | \u001b[35m-857.6   \u001b[39m | \u001b[35m0.5      \u001b[39m | \u001b[35m8.066    \u001b[39m | \u001b[35m7.613    \u001b[39m |\n"
     ]
    },
    {
     "name": "stderr",
     "output_type": "stream",
     "text": [
      "10:14:17 - cmdstanpy - INFO - Chain [1] start processing\n",
      "10:14:18 - cmdstanpy - INFO - Chain [1] done processing\n"
     ]
    },
    {
     "name": "stdout",
     "output_type": "stream",
     "text": [
      "| \u001b[39m12       \u001b[39m | \u001b[39m-857.6   \u001b[39m | \u001b[39m0.4943   \u001b[39m | \u001b[39m1.194    \u001b[39m | \u001b[39m3.116    \u001b[39m |\n"
     ]
    },
    {
     "name": "stderr",
     "output_type": "stream",
     "text": [
      "10:14:19 - cmdstanpy - INFO - Chain [1] start processing\n",
      "10:14:20 - cmdstanpy - INFO - Chain [1] done processing\n"
     ]
    },
    {
     "name": "stdout",
     "output_type": "stream",
     "text": [
      "| \u001b[39m13       \u001b[39m | \u001b[39m-994.6   \u001b[39m | \u001b[39m0.001    \u001b[39m | \u001b[39m2.684    \u001b[39m | \u001b[39m3.456    \u001b[39m |\n"
     ]
    },
    {
     "name": "stderr",
     "output_type": "stream",
     "text": [
      "10:14:21 - cmdstanpy - INFO - Chain [1] start processing\n",
      "10:14:22 - cmdstanpy - INFO - Chain [1] done processing\n"
     ]
    },
    {
     "name": "stdout",
     "output_type": "stream",
     "text": [
      "| \u001b[39m14       \u001b[39m | \u001b[39m-858.0   \u001b[39m | \u001b[39m0.4936   \u001b[39m | \u001b[39m0.2785   \u001b[39m | \u001b[39m2.321    \u001b[39m |\n"
     ]
    },
    {
     "name": "stderr",
     "output_type": "stream",
     "text": [
      "10:14:23 - cmdstanpy - INFO - Chain [1] start processing\n",
      "10:14:25 - cmdstanpy - INFO - Chain [1] done processing\n"
     ]
    },
    {
     "name": "stdout",
     "output_type": "stream",
     "text": [
      "| \u001b[39m15       \u001b[39m | \u001b[39m-857.6   \u001b[39m | \u001b[39m0.5      \u001b[39m | \u001b[39m0.01     \u001b[39m | \u001b[39m3.728    \u001b[39m |\n"
     ]
    },
    {
     "name": "stderr",
     "output_type": "stream",
     "text": [
      "10:14:26 - cmdstanpy - INFO - Chain [1] start processing\n",
      "10:14:27 - cmdstanpy - INFO - Chain [1] done processing\n"
     ]
    },
    {
     "name": "stdout",
     "output_type": "stream",
     "text": [
      "| \u001b[35m16       \u001b[39m | \u001b[35m-856.4   \u001b[39m | \u001b[35m0.4155   \u001b[39m | \u001b[35m2.614    \u001b[39m | \u001b[35m0.3898   \u001b[39m |\n"
     ]
    },
    {
     "name": "stderr",
     "output_type": "stream",
     "text": [
      "10:14:28 - cmdstanpy - INFO - Chain [1] start processing\n",
      "10:14:30 - cmdstanpy - INFO - Chain [1] done processing\n"
     ]
    },
    {
     "name": "stdout",
     "output_type": "stream",
     "text": [
      "| \u001b[35m17       \u001b[39m | \u001b[35m-855.5   \u001b[39m | \u001b[35m0.5      \u001b[39m | \u001b[35m1.04     \u001b[39m | \u001b[35m0.01     \u001b[39m |\n"
     ]
    },
    {
     "name": "stderr",
     "output_type": "stream",
     "text": [
      "10:14:31 - cmdstanpy - INFO - Chain [1] start processing\n",
      "10:14:32 - cmdstanpy - INFO - Chain [1] done processing\n"
     ]
    },
    {
     "name": "stdout",
     "output_type": "stream",
     "text": [
      "| \u001b[39m18       \u001b[39m | \u001b[39m-857.8   \u001b[39m | \u001b[39m0.5      \u001b[39m | \u001b[39m0.01     \u001b[39m | \u001b[39m6.194    \u001b[39m |\n"
     ]
    },
    {
     "name": "stderr",
     "output_type": "stream",
     "text": [
      "10:14:33 - cmdstanpy - INFO - Chain [1] start processing\n",
      "10:14:35 - cmdstanpy - INFO - Chain [1] done processing\n"
     ]
    },
    {
     "name": "stdout",
     "output_type": "stream",
     "text": [
      "| \u001b[39m19       \u001b[39m | \u001b[39m-858.3   \u001b[39m | \u001b[39m0.489    \u001b[39m | \u001b[39m1.559    \u001b[39m | \u001b[39m6.863    \u001b[39m |\n"
     ]
    },
    {
     "name": "stderr",
     "output_type": "stream",
     "text": [
      "10:14:36 - cmdstanpy - INFO - Chain [1] start processing\n",
      "10:14:37 - cmdstanpy - INFO - Chain [1] done processing\n"
     ]
    },
    {
     "name": "stdout",
     "output_type": "stream",
     "text": [
      "| \u001b[39m20       \u001b[39m | \u001b[39m-855.5   \u001b[39m | \u001b[39m0.5      \u001b[39m | \u001b[39m4.273    \u001b[39m | \u001b[39m0.01     \u001b[39m |\n"
     ]
    },
    {
     "name": "stderr",
     "output_type": "stream",
     "text": [
      "10:14:38 - cmdstanpy - INFO - Chain [1] start processing\n",
      "10:14:39 - cmdstanpy - INFO - Chain [1] done processing\n"
     ]
    },
    {
     "name": "stdout",
     "output_type": "stream",
     "text": [
      "| \u001b[39m21       \u001b[39m | \u001b[39m-968.8   \u001b[39m | \u001b[39m0.001    \u001b[39m | \u001b[39m5.781    \u001b[39m | \u001b[39m0.01     \u001b[39m |\n"
     ]
    },
    {
     "name": "stderr",
     "output_type": "stream",
     "text": [
      "10:14:40 - cmdstanpy - INFO - Chain [1] start processing\n",
      "10:14:41 - cmdstanpy - INFO - Chain [1] done processing\n"
     ]
    },
    {
     "name": "stdout",
     "output_type": "stream",
     "text": [
      "| \u001b[39m22       \u001b[39m | \u001b[39m-857.6   \u001b[39m | \u001b[39m0.5      \u001b[39m | \u001b[39m3.68     \u001b[39m | \u001b[39m1.136    \u001b[39m |\n"
     ]
    },
    {
     "name": "stderr",
     "output_type": "stream",
     "text": [
      "10:14:42 - cmdstanpy - INFO - Chain [1] start processing\n",
      "10:14:42 - cmdstanpy - INFO - Chain [1] done processing\n"
     ]
    },
    {
     "name": "stdout",
     "output_type": "stream",
     "text": [
      "| \u001b[39m23       \u001b[39m | \u001b[39m-996.3   \u001b[39m | \u001b[39m0.001    \u001b[39m | \u001b[39m0.01     \u001b[39m | \u001b[39m0.7593   \u001b[39m |\n"
     ]
    },
    {
     "name": "stderr",
     "output_type": "stream",
     "text": [
      "10:14:44 - cmdstanpy - INFO - Chain [1] start processing\n",
      "10:14:44 - cmdstanpy - INFO - Chain [1] done processing\n"
     ]
    },
    {
     "name": "stdout",
     "output_type": "stream",
     "text": [
      "| \u001b[39m24       \u001b[39m | \u001b[39m-1.001e+0\u001b[39m | \u001b[39m0.001    \u001b[39m | \u001b[39m0.5751   \u001b[39m | \u001b[39m6.992    \u001b[39m |\n"
     ]
    },
    {
     "name": "stderr",
     "output_type": "stream",
     "text": [
      "10:14:45 - cmdstanpy - INFO - Chain [1] start processing\n",
      "10:14:47 - cmdstanpy - INFO - Chain [1] done processing\n"
     ]
    },
    {
     "name": "stdout",
     "output_type": "stream",
     "text": [
      "| \u001b[39m25       \u001b[39m | \u001b[39m-859.2   \u001b[39m | \u001b[39m0.1652   \u001b[39m | \u001b[39m9.631    \u001b[39m | \u001b[39m5.057    \u001b[39m |\n",
      "=============================================================\n",
      "Best parameters found :  {'changepoint_prior_scale': np.float64(0.5), 'holidays_prior_scale': np.float64(1.0396418535260181), 'seasonality_prior_scale': np.float64(0.01)}\n"
     ]
    }
   ],
   "source": [
    "def prophet_cv(changepoint_prior_scale, seasonality_prior_scale, holidays_prior_scale):\n",
    "    \n",
    "    model = Prophet(\n",
    "        changepoint_prior_scale=changepoint_prior_scale,\n",
    "        seasonality_prior_scale=seasonality_prior_scale,\n",
    "        holidays_prior_scale=holidays_prior_scale\n",
    "    )\n",
    "    \n",
    "    model.fit(train_df)\n",
    "    future = model.make_future_dataframe(periods=len(test_df))\n",
    "    forecast = model.predict(future)\n",
    "    \n",
    "    y_pred = forecast['yhat'].iloc[-len(test_df):].values\n",
    "    y_true = test_df['y'].values    \n",
    "    mae = mean_absolute_error(y_true, y_pred)\n",
    "    \n",
    "    return -mae\n",
    "\n",
    "pbounds = {\n",
    "    'changepoint_prior_scale': (0.001, 0.5),\n",
    "    'seasonality_prior_scale': (0.01, 10),\n",
    "    'holidays_prior_scale': (0.01, 10)\n",
    "}\n",
    "\n",
    "\n",
    "optimizer = BayesianOptimization(\n",
    "    f=prophet_cv,\n",
    "    pbounds=pbounds,\n",
    "    random_state=42,\n",
    ")\n",
    "\n",
    "optimizer.maximize(\n",
    "    init_points=5,\n",
    "    n_iter=20,\n",
    ")\n",
    "\n",
    "best_params = optimizer.max['params']\n",
    "print(\"Best parameters found : \", best_params)"
   ]
  },
  {
   "cell_type": "code",
   "execution_count": 20,
   "id": "df657435",
   "metadata": {},
   "outputs": [
    {
     "name": "stderr",
     "output_type": "stream",
     "text": [
      "10:18:15 - cmdstanpy - INFO - Chain [1] start processing\n",
      "10:18:17 - cmdstanpy - INFO - Chain [1] done processing\n"
     ]
    },
    {
     "data": {
      "image/png": "[encoded data removed]",
      "text/plain": [
       "<Figure size 1000x600 with 1 Axes>"
      ]
     },
     "execution_count": 20,
     "metadata": {},
     "output_type": "execute_result"
    },
    {
     "data": {
      "image/png": "[encoded data removed]",
      "text/plain": [
       "<Figure size 1000x600 with 1 Axes>"
      ]
     },
     "metadata": {},
     "output_type": "display_data"
    }
   ],
   "source": [
    "final_model = Prophet(\n",
    "    changepoint_prior_scale=best_params['changepoint_prior_scale'],\n",
    "    seasonality_prior_scale=best_params['seasonality_prior_scale'],\n",
    "    holidays_prior_scale=best_params['holidays_prior_scale']\n",
    ")\n",
    "\n",
    "final_model.fit(df) # Fit on the entire dataset\n",
    "future = final_model.make_future_dataframe(periods=365) # Forecast for 1 year (365 days)\n",
    "forecast = final_model.predict(future)\n",
    "\n",
    "fig_prophet = final_model.plot(forecast) # Prophet's built-in plot"
   ]
  },
  {
   "cell_type": "code",
   "execution_count": 21,
   "id": "21b5436c",
   "metadata": {},
   "outputs": [
    {
     "data": {
      "image/png": "[encoded data removed]",
      "text/plain": [
       "<Figure size 1000x600 with 1 Axes>"
      ]
     },
     "metadata": {},
     "output_type": "display_data"
    }
   ],
   "source": [
    "import matplotlib.pyplot as plt\n",
    "\n",
    "forecasted_data = forecast[forecast['ds'] >df['ds'].max()][['ds', 'yhat']]\n",
    "\n",
    "last_365_actual = df[-365:]\n",
    "\n",
    "plt.figure(figsize=(10, 6))\n",
    "plt.plot(last_365_actual['ds'], last_365_actual['y'], label='Actual Data', color='blue')\n",
    "plt.plot(forecasted_data['ds'], forecasted_data['yhat'], label='Forecated Data', color='orange')\n",
    "plt.xlabel('Date')\n",
    "plt.ylabel('Value')\n",
    "plt.title('Actual vs Forecasted Data')\n",
    "plt.legend()\n",
    "plt.grid(True)\n",
    "plt.show()"
   ]
  }
 ],
 "metadata": {
  "kernelspec": {
   "display_name": ".venv",
   "language": "python",
   "name": "python3"
  },
  "language_info": {
   "codemirror_mode": {
    "name": "ipython",
    "version": 3
   },
   "file_extension": ".py",
   "mimetype": "text/x-python",
   "name": "python",
   "nbconvert_exporter": "python",
   "pygments_lexer": "ipython3",
   "version": "3.12.9"
  }
 },
 "nbformat": 4,
 "nbformat_minor": 5
}
