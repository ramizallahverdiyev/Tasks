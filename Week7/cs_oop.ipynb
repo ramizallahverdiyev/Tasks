{
 "cells": [
  {
   "cell_type": "code",
   "execution_count": 46,
   "id": "a74a1aec",
   "metadata": {},
   "outputs": [],
   "source": [
    "class Car():\n",
    "    vehicle_type = \"Land Vehicle\"\n",
    "    wheels = 4\n",
    "    windscreen = \"Glass\"\n",
    "\n",
    "    def __init__(self, speed, year, mpg):\n",
    "        self.speed = speed\n",
    "        self.year = year\n",
    "        self.mpg = mpg\n",
    "\n",
    "    def accelerate(self,increment):\n",
    "        self.speed += increment\n",
    "    \n",
    "    def brake(self,decrement):\n",
    "        self.speed -= decrement\n",
    "        if self.speed < 0:\n",
    "            self.speed = 0\n",
    "\n",
    "class Vehicle(Car):\n",
    "    pass\n",
    "\n",
    "class Bus(Vehicle):\n",
    "    pass\n"
   ]
  },
  {
   "cell_type": "code",
   "execution_count": 47,
   "id": "b107a061",
   "metadata": {},
   "outputs": [],
   "source": [
    "car_1 = Car(30, 2020, 1000)\n",
    "car_2 = Car(15, 2016, 1600)"
   ]
  },
  {
   "cell_type": "code",
   "execution_count": 48,
   "id": "7c66a094",
   "metadata": {},
   "outputs": [
    {
     "name": "stdout",
     "output_type": "stream",
     "text": [
      "Land Vehicle\n",
      "Glass\n"
     ]
    }
   ],
   "source": [
    "print(car_1.vehicle_type)\n",
    "print(car_2.windscreen)"
   ]
  },
  {
   "cell_type": "code",
   "execution_count": 49,
   "id": "bb896389",
   "metadata": {},
   "outputs": [],
   "source": [
    "car_1.accelerate(10)\n",
    "car_2.brake(5)"
   ]
  },
  {
   "cell_type": "code",
   "execution_count": 50,
   "id": "7b13a54e",
   "metadata": {},
   "outputs": [
    {
     "name": "stdout",
     "output_type": "stream",
     "text": [
      "Car 1 speed: 40\n",
      "Car 2 speed: 10\n"
     ]
    }
   ],
   "source": [
    "print('Car 1 speed:', car_1.speed)\n",
    "print('Car 2 speed:', car_2.speed)"
   ]
  },
  {
   "cell_type": "code",
   "execution_count": 51,
   "id": "bc4112a2",
   "metadata": {},
   "outputs": [],
   "source": [
    "vehicle_1 = Vehicle(50, 2022, 1200)"
   ]
  },
  {
   "cell_type": "code",
   "execution_count": 52,
   "id": "def1c372",
   "metadata": {},
   "outputs": [
    {
     "name": "stdout",
     "output_type": "stream",
     "text": [
      "Vehiicle_1 Year:  2022\n",
      "Vehicle_1 Speed:  50\n",
      "Vehicle_1 MPG:  1200\n"
     ]
    }
   ],
   "source": [
    "print('Vehiicle_1 Year: ',vehicle_1.year)\n",
    "print('Vehicle_1 Speed: ',vehicle_1.speed)\n",
    "print('Vehicle_1 MPG: ',vehicle_1.mpg)"
   ]
  },
  {
   "cell_type": "code",
   "execution_count": 53,
   "id": "198e499b",
   "metadata": {},
   "outputs": [],
   "source": [
    "bus_1 = Bus(40, 2021, 800)"
   ]
  },
  {
   "cell_type": "code",
   "execution_count": 54,
   "id": "123dc976",
   "metadata": {},
   "outputs": [
    {
     "name": "stdout",
     "output_type": "stream",
     "text": [
      "Bus_1 Year:  2021\n",
      "Bus_1 Speed:  40\n",
      "Bus_1 MPG:  800\n"
     ]
    }
   ],
   "source": [
    "print('Bus_1 Year: ', bus_1.year)\n",
    "print('Bus_1 Speed: ', bus_1.speed)\n",
    "print('Bus_1 MPG: ', bus_1.mpg)"
   ]
  }
 ],
 "metadata": {
  "kernelspec": {
   "display_name": ".venv",
   "language": "python",
   "name": "python3"
  },
  "language_info": {
   "codemirror_mode": {
    "name": "ipython",
    "version": 3
   },
   "file_extension": ".py",
   "mimetype": "text/x-python",
   "name": "python",
   "nbconvert_exporter": "python",
   "pygments_lexer": "ipython3",
   "version": "3.12.9"
  }
 },
 "nbformat": 4,
 "nbformat_minor": 5
}
