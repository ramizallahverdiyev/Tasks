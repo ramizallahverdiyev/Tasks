{
 "cells": [
  {
   "cell_type": "code",
   "execution_count": 1,
   "id": "0303916f",
   "metadata": {},
   "outputs": [],
   "source": [
    "class Vehicle:\n",
    "    def __init__(self, maxspeed, color):\n",
    "        self.maxspeed = maxspeed\n",
    "        self.color = color\n",
    "\n",
    "    def print_details(self):\n",
    "        print(f\"Max Speed: {self.maxspeed}, Color: {self.color}\")\n",
    "\n",
    "    @property\n",
    "    def default_color(self):\n",
    "        return \"White\""
   ]
  },
  {
   "cell_type": "code",
   "execution_count": 2,
   "id": "da98a6bf",
   "metadata": {},
   "outputs": [],
   "source": [
    "class Car(Vehicle):\n",
    "    pass"
   ]
  },
  {
   "cell_type": "code",
   "execution_count": 3,
   "id": "e7016b22",
   "metadata": {},
   "outputs": [],
   "source": [
    "class Train(Vehicle):\n",
    "    def __init__(self, maxspeed, color, seating_capacity):\n",
    "        super().__init__(maxspeed, color)\n",
    "        self.seating_capacity = seating_capacity\n",
    "\n",
    "    def calculate_fare(self):\n",
    "        base_fare = self.seating_capacity * 35\n",
    "        maintenance_charge = base_fare * 0.10\n",
    "        return base_fare + maintenance_charge"
   ]
  },
  {
   "cell_type": "code",
   "execution_count": 4,
   "id": "c59ea734",
   "metadata": {},
   "outputs": [],
   "source": [
    "def determine_class(obj):\n",
    "    print(f\"The object belongs to the class: {obj.__class__.__name__}\")"
   ]
  },
  {
   "cell_type": "code",
   "execution_count": 5,
   "id": "bbe60a90",
   "metadata": {},
   "outputs": [
    {
     "name": "stdout",
     "output_type": "stream",
     "text": [
      "Max Speed: 120, Color: Red\n",
      "Default Color: White\n"
     ]
    }
   ],
   "source": [
    "vehicle = Vehicle(120, \"Red\")\n",
    "vehicle.print_details()\n",
    "print(f\"Default Color: {vehicle.default_color}\")"
   ]
  },
  {
   "cell_type": "code",
   "execution_count": 6,
   "id": "79be61b3",
   "metadata": {},
   "outputs": [
    {
     "name": "stdout",
     "output_type": "stream",
     "text": [
      "Max Speed: 180, Color: Blue\n",
      "The object belongs to the class: Car\n"
     ]
    }
   ],
   "source": [
    "car = Car(180, \"Blue\")\n",
    "car.print_details()\n",
    "determine_class(car)"
   ]
  },
  {
   "cell_type": "code",
   "execution_count": 7,
   "id": "2e12ab7a",
   "metadata": {},
   "outputs": [
    {
     "name": "stdout",
     "output_type": "stream",
     "text": [
      "Max Speed: 100, Color: Green\n",
      "Train Fare: 7700.0\n",
      "The object belongs to the class: Train\n"
     ]
    }
   ],
   "source": [
    "train = Train(100, \"Green\", 200)\n",
    "train.print_details()\n",
    "print(f\"Train Fare: {train.calculate_fare()}\")\n",
    "determine_class(train)"
   ]
  }
 ],
 "metadata": {
  "kernelspec": {
   "display_name": ".venv",
   "language": "python",
   "name": "python3"
  },
  "language_info": {
   "codemirror_mode": {
    "name": "ipython",
    "version": 3
   },
   "file_extension": ".py",
   "mimetype": "text/x-python",
   "name": "python",
   "nbconvert_exporter": "python",
   "pygments_lexer": "ipython3",
   "version": "3.12.9"
  }
 },
 "nbformat": 4,
 "nbformat_minor": 5
}
